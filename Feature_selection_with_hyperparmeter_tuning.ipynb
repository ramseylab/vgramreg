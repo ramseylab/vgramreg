{
 "cells": [
  {
   "cell_type": "code",
   "execution_count": 1,
   "id": "2044d80b-afdb-437f-b2a8-bb9605250b01",
   "metadata": {},
   "outputs": [],
   "source": [
    "import pandas as pd\n",
    "import numpy as np\n",
    "import pickle\n",
    "from sklearn.gaussian_process.kernels import Matern, RBF\n",
    "\n",
    "from sklearn.base import clone\n",
    "from sklearn.linear_model import LinearRegression\n",
    "from sklearn.metrics import r2_score, make_scorer\n",
    "from sklearn.base import BaseEstimator\n",
    "from sklearn.model_selection import KFold\n",
    "from sklearn.model_selection import GridSearchCV\n",
    "\n",
    "from typing import Tuple\n",
    "\n",
    "from src.load_models import select_model\n",
    "from src.load_dataset import load_dataset\n",
    "from src.config import models_features_r2, models_features_per, model_name_conversion\n",
    "from src.graph_visualization import visualize_highest_score_feature_selection, feature_selection_tabularize, visualization_testing_dataset\n",
    "\n",
    "from src.utils import find_adj_score, calculate_y_LOD, per_error"
   ]
  },
  {
   "cell_type": "code",
   "execution_count": 60,
   "id": "36a38919-bc8c-4adf-84c0-9b42b816e722",
   "metadata": {},
   "outputs": [],
   "source": [
    "param_grids = {'SVM':{\n",
    "                    'C': [1, 10, 15, 20, 100],\n",
    "                    'gamma': [0.0001, 0.0005, 0.001, 0.005, 0.01],\n",
    "                    'kernel': ['rbf']},\n",
    "              \n",
    "              'RF': {\n",
    "                    'n_estimators': [80, 100, 120],\n",
    "                    'max_depth': [5, 10, 15],\n",
    "                    'min_samples_split': [6, 8, 10, 16,20],\n",
    "                    'min_samples_leaf': [2,4,6] \n",
    "                     },\n",
    "              \n",
    "              'KNN': {\n",
    "                        'n_neighbors': [3, 5, 6, 7, 8, 9],\n",
    "                        'weights': ['uniform', 'distance'],\n",
    "                        'metric': ['euclidean', 'manhattan']\n",
    "                    },\n",
    "              \n",
    "              'GP': {'kernel': [1.0 * RBF(length_scale=1.0), \n",
    "                                1.0 * RBF(length_scale=0.5), \n",
    "                                1.0 * RBF(length_scale=1.5), \n",
    "                                1.0 * RBF(length_scale=2.0),\n",
    "                                1.0 * RBF(length_scale=2.5),\n",
    "                                1.0 * Matern(length_scale=1.0, nu=1.5)],\n",
    "                     'alpha': [0.001, 0.01, 0.1, 1, 1.5, 2, 2.5]},\n",
    "               'Ridge': {'alpha': [0.0001, 0.0005, 0.001, 0.003, 0.005, 0.01, 0.1, 1.0]},\n",
    "               'Lasso': {'alpha': [0.00001, 0.00003, 0.00005, 0.0001, 0.0003, 0.0005, 0.001]}\n",
    "              }"
   ]
  },
  {
   "cell_type": "code",
   "execution_count": 61,
   "id": "49e78430-f9a7-49f1-a3bf-ea3f888a4ee0",
   "metadata": {},
   "outputs": [],
   "source": [
    "class ModelSelectionEnsemble():\n",
    "    def __init__(self, model_name:str, X_train:pd.DataFrame, y_train:pd.Series):\n",
    "        self.X_train, self.y_train = X_train, y_train\n",
    "        self.model = select_model(model_name)\n",
    "        self.selectd_features = []\n",
    "    \n",
    "        self.y_LOD = calculate_y_LOD(self.X_train, self.y_train) \n",
    "\n",
    "    def save(self, path:str) -> None:\n",
    "        with open(path, 'wb') as f:\n",
    "            pickle.dump(self.model, path) \n",
    "\n",
    "    def find_score(self, kf:KFold, features:list) -> np.ndarray:\n",
    "        return np.array(self.calculate_r2_score(self.model, self.X_train[features], self.y_train, kf))\n",
    "    \n",
    "    def find_per_diff(self, kf:KFold, features:list) -> np.ndarray:\n",
    "        return np.array(self.calculate_per_diff(self.model, self.X_train[features], self.y_train, kf))\n",
    "    \n",
    "    def calculate_per_diff(self, model:BaseEstimator, X:pd.DataFrame, y:pd.Series, kf:KFold) -> np.ndarray:\n",
    "        per_diff_all = []\n",
    "        \n",
    "        for train_index, test_index in kf.split(X):\n",
    "            model_ = clone(model)\n",
    "            \n",
    "            # Split the data into training and testing sets\n",
    "            X_train, X_test = X.iloc[train_index], X.iloc[test_index]\n",
    "            y_train, y_test = y.to_numpy()[train_index], y.to_numpy()[test_index]\n",
    "        \n",
    "            model_.fit(X_train, y_train)\n",
    "            \n",
    "            mask           = (y_test != 0)    # Non Zero Concentration\n",
    "            zero_mask      = ~(mask)          # Zero Concentration\n",
    "\n",
    "            y_pred         = model_.predict(X_test)\n",
    "            y_pred         = np.maximum(y_pred, 0.0)\n",
    "\n",
    "            # Only for non zero concentration\n",
    "            non_zero_per_error = np.abs(y_test[mask] - y_pred[mask])/(0.5*(y_test[mask] + y_pred[mask]))\n",
    "           \n",
    "            # zero concentration\n",
    "            zero_per_error     = np.abs(y_test[zero_mask] - y_pred[zero_mask]) / self.y_LOD\n",
    "\n",
    "            assert not(np.isnan(zero_per_error).any())\n",
    "            assert not(np.isnan(non_zero_per_error).any())\n",
    "\n",
    "            per_error         = np.concatenate((non_zero_per_error, zero_per_error))\n",
    "            per_error         = np.mean(per_error) * 100\n",
    "\n",
    "            assert not(np.isnan(per_error)) # To check if any output is invalid or nan\n",
    "            per_diff_all.append(per_error)\n",
    "\n",
    "        \n",
    "        return np.array(per_diff_all).mean()\n",
    "    \n",
    "\n",
    "    def calculate_r2_score(self, model:BaseEstimator, X:pd.DataFrame, y:pd.Series, kf:KFold) -> np.ndarray:\n",
    "        scores, adj_scores = [], []\n",
    "\n",
    "        for train_index, test_index in kf.split(X):\n",
    "            model_ = clone(model)\n",
    "            \n",
    "            # Split the data into training and testing sets\n",
    "            X_train, X_test = X.iloc[train_index], X.iloc[test_index]\n",
    "            y_train, y_test = y.to_numpy()[train_index], y.to_numpy()[test_index]\n",
    "        \n",
    "            model_.fit(X_train, y_train)\n",
    "            \n",
    "            y_pred         = model_.predict(X_test)\n",
    "            y_pred         = np.maximum(y_pred, 0.0)\n",
    "\n",
    "            score          = r2_score(y_test, y_pred)\n",
    "\n",
    "            adj_score      = find_adj_score(len(y_pred), X_train.shape[1], score) # N, P, R2 score\n",
    "\n",
    "            scores.append(score)\n",
    "            adj_scores.append(adj_score)\n",
    "\n",
    "        return np.array(scores).mean(), np.array(adj_scores).mean()\n",
    "    \n",
    "    def fit(self, features:list) -> None:\n",
    "        self.model.fit(self.X_train[features], self.y_train)\n",
    "\n",
    "    # def find_best_features_backward(self, data:tuple, is_r2_score:bool) -> list:\n",
    "\n",
    "    #     X_train, X_test, y_train, y_test = data\n",
    "\n",
    "        \n",
    "    #     all_features            = self.X_train.columns.values\n",
    "    #     self.selected_features  = all_features.copy().tolist()\n",
    "    #     all_feature_scores      = []\n",
    "\n",
    "    #     model = clone(self.model)\n",
    "    #     model.fit(X_train, y_train)\n",
    "        \n",
    "    #     y_pred = model.predict(X_test)\n",
    "\n",
    "    #     best_score              = self.calculate_r2_score(y_pred, y_test) if is_r2_score else \\\n",
    "    #                               self.calculate_per_diff(y_pred, y_test)\n",
    "\n",
    "    #     best_param              = None\n",
    "        \n",
    "    #     flag                    = False\n",
    "\n",
    "        \n",
    "    #     scorer = make_scorer(r2_score , greater_is_better=True) if is_r2_score \\\n",
    "    #              else make_scorer(per_error , y_LOD=self.y_LOD, greater_is_better=False)\n",
    "\n",
    "    #     while len(self.selected_features) != 0:\n",
    "    #         one_line_score    = []\n",
    "    #         one_line_features = []\n",
    "    #         best_parameters   = []\n",
    "            \n",
    "    #         for feature in all_features:\n",
    "    #             if feature in self.selected_features: \n",
    "    #                 testing_feature = [i for i in self.selected_features if i != feature] # Remove the feature from the set\n",
    "                    \n",
    "    #                 estimator = clone(self.model)\n",
    "\n",
    "    #                 grid_search = GridSearchCV(estimator=estimator, param_grid=param_grids[model_name], cv=5, verbose=1, n_jobs=-1, scoring=scorer)\n",
    "    \n",
    "    #                 # Fit the grid search to the data\n",
    "    #                 grid_search.fit(X_train[testing_feature], y_train)\n",
    "\n",
    "    #                 model  = grid_search.best_estimator_\n",
    "    #                 y_pred = model.predict(X_test[testing_feature])\n",
    "                    \n",
    "    #                 if is_r2_score:\n",
    "    #                     score = self.calculate_r2_score(y_pred, y_test)\n",
    "    #                 else:  \n",
    "    #                     score = self.calculate_per_diff(y_pred, y_test)\n",
    "                    \n",
    "    #                 one_line_score.append(score)\n",
    "    #                 one_line_features.append(feature)\n",
    "    #                 best_parameters.append(grid_search.best_params_)\n",
    "           \n",
    "    #         one_line_score = np.array(one_line_score) if is_r2_score else one_line_score\n",
    "            \n",
    "    #         if is_r2_score==True:\n",
    "    #             best_socre_ind      = np.argmax(one_line_score[:,1])\n",
    "    #             one_line_best_score = one_line_score[best_socre_ind]\n",
    "                \n",
    "\n",
    "    #         else:\n",
    "    #             best_socre_ind, one_line_best_score = np.argmin(one_line_score), np.min(one_line_score)\n",
    "\n",
    "    #         sel_one_line_feature    = one_line_features[best_socre_ind] \n",
    "\n",
    "    #         temp = {}\n",
    "    #         for key, score in zip(one_line_features, one_line_score):\n",
    "    #             # key = [i for i in self.selected_features if i != key]\n",
    "    #             temp[str(key)] = score\n",
    "\n",
    "    #         if is_r2_score:\n",
    "    #             if one_line_best_score[0] > best_score[0]:\n",
    "    #                 best_score = one_line_best_score\n",
    "    #                 best_param = best_parameters[best_socre_ind] \n",
    "    #                 self.selected_features.remove(sel_one_line_feature)\n",
    "    #                 all_feature_scores.append(temp)\n",
    "    #                 flag = False\n",
    "\n",
    "    #             else: flag = True\n",
    "                        \n",
    "    #         else:\n",
    "    #             if one_line_best_score <= best_score:\n",
    "    #                 best_score = one_line_best_score\n",
    "    #                 self.selected_features.remove(sel_one_line_feature)\n",
    "    #                 best_param = best_parameters[best_socre_ind] \n",
    "    #                 all_feature_scores.append(temp)\n",
    "    #                 flag = False\n",
    "\n",
    "    #             else: flag = True\n",
    "\n",
    "    #         if flag: break\n",
    "        \n",
    "    #     return best_score, self.selected_features, best_param\n",
    "\n",
    "    def find_best_features_forward(self, kf:KFold, is_r2_score:float) -> list:\n",
    "        \n",
    "        estimator = clone(self.model)\n",
    "    \n",
    "        all_features            = self.X_train.columns.values\n",
    "        self.selected_features  = []\n",
    "        self.all_feature_scores = []\n",
    "        best_parameters         = []\n",
    "    \n",
    "        best_score        = [0, 0] if is_r2_score else 100.0\n",
    "        flag              = False\n",
    "    \n",
    "        scorer = make_scorer(r2_score , greater_is_better=True) if is_r2_score \\\n",
    "                 else make_scorer(per_error , y_LOD=self.y_LOD, greater_is_better=False)\n",
    "    \n",
    "        while len(self.selected_features) != len(all_features):\n",
    "            one_line_score    = []\n",
    "            one_line_features = []\n",
    "            \n",
    "            for feature in all_features:\n",
    "                \n",
    "                if feature not in self.selected_features:\n",
    "                    testing_feature = self.selected_features + [feature]\n",
    "    \n",
    "                    # Select best parameters for the given feature combination\n",
    "                    grid_search = GridSearchCV(estimator=estimator, param_grid=param_grids[model_name], cv=kf, verbose=1, n_jobs=-1, scoring=scorer)\n",
    "                    grid_search.fit(X_train[testing_feature], y_train)\n",
    "    \n",
    "                    best_param  = grid_search.best_params_\n",
    "    \n",
    "                    model = clone(self.model)\n",
    "                    model.set_params(**best_param)\n",
    "    \n",
    "                    # # Calculate the score\n",
    "                    # if is_r2_score:\n",
    "                    #     score = self.calculate_r2_score(model, self.X_train[testing_feature], self.y_train, kf)\n",
    "                    # else:  \n",
    "                    #     score = self.calculate_per_diff(model, self.X_train[testing_feature], self.y_train, kf)\n",
    "\n",
    "                    score = abs(grid_search.best_score_)\n",
    "                    \n",
    "                    one_line_score.append(score)\n",
    "                    one_line_features.append(feature)\n",
    "                    best_parameters.append(best_param)\n",
    "           \n",
    "            one_line_score = np.array(one_line_score) if is_r2_score else one_line_score\n",
    "            \n",
    "            if is_r2_score==True:\n",
    "                best_socre_ind      = np.argmax(one_line_score[:,0])\n",
    "                one_line_best_score = one_line_score[best_socre_ind]\n",
    "    \n",
    "            else:\n",
    "                best_socre_ind, one_line_best_score = np.argmin(one_line_score), np.min(one_line_score)\n",
    "    \n",
    "            sel_one_line_feature    = one_line_features[best_socre_ind] \n",
    "    \n",
    "            temp = {}\n",
    "            for key, score in zip(one_line_features, one_line_score):\n",
    "                key = self.selected_features + [key]\n",
    "                temp[str(key)] = score\n",
    "                \n",
    "            if is_r2_score:\n",
    "                if one_line_best_score[0] > best_score[0]:\n",
    "                    best_score = one_line_best_score\n",
    "                    best_param = best_parameters[best_socre_ind]\n",
    "                    self.selected_features.append(sel_one_line_feature)\n",
    "                    self.all_feature_scores.append(temp)\n",
    "                    flag = False\n",
    "    \n",
    "                else: flag = True\n",
    "                        \n",
    "            else:\n",
    "                if one_line_best_score <= best_score:\n",
    "                    best_score = one_line_best_score\n",
    "                    best_param = best_parameters[best_socre_ind]\n",
    "                    self.selected_features.append(sel_one_line_feature)\n",
    "                    self.all_feature_scores.append(temp)\n",
    "                    flag = False\n",
    "    \n",
    "                else: flag = True\n",
    "    \n",
    "            if flag: break\n",
    "        \n",
    "        return best_score, self.selected_features, best_param\n",
    "\n",
    "    def find_best_features(self, kf:KFold, r2_score:float) -> list:\n",
    "            model = clone(self.model)\n",
    "    \n",
    "            all_features           = self.X_train.columns.values\n",
    "            self.selected_features = []\n",
    "            self.all_feature_scores = []\n",
    "    \n",
    "            best_score        = [0, 0] if r2_score else 100.0\n",
    "            flag              = False\n",
    "    \n",
    "            while len(self.selected_features) != len(all_features):\n",
    "                one_line_score    = []\n",
    "                one_line_features = []\n",
    "                \n",
    "                for feature in all_features:\n",
    "                    \n",
    "                    if feature not in self.selected_features:\n",
    "                        testing_feature = self.selected_features + [feature]\n",
    "                        \n",
    "                        if r2_score:\n",
    "                            score = self.calculate_r2_score(model, self.X_train[testing_feature], self.y_train, kf)\n",
    "                        else:  \n",
    "                            score = self.calculate_per_diff(model, self.X_train[testing_feature], self.y_train, kf)\n",
    "                        \n",
    "                        one_line_score.append(score)\n",
    "                        one_line_features.append(feature)\n",
    "               \n",
    "                one_line_score = np.array(one_line_score) if r2_score else one_line_score\n",
    "                \n",
    "                if r2_score==True:\n",
    "                    best_socre_ind      = np.argmax(one_line_score[:,0])\n",
    "                    one_line_best_score = one_line_score[best_socre_ind]\n",
    "    \n",
    "                else:\n",
    "                    best_socre_ind, one_line_best_score = np.argmin(one_line_score), np.min(one_line_score)\n",
    "    \n",
    "                sel_one_line_feature    = one_line_features[best_socre_ind] \n",
    "    \n",
    "                temp = {}\n",
    "                for key, score in zip(one_line_features, one_line_score):\n",
    "                    key = self.selected_features + [key]\n",
    "                    temp[str(key)] = score\n",
    "                    \n",
    "                if r2_score:\n",
    "                    if one_line_best_score[0] > best_score[0]:\n",
    "                        best_score = one_line_best_score\n",
    "                        self.selected_features.append(sel_one_line_feature)\n",
    "                        self.all_feature_scores.append(temp)\n",
    "                        flag = False\n",
    "    \n",
    "                    else: flag = True\n",
    "                            \n",
    "                else:\n",
    "                    if one_line_best_score <= best_score:\n",
    "                        best_score = one_line_best_score\n",
    "                        self.selected_features.append(sel_one_line_feature)\n",
    "                        self.all_feature_scores.append(temp)\n",
    "                        flag = False\n",
    "    \n",
    "                    else: flag = True\n",
    "    \n",
    "                if flag: break\n",
    "            \n",
    "            self.best_score = best_score\n",
    "            return best_score, self.selected_features, model.get_params()\n"
   ]
  },
  {
   "cell_type": "code",
   "execution_count": 62,
   "id": "2e5c2f61-5512-4389-871e-bd32b29ba846",
   "metadata": {},
   "outputs": [
    {
     "name": "stdout",
     "output_type": "stream",
     "text": [
      "######Data Distribution:#########\n",
      "Training {0: 50, 16: 50, 8: 47}\n",
      "Testing {0: 34, 8: 31, 16: 34}\n",
      "#################################\n"
     ]
    },
    {
     "name": "stderr",
     "output_type": "stream",
     "text": [
      "/Users/sangam/Desktop/Epilepsey/Code/vgramreg/src/load_dataset.py:50: SettingWithCopyWarning: \n",
      "A value is trying to be set on a copy of a slice from a DataFrame\n",
      "\n",
      "See the caveats in the documentation: https://pandas.pydata.org/pandas-docs/stable/user_guide/indexing.html#returning-a-view-versus-a-copy\n",
      "  X.rename(columns={\"PH\": 'univariate, max(S)', 'signal_std':'univariate, std(S)', 'signal_mean':'univariate, mean(S)', 'peak area':'univariate, area(S)', \\\n"
     ]
    }
   ],
   "source": [
    "X_train, X_test, y_train, y_test = load_dataset()"
   ]
  },
  {
   "cell_type": "code",
   "execution_count": 63,
   "id": "52c3be18-e6e5-4360-8257-d5c997688f8c",
   "metadata": {},
   "outputs": [
    {
     "name": "stdout",
     "output_type": "stream",
     "text": [
      "Fitting 5 folds for each of 135 candidates, totalling 675 fits\n"
     ]
    },
    {
     "name": "stderr",
     "output_type": "stream",
     "text": [
      "/Users/sangam/miniconda3/envs/vgramreg/lib/python3.9/site-packages/numpy/ma/core.py:2820: RuntimeWarning: invalid value encountered in cast\n",
      "  _data = np.array(data, dtype=dtype, copy=copy,\n"
     ]
    },
    {
     "name": "stdout",
     "output_type": "stream",
     "text": [
      "Fitting 5 folds for each of 135 candidates, totalling 675 fits\n"
     ]
    },
    {
     "name": "stderr",
     "output_type": "stream",
     "text": [
      "/Users/sangam/miniconda3/envs/vgramreg/lib/python3.9/site-packages/numpy/ma/core.py:2820: RuntimeWarning: invalid value encountered in cast\n",
      "  _data = np.array(data, dtype=dtype, copy=copy,\n"
     ]
    },
    {
     "name": "stdout",
     "output_type": "stream",
     "text": [
      "Fitting 5 folds for each of 135 candidates, totalling 675 fits\n"
     ]
    },
    {
     "name": "stderr",
     "output_type": "stream",
     "text": [
      "/Users/sangam/miniconda3/envs/vgramreg/lib/python3.9/site-packages/numpy/ma/core.py:2820: RuntimeWarning: invalid value encountered in cast\n",
      "  _data = np.array(data, dtype=dtype, copy=copy,\n"
     ]
    },
    {
     "name": "stdout",
     "output_type": "stream",
     "text": [
      "Fitting 5 folds for each of 135 candidates, totalling 675 fits\n"
     ]
    },
    {
     "name": "stderr",
     "output_type": "stream",
     "text": [
      "/Users/sangam/miniconda3/envs/vgramreg/lib/python3.9/site-packages/numpy/ma/core.py:2820: RuntimeWarning: invalid value encountered in cast\n",
      "  _data = np.array(data, dtype=dtype, copy=copy,\n"
     ]
    },
    {
     "name": "stdout",
     "output_type": "stream",
     "text": [
      "Fitting 5 folds for each of 135 candidates, totalling 675 fits\n"
     ]
    },
    {
     "name": "stderr",
     "output_type": "stream",
     "text": [
      "/Users/sangam/miniconda3/envs/vgramreg/lib/python3.9/site-packages/numpy/ma/core.py:2820: RuntimeWarning: invalid value encountered in cast\n",
      "  _data = np.array(data, dtype=dtype, copy=copy,\n"
     ]
    },
    {
     "name": "stdout",
     "output_type": "stream",
     "text": [
      "Fitting 5 folds for each of 135 candidates, totalling 675 fits\n"
     ]
    },
    {
     "name": "stderr",
     "output_type": "stream",
     "text": [
      "/Users/sangam/miniconda3/envs/vgramreg/lib/python3.9/site-packages/numpy/ma/core.py:2820: RuntimeWarning: invalid value encountered in cast\n",
      "  _data = np.array(data, dtype=dtype, copy=copy,\n"
     ]
    },
    {
     "name": "stdout",
     "output_type": "stream",
     "text": [
      "Fitting 5 folds for each of 135 candidates, totalling 675 fits\n"
     ]
    },
    {
     "name": "stderr",
     "output_type": "stream",
     "text": [
      "/Users/sangam/miniconda3/envs/vgramreg/lib/python3.9/site-packages/numpy/ma/core.py:2820: RuntimeWarning: invalid value encountered in cast\n",
      "  _data = np.array(data, dtype=dtype, copy=copy,\n"
     ]
    },
    {
     "name": "stdout",
     "output_type": "stream",
     "text": [
      "Fitting 5 folds for each of 135 candidates, totalling 675 fits\n"
     ]
    },
    {
     "name": "stderr",
     "output_type": "stream",
     "text": [
      "/Users/sangam/miniconda3/envs/vgramreg/lib/python3.9/site-packages/numpy/ma/core.py:2820: RuntimeWarning: invalid value encountered in cast\n",
      "  _data = np.array(data, dtype=dtype, copy=copy,\n"
     ]
    },
    {
     "name": "stdout",
     "output_type": "stream",
     "text": [
      "Fitting 5 folds for each of 135 candidates, totalling 675 fits\n",
      "Fitting 5 folds for each of 135 candidates, totalling 675 fits\n"
     ]
    },
    {
     "name": "stderr",
     "output_type": "stream",
     "text": [
      "/Users/sangam/miniconda3/envs/vgramreg/lib/python3.9/site-packages/numpy/ma/core.py:2820: RuntimeWarning: invalid value encountered in cast\n",
      "  _data = np.array(data, dtype=dtype, copy=copy,\n"
     ]
    },
    {
     "name": "stdout",
     "output_type": "stream",
     "text": [
      "Fitting 5 folds for each of 135 candidates, totalling 675 fits\n"
     ]
    },
    {
     "name": "stderr",
     "output_type": "stream",
     "text": [
      "/Users/sangam/miniconda3/envs/vgramreg/lib/python3.9/site-packages/numpy/ma/core.py:2820: RuntimeWarning: invalid value encountered in cast\n",
      "  _data = np.array(data, dtype=dtype, copy=copy,\n"
     ]
    },
    {
     "name": "stdout",
     "output_type": "stream",
     "text": [
      "Fitting 5 folds for each of 135 candidates, totalling 675 fits\n"
     ]
    },
    {
     "name": "stderr",
     "output_type": "stream",
     "text": [
      "/Users/sangam/miniconda3/envs/vgramreg/lib/python3.9/site-packages/numpy/ma/core.py:2820: RuntimeWarning: invalid value encountered in cast\n",
      "  _data = np.array(data, dtype=dtype, copy=copy,\n"
     ]
    },
    {
     "name": "stdout",
     "output_type": "stream",
     "text": [
      "Fitting 5 folds for each of 135 candidates, totalling 675 fits\n"
     ]
    },
    {
     "name": "stderr",
     "output_type": "stream",
     "text": [
      "/Users/sangam/miniconda3/envs/vgramreg/lib/python3.9/site-packages/numpy/ma/core.py:2820: RuntimeWarning: invalid value encountered in cast\n",
      "  _data = np.array(data, dtype=dtype, copy=copy,\n"
     ]
    },
    {
     "name": "stdout",
     "output_type": "stream",
     "text": [
      "Fitting 5 folds for each of 135 candidates, totalling 675 fits\n"
     ]
    },
    {
     "name": "stderr",
     "output_type": "stream",
     "text": [
      "/Users/sangam/miniconda3/envs/vgramreg/lib/python3.9/site-packages/numpy/ma/core.py:2820: RuntimeWarning: invalid value encountered in cast\n",
      "  _data = np.array(data, dtype=dtype, copy=copy,\n"
     ]
    },
    {
     "name": "stdout",
     "output_type": "stream",
     "text": [
      "Fitting 5 folds for each of 135 candidates, totalling 675 fits\n"
     ]
    },
    {
     "name": "stderr",
     "output_type": "stream",
     "text": [
      "/Users/sangam/miniconda3/envs/vgramreg/lib/python3.9/site-packages/numpy/ma/core.py:2820: RuntimeWarning: invalid value encountered in cast\n",
      "  _data = np.array(data, dtype=dtype, copy=copy,\n"
     ]
    },
    {
     "name": "stdout",
     "output_type": "stream",
     "text": [
      "Fitting 5 folds for each of 135 candidates, totalling 675 fits\n"
     ]
    },
    {
     "name": "stderr",
     "output_type": "stream",
     "text": [
      "/Users/sangam/miniconda3/envs/vgramreg/lib/python3.9/site-packages/numpy/ma/core.py:2820: RuntimeWarning: invalid value encountered in cast\n",
      "  _data = np.array(data, dtype=dtype, copy=copy,\n"
     ]
    },
    {
     "name": "stdout",
     "output_type": "stream",
     "text": [
      "Fitting 5 folds for each of 135 candidates, totalling 675 fits\n"
     ]
    },
    {
     "name": "stderr",
     "output_type": "stream",
     "text": [
      "/Users/sangam/miniconda3/envs/vgramreg/lib/python3.9/site-packages/numpy/ma/core.py:2820: RuntimeWarning: invalid value encountered in cast\n",
      "  _data = np.array(data, dtype=dtype, copy=copy,\n"
     ]
    },
    {
     "name": "stdout",
     "output_type": "stream",
     "text": [
      "Fitting 5 folds for each of 135 candidates, totalling 675 fits\n"
     ]
    },
    {
     "name": "stderr",
     "output_type": "stream",
     "text": [
      "/Users/sangam/miniconda3/envs/vgramreg/lib/python3.9/site-packages/numpy/ma/core.py:2820: RuntimeWarning: invalid value encountered in cast\n",
      "  _data = np.array(data, dtype=dtype, copy=copy,\n"
     ]
    },
    {
     "name": "stdout",
     "output_type": "stream",
     "text": [
      "Fitting 5 folds for each of 135 candidates, totalling 675 fits\n"
     ]
    },
    {
     "name": "stderr",
     "output_type": "stream",
     "text": [
      "/Users/sangam/miniconda3/envs/vgramreg/lib/python3.9/site-packages/numpy/ma/core.py:2820: RuntimeWarning: invalid value encountered in cast\n",
      "  _data = np.array(data, dtype=dtype, copy=copy,\n"
     ]
    },
    {
     "name": "stdout",
     "output_type": "stream",
     "text": [
      "Fitting 5 folds for each of 135 candidates, totalling 675 fits\n"
     ]
    },
    {
     "name": "stderr",
     "output_type": "stream",
     "text": [
      "/Users/sangam/miniconda3/envs/vgramreg/lib/python3.9/site-packages/numpy/ma/core.py:2820: RuntimeWarning: invalid value encountered in cast\n",
      "  _data = np.array(data, dtype=dtype, copy=copy,\n"
     ]
    },
    {
     "name": "stdout",
     "output_type": "stream",
     "text": [
      "Fitting 5 folds for each of 135 candidates, totalling 675 fits\n"
     ]
    },
    {
     "name": "stderr",
     "output_type": "stream",
     "text": [
      "/Users/sangam/miniconda3/envs/vgramreg/lib/python3.9/site-packages/numpy/ma/core.py:2820: RuntimeWarning: invalid value encountered in cast\n",
      "  _data = np.array(data, dtype=dtype, copy=copy,\n"
     ]
    },
    {
     "name": "stdout",
     "output_type": "stream",
     "text": [
      "Fitting 5 folds for each of 135 candidates, totalling 675 fits\n"
     ]
    },
    {
     "name": "stderr",
     "output_type": "stream",
     "text": [
      "/Users/sangam/miniconda3/envs/vgramreg/lib/python3.9/site-packages/numpy/ma/core.py:2820: RuntimeWarning: invalid value encountered in cast\n",
      "  _data = np.array(data, dtype=dtype, copy=copy,\n"
     ]
    },
    {
     "name": "stdout",
     "output_type": "stream",
     "text": [
      "Fitting 5 folds for each of 135 candidates, totalling 675 fits\n",
      "Fitting 5 folds for each of 135 candidates, totalling 675 fits\n"
     ]
    },
    {
     "name": "stderr",
     "output_type": "stream",
     "text": [
      "/Users/sangam/miniconda3/envs/vgramreg/lib/python3.9/site-packages/numpy/ma/core.py:2820: RuntimeWarning: invalid value encountered in cast\n",
      "  _data = np.array(data, dtype=dtype, copy=copy,\n"
     ]
    },
    {
     "name": "stdout",
     "output_type": "stream",
     "text": [
      "Fitting 5 folds for each of 135 candidates, totalling 675 fits\n"
     ]
    },
    {
     "name": "stderr",
     "output_type": "stream",
     "text": [
      "/Users/sangam/miniconda3/envs/vgramreg/lib/python3.9/site-packages/numpy/ma/core.py:2820: RuntimeWarning: invalid value encountered in cast\n",
      "  _data = np.array(data, dtype=dtype, copy=copy,\n"
     ]
    },
    {
     "name": "stdout",
     "output_type": "stream",
     "text": [
      "Fitting 5 folds for each of 135 candidates, totalling 675 fits\n"
     ]
    },
    {
     "name": "stderr",
     "output_type": "stream",
     "text": [
      "/Users/sangam/miniconda3/envs/vgramreg/lib/python3.9/site-packages/numpy/ma/core.py:2820: RuntimeWarning: invalid value encountered in cast\n",
      "  _data = np.array(data, dtype=dtype, copy=copy,\n"
     ]
    },
    {
     "name": "stdout",
     "output_type": "stream",
     "text": [
      "Fitting 5 folds for each of 135 candidates, totalling 675 fits\n"
     ]
    },
    {
     "name": "stderr",
     "output_type": "stream",
     "text": [
      "/Users/sangam/miniconda3/envs/vgramreg/lib/python3.9/site-packages/numpy/ma/core.py:2820: RuntimeWarning: invalid value encountered in cast\n",
      "  _data = np.array(data, dtype=dtype, copy=copy,\n"
     ]
    },
    {
     "name": "stdout",
     "output_type": "stream",
     "text": [
      "Fitting 5 folds for each of 135 candidates, totalling 675 fits\n"
     ]
    },
    {
     "name": "stderr",
     "output_type": "stream",
     "text": [
      "/Users/sangam/miniconda3/envs/vgramreg/lib/python3.9/site-packages/numpy/ma/core.py:2820: RuntimeWarning: invalid value encountered in cast\n",
      "  _data = np.array(data, dtype=dtype, copy=copy,\n"
     ]
    },
    {
     "name": "stdout",
     "output_type": "stream",
     "text": [
      "Fitting 5 folds for each of 135 candidates, totalling 675 fits\n",
      "Fitting 5 folds for each of 135 candidates, totalling 675 fits\n"
     ]
    },
    {
     "name": "stderr",
     "output_type": "stream",
     "text": [
      "/Users/sangam/miniconda3/envs/vgramreg/lib/python3.9/site-packages/numpy/ma/core.py:2820: RuntimeWarning: invalid value encountered in cast\n",
      "  _data = np.array(data, dtype=dtype, copy=copy,\n"
     ]
    },
    {
     "name": "stdout",
     "output_type": "stream",
     "text": [
      "Fitting 5 folds for each of 135 candidates, totalling 675 fits\n",
      "Fitting 5 folds for each of 135 candidates, totalling 675 fits\n"
     ]
    },
    {
     "name": "stderr",
     "output_type": "stream",
     "text": [
      "/Users/sangam/miniconda3/envs/vgramreg/lib/python3.9/site-packages/numpy/ma/core.py:2820: RuntimeWarning: invalid value encountered in cast\n",
      "  _data = np.array(data, dtype=dtype, copy=copy,\n"
     ]
    },
    {
     "name": "stdout",
     "output_type": "stream",
     "text": [
      "Fitting 5 folds for each of 135 candidates, totalling 675 fits\n"
     ]
    },
    {
     "name": "stderr",
     "output_type": "stream",
     "text": [
      "/Users/sangam/miniconda3/envs/vgramreg/lib/python3.9/site-packages/numpy/ma/core.py:2820: RuntimeWarning: invalid value encountered in cast\n",
      "  _data = np.array(data, dtype=dtype, copy=copy,\n"
     ]
    },
    {
     "name": "stdout",
     "output_type": "stream",
     "text": [
      "Fitting 5 folds for each of 135 candidates, totalling 675 fits\n"
     ]
    },
    {
     "name": "stderr",
     "output_type": "stream",
     "text": [
      "/Users/sangam/miniconda3/envs/vgramreg/lib/python3.9/site-packages/numpy/ma/core.py:2820: RuntimeWarning: invalid value encountered in cast\n",
      "  _data = np.array(data, dtype=dtype, copy=copy,\n"
     ]
    },
    {
     "name": "stdout",
     "output_type": "stream",
     "text": [
      "Fitting 5 folds for each of 135 candidates, totalling 675 fits\n"
     ]
    },
    {
     "name": "stderr",
     "output_type": "stream",
     "text": [
      "/Users/sangam/miniconda3/envs/vgramreg/lib/python3.9/site-packages/numpy/ma/core.py:2820: RuntimeWarning: invalid value encountered in cast\n",
      "  _data = np.array(data, dtype=dtype, copy=copy,\n"
     ]
    },
    {
     "name": "stdout",
     "output_type": "stream",
     "text": [
      "Fitting 5 folds for each of 135 candidates, totalling 675 fits\n"
     ]
    },
    {
     "name": "stderr",
     "output_type": "stream",
     "text": [
      "Process LokyProcess-38:\n",
      "Process LokyProcess-45:\n",
      "Process LokyProcess-46:\n",
      "Process LokyProcess-37:\n",
      "Process LokyProcess-40:\n",
      "Process LokyProcess-42:\n",
      "Process LokyProcess-39:\n",
      "Process LokyProcess-47:\n",
      "Process LokyProcess-36:\n",
      "Process LokyProcess-41:\n",
      "Process LokyProcess-44:\n",
      "Process LokyProcess-43:\n",
      "Traceback (most recent call last):\n",
      "  File \"/Users/sangam/miniconda3/envs/vgramreg/lib/python3.9/site-packages/joblib/externals/loky/process_executor.py\", line 463, in _process_worker\n",
      "    r = call_item()\n",
      "  File \"/Users/sangam/miniconda3/envs/vgramreg/lib/python3.9/site-packages/joblib/externals/loky/process_executor.py\", line 291, in __call__\n",
      "    return self.fn(*self.args, **self.kwargs)\n",
      "  File \"/Users/sangam/miniconda3/envs/vgramreg/lib/python3.9/site-packages/joblib/parallel.py\", line 598, in __call__\n",
      "    return [func(*args, **kwargs)\n",
      "  File \"/Users/sangam/miniconda3/envs/vgramreg/lib/python3.9/site-packages/joblib/parallel.py\", line 598, in <listcomp>\n",
      "    return [func(*args, **kwargs)\n",
      "  File \"/Users/sangam/miniconda3/envs/vgramreg/lib/python3.9/site-packages/sklearn/utils/parallel.py\", line 136, in __call__\n",
      "    return self.function(*args, **kwargs)\n",
      "  File \"/Users/sangam/miniconda3/envs/vgramreg/lib/python3.9/site-packages/sklearn/model_selection/_validation.py\", line 888, in _fit_and_score\n",
      "    estimator.fit(X_train, y_train, **fit_params)\n",
      "  File \"/Users/sangam/miniconda3/envs/vgramreg/lib/python3.9/site-packages/sklearn/base.py\", line 1473, in wrapper\n",
      "    return fit_method(estimator, *args, **kwargs)\n",
      "  File \"/Users/sangam/miniconda3/envs/vgramreg/lib/python3.9/site-packages/sklearn/ensemble/_forest.py\", line 489, in fit\n",
      "    trees = Parallel(\n",
      "  File \"/Users/sangam/miniconda3/envs/vgramreg/lib/python3.9/site-packages/sklearn/utils/parallel.py\", line 74, in __call__\n",
      "    return super().__call__(iterable_with_config)\n",
      "  File \"/Users/sangam/miniconda3/envs/vgramreg/lib/python3.9/site-packages/joblib/parallel.py\", line 1918, in __call__\n",
      "    return output if self.return_generator else list(output)\n",
      "  File \"/Users/sangam/miniconda3/envs/vgramreg/lib/python3.9/site-packages/joblib/parallel.py\", line 1847, in _get_sequential_output\n",
      "    res = func(*args, **kwargs)\n",
      "  File \"/Users/sangam/miniconda3/envs/vgramreg/lib/python3.9/site-packages/sklearn/utils/parallel.py\", line 136, in __call__\n",
      "    return self.function(*args, **kwargs)\n",
      "  File \"/Users/sangam/miniconda3/envs/vgramreg/lib/python3.9/site-packages/sklearn/ensemble/_forest.py\", line 175, in _parallel_build_trees\n",
      "    curr_sample_weight = np.ones((n_samples,), dtype=np.float64)\n",
      "KeyboardInterrupt\n",
      "\n",
      "During handling of the above exception, another exception occurred:\n",
      "\n",
      "Traceback (most recent call last):\n",
      "  File \"/Users/sangam/miniconda3/envs/vgramreg/lib/python3.9/multiprocessing/process.py\", line 315, in _bootstrap\n",
      "    self.run()\n",
      "  File \"/Users/sangam/miniconda3/envs/vgramreg/lib/python3.9/multiprocessing/process.py\", line 108, in run\n",
      "    self._target(*self._args, **self._kwargs)\n",
      "  File \"/Users/sangam/miniconda3/envs/vgramreg/lib/python3.9/site-packages/joblib/externals/loky/process_executor.py\", line 465, in _process_worker\n",
      "    exc = _ExceptionWithTraceback(e)\n",
      "  File \"/Users/sangam/miniconda3/envs/vgramreg/lib/python3.9/site-packages/joblib/externals/loky/process_executor.py\", line 247, in __init__\n",
      "    tb = traceback.format_exception(type(exc), exc, tb)\n",
      "  File \"/Users/sangam/miniconda3/envs/vgramreg/lib/python3.9/traceback.py\", line 120, in format_exception\n",
      "    return list(TracebackException(\n",
      "  File \"/Users/sangam/miniconda3/envs/vgramreg/lib/python3.9/traceback.py\", line 517, in __init__\n",
      "    self.stack = StackSummary.extract(\n",
      "  File \"/Users/sangam/miniconda3/envs/vgramreg/lib/python3.9/traceback.py\", line 366, in extract\n",
      "    f.line\n",
      "  File \"/Users/sangam/miniconda3/envs/vgramreg/lib/python3.9/traceback.py\", line 288, in line\n",
      "    self._line = linecache.getline(self.filename, self.lineno).strip()\n",
      "  File \"/Users/sangam/miniconda3/envs/vgramreg/lib/python3.9/linecache.py\", line 30, in getline\n",
      "    lines = getlines(filename, module_globals)\n",
      "  File \"/Users/sangam/miniconda3/envs/vgramreg/lib/python3.9/linecache.py\", line 46, in getlines\n",
      "    return updatecache(filename, module_globals)\n",
      "  File \"/Users/sangam/miniconda3/envs/vgramreg/lib/python3.9/linecache.py\", line 136, in updatecache\n",
      "    with tokenize.open(fullname) as fp:\n",
      "  File \"/Users/sangam/miniconda3/envs/vgramreg/lib/python3.9/tokenize.py\", line 394, in open\n",
      "    encoding, lines = detect_encoding(buffer.readline)\n",
      "  File \"/Users/sangam/miniconda3/envs/vgramreg/lib/python3.9/tokenize.py\", line 363, in detect_encoding\n",
      "    first = read_or_stop()\n",
      "  File \"/Users/sangam/miniconda3/envs/vgramreg/lib/python3.9/tokenize.py\", line 321, in read_or_stop\n",
      "    return readline()\n",
      "KeyboardInterrupt\n",
      "Traceback (most recent call last):\n",
      "  File \"/Users/sangam/miniconda3/envs/vgramreg/lib/python3.9/site-packages/joblib/externals/loky/process_executor.py\", line 463, in _process_worker\n",
      "    r = call_item()\n",
      "  File \"/Users/sangam/miniconda3/envs/vgramreg/lib/python3.9/site-packages/joblib/externals/loky/process_executor.py\", line 291, in __call__\n",
      "    return self.fn(*self.args, **self.kwargs)\n",
      "  File \"/Users/sangam/miniconda3/envs/vgramreg/lib/python3.9/site-packages/joblib/parallel.py\", line 598, in __call__\n",
      "    return [func(*args, **kwargs)\n",
      "  File \"/Users/sangam/miniconda3/envs/vgramreg/lib/python3.9/site-packages/joblib/parallel.py\", line 598, in <listcomp>\n",
      "    return [func(*args, **kwargs)\n",
      "  File \"/Users/sangam/miniconda3/envs/vgramreg/lib/python3.9/site-packages/sklearn/utils/parallel.py\", line 136, in __call__\n",
      "    return self.function(*args, **kwargs)\n",
      "  File \"/Users/sangam/miniconda3/envs/vgramreg/lib/python3.9/site-packages/sklearn/model_selection/_validation.py\", line 888, in _fit_and_score\n",
      "    estimator.fit(X_train, y_train, **fit_params)\n",
      "  File \"/Users/sangam/miniconda3/envs/vgramreg/lib/python3.9/site-packages/sklearn/base.py\", line 1473, in wrapper\n",
      "    return fit_method(estimator, *args, **kwargs)\n",
      "  File \"/Users/sangam/miniconda3/envs/vgramreg/lib/python3.9/site-packages/sklearn/ensemble/_forest.py\", line 478, in fit\n",
      "    trees = [\n",
      "  File \"/Users/sangam/miniconda3/envs/vgramreg/lib/python3.9/site-packages/sklearn/ensemble/_forest.py\", line 479, in <listcomp>\n",
      "    self._make_estimator(append=False, random_state=random_state)\n",
      "  File \"/Users/sangam/miniconda3/envs/vgramreg/lib/python3.9/site-packages/sklearn/ensemble/_base.py\", line 146, in _make_estimator\n",
      "    estimator.set_params(**{p: getattr(self, p) for p in self.estimator_params})\n",
      "  File \"/Users/sangam/miniconda3/envs/vgramreg/lib/python3.9/site-packages/sklearn/base.py\", line 272, in set_params\n",
      "    valid_params = self.get_params(deep=True)\n",
      "  File \"/Users/sangam/miniconda3/envs/vgramreg/lib/python3.9/site-packages/sklearn/base.py\", line 243, in get_params\n",
      "    for key in self._get_param_names():\n",
      "  File \"/Users/sangam/miniconda3/envs/vgramreg/lib/python3.9/site-packages/sklearn/base.py\", line 210, in _get_param_names\n",
      "    parameters = [\n",
      "  File \"/Users/sangam/miniconda3/envs/vgramreg/lib/python3.9/site-packages/sklearn/base.py\", line 213, in <listcomp>\n",
      "    if p.name != \"self\" and p.kind != p.VAR_KEYWORD\n",
      "KeyboardInterrupt\n",
      "\n",
      "During handling of the above exception, another exception occurred:\n",
      "\n",
      "Traceback (most recent call last):\n",
      "  File \"/Users/sangam/miniconda3/envs/vgramreg/lib/python3.9/multiprocessing/process.py\", line 315, in _bootstrap\n",
      "    self.run()\n",
      "  File \"/Users/sangam/miniconda3/envs/vgramreg/lib/python3.9/multiprocessing/process.py\", line 108, in run\n",
      "    self._target(*self._args, **self._kwargs)\n",
      "  File \"/Users/sangam/miniconda3/envs/vgramreg/lib/python3.9/site-packages/joblib/externals/loky/process_executor.py\", line 465, in _process_worker\n",
      "    exc = _ExceptionWithTraceback(e)\n",
      "  File \"/Users/sangam/miniconda3/envs/vgramreg/lib/python3.9/site-packages/joblib/externals/loky/process_executor.py\", line 247, in __init__\n",
      "    tb = traceback.format_exception(type(exc), exc, tb)\n",
      "  File \"/Users/sangam/miniconda3/envs/vgramreg/lib/python3.9/traceback.py\", line 120, in format_exception\n",
      "    return list(TracebackException(\n",
      "  File \"/Users/sangam/miniconda3/envs/vgramreg/lib/python3.9/traceback.py\", line 517, in __init__\n",
      "    self.stack = StackSummary.extract(\n",
      "  File \"/Users/sangam/miniconda3/envs/vgramreg/lib/python3.9/traceback.py\", line 366, in extract\n",
      "    f.line\n",
      "  File \"/Users/sangam/miniconda3/envs/vgramreg/lib/python3.9/traceback.py\", line 288, in line\n",
      "    self._line = linecache.getline(self.filename, self.lineno).strip()\n",
      "  File \"/Users/sangam/miniconda3/envs/vgramreg/lib/python3.9/linecache.py\", line 30, in getline\n",
      "    lines = getlines(filename, module_globals)\n",
      "  File \"/Users/sangam/miniconda3/envs/vgramreg/lib/python3.9/linecache.py\", line 46, in getlines\n",
      "    return updatecache(filename, module_globals)\n",
      "  File \"/Users/sangam/miniconda3/envs/vgramreg/lib/python3.9/linecache.py\", line 136, in updatecache\n",
      "    with tokenize.open(fullname) as fp:\n",
      "  File \"/Users/sangam/miniconda3/envs/vgramreg/lib/python3.9/tokenize.py\", line 392, in open\n",
      "    buffer = _builtin_open(filename, 'rb')\n",
      "KeyboardInterrupt\n",
      "Traceback (most recent call last):\n",
      "  File \"/Users/sangam/miniconda3/envs/vgramreg/lib/python3.9/site-packages/joblib/externals/loky/process_executor.py\", line 463, in _process_worker\n",
      "    r = call_item()\n",
      "  File \"/Users/sangam/miniconda3/envs/vgramreg/lib/python3.9/site-packages/joblib/externals/loky/process_executor.py\", line 291, in __call__\n",
      "    return self.fn(*self.args, **self.kwargs)\n",
      "  File \"/Users/sangam/miniconda3/envs/vgramreg/lib/python3.9/site-packages/joblib/parallel.py\", line 598, in __call__\n",
      "    return [func(*args, **kwargs)\n",
      "  File \"/Users/sangam/miniconda3/envs/vgramreg/lib/python3.9/site-packages/joblib/parallel.py\", line 598, in <listcomp>\n",
      "    return [func(*args, **kwargs)\n",
      "  File \"/Users/sangam/miniconda3/envs/vgramreg/lib/python3.9/site-packages/sklearn/utils/parallel.py\", line 136, in __call__\n",
      "    return self.function(*args, **kwargs)\n",
      "  File \"/Users/sangam/miniconda3/envs/vgramreg/lib/python3.9/site-packages/sklearn/model_selection/_validation.py\", line 888, in _fit_and_score\n",
      "    estimator.fit(X_train, y_train, **fit_params)\n",
      "  File \"/Users/sangam/miniconda3/envs/vgramreg/lib/python3.9/site-packages/sklearn/base.py\", line 1473, in wrapper\n",
      "    return fit_method(estimator, *args, **kwargs)\n",
      "  File \"/Users/sangam/miniconda3/envs/vgramreg/lib/python3.9/site-packages/sklearn/ensemble/_forest.py\", line 489, in fit\n",
      "    trees = Parallel(\n",
      "  File \"/Users/sangam/miniconda3/envs/vgramreg/lib/python3.9/site-packages/sklearn/utils/parallel.py\", line 74, in __call__\n",
      "    return super().__call__(iterable_with_config)\n",
      "  File \"/Users/sangam/miniconda3/envs/vgramreg/lib/python3.9/site-packages/joblib/parallel.py\", line 1918, in __call__\n",
      "    return output if self.return_generator else list(output)\n",
      "  File \"/Users/sangam/miniconda3/envs/vgramreg/lib/python3.9/site-packages/joblib/parallel.py\", line 1847, in _get_sequential_output\n",
      "    res = func(*args, **kwargs)\n",
      "  File \"/Users/sangam/miniconda3/envs/vgramreg/lib/python3.9/site-packages/sklearn/utils/parallel.py\", line 136, in __call__\n",
      "    return self.function(*args, **kwargs)\n",
      "  File \"/Users/sangam/miniconda3/envs/vgramreg/lib/python3.9/site-packages/sklearn/ensemble/_forest.py\", line 192, in _parallel_build_trees\n",
      "    tree._fit(\n",
      "  File \"/Users/sangam/miniconda3/envs/vgramreg/lib/python3.9/site-packages/sklearn/tree/_classes.py\", line 472, in _fit\n",
      "    builder.build(self.tree_, X, y, sample_weight, missing_values_in_feature_mask)\n",
      "KeyboardInterrupt\n",
      "\n",
      "During handling of the above exception, another exception occurred:\n",
      "\n",
      "Traceback (most recent call last):\n",
      "  File \"/Users/sangam/miniconda3/envs/vgramreg/lib/python3.9/multiprocessing/process.py\", line 315, in _bootstrap\n",
      "    self.run()\n",
      "  File \"/Users/sangam/miniconda3/envs/vgramreg/lib/python3.9/multiprocessing/process.py\", line 108, in run\n",
      "    self._target(*self._args, **self._kwargs)\n",
      "  File \"/Users/sangam/miniconda3/envs/vgramreg/lib/python3.9/site-packages/joblib/externals/loky/process_executor.py\", line 465, in _process_worker\n",
      "    exc = _ExceptionWithTraceback(e)\n",
      "  File \"/Users/sangam/miniconda3/envs/vgramreg/lib/python3.9/site-packages/joblib/externals/loky/process_executor.py\", line 247, in __init__\n",
      "    tb = traceback.format_exception(type(exc), exc, tb)\n",
      "  File \"/Users/sangam/miniconda3/envs/vgramreg/lib/python3.9/traceback.py\", line 120, in format_exception\n",
      "    return list(TracebackException(\n",
      "  File \"/Users/sangam/miniconda3/envs/vgramreg/lib/python3.9/traceback.py\", line 517, in __init__\n",
      "    self.stack = StackSummary.extract(\n",
      "  File \"/Users/sangam/miniconda3/envs/vgramreg/lib/python3.9/traceback.py\", line 366, in extract\n",
      "    f.line\n",
      "  File \"/Users/sangam/miniconda3/envs/vgramreg/lib/python3.9/traceback.py\", line 288, in line\n",
      "    self._line = linecache.getline(self.filename, self.lineno).strip()\n",
      "  File \"/Users/sangam/miniconda3/envs/vgramreg/lib/python3.9/linecache.py\", line 30, in getline\n",
      "    lines = getlines(filename, module_globals)\n",
      "  File \"/Users/sangam/miniconda3/envs/vgramreg/lib/python3.9/linecache.py\", line 46, in getlines\n",
      "    return updatecache(filename, module_globals)\n",
      "  File \"/Users/sangam/miniconda3/envs/vgramreg/lib/python3.9/linecache.py\", line 136, in updatecache\n",
      "    with tokenize.open(fullname) as fp:\n",
      "  File \"/Users/sangam/miniconda3/envs/vgramreg/lib/python3.9/tokenize.py\", line 394, in open\n",
      "    encoding, lines = detect_encoding(buffer.readline)\n",
      "  File \"/Users/sangam/miniconda3/envs/vgramreg/lib/python3.9/tokenize.py\", line 363, in detect_encoding\n",
      "    first = read_or_stop()\n",
      "  File \"/Users/sangam/miniconda3/envs/vgramreg/lib/python3.9/tokenize.py\", line 321, in read_or_stop\n",
      "    return readline()\n",
      "KeyboardInterrupt\n",
      "Traceback (most recent call last):\n",
      "  File \"/Users/sangam/miniconda3/envs/vgramreg/lib/python3.9/site-packages/joblib/externals/loky/process_executor.py\", line 463, in _process_worker\n",
      "    r = call_item()\n",
      "  File \"/Users/sangam/miniconda3/envs/vgramreg/lib/python3.9/site-packages/joblib/externals/loky/process_executor.py\", line 291, in __call__\n",
      "    return self.fn(*self.args, **self.kwargs)\n",
      "  File \"/Users/sangam/miniconda3/envs/vgramreg/lib/python3.9/site-packages/joblib/parallel.py\", line 598, in __call__\n",
      "    return [func(*args, **kwargs)\n",
      "  File \"/Users/sangam/miniconda3/envs/vgramreg/lib/python3.9/site-packages/joblib/parallel.py\", line 598, in <listcomp>\n",
      "    return [func(*args, **kwargs)\n",
      "  File \"/Users/sangam/miniconda3/envs/vgramreg/lib/python3.9/site-packages/sklearn/utils/parallel.py\", line 136, in __call__\n",
      "    return self.function(*args, **kwargs)\n",
      "  File \"/Users/sangam/miniconda3/envs/vgramreg/lib/python3.9/site-packages/sklearn/model_selection/_validation.py\", line 888, in _fit_and_score\n",
      "    estimator.fit(X_train, y_train, **fit_params)\n",
      "  File \"/Users/sangam/miniconda3/envs/vgramreg/lib/python3.9/site-packages/sklearn/base.py\", line 1473, in wrapper\n",
      "    return fit_method(estimator, *args, **kwargs)\n",
      "  File \"/Users/sangam/miniconda3/envs/vgramreg/lib/python3.9/site-packages/sklearn/ensemble/_forest.py\", line 489, in fit\n",
      "    trees = Parallel(\n",
      "  File \"/Users/sangam/miniconda3/envs/vgramreg/lib/python3.9/site-packages/sklearn/utils/parallel.py\", line 74, in __call__\n",
      "    return super().__call__(iterable_with_config)\n",
      "  File \"/Users/sangam/miniconda3/envs/vgramreg/lib/python3.9/site-packages/joblib/parallel.py\", line 1918, in __call__\n",
      "    return output if self.return_generator else list(output)\n",
      "  File \"/Users/sangam/miniconda3/envs/vgramreg/lib/python3.9/site-packages/joblib/parallel.py\", line 1847, in _get_sequential_output\n",
      "    res = func(*args, **kwargs)\n",
      "  File \"/Users/sangam/miniconda3/envs/vgramreg/lib/python3.9/site-packages/sklearn/utils/parallel.py\", line 136, in __call__\n",
      "    return self.function(*args, **kwargs)\n",
      "  File \"/Users/sangam/miniconda3/envs/vgramreg/lib/python3.9/site-packages/sklearn/ensemble/_forest.py\", line 179, in _parallel_build_trees\n",
      "    indices = _generate_sample_indices(\n",
      "  File \"/Users/sangam/miniconda3/envs/vgramreg/lib/python3.9/site-packages/sklearn/ensemble/_forest.py\", line 132, in _generate_sample_indices\n",
      "    random_instance = check_random_state(random_state)\n",
      "  File \"/Users/sangam/miniconda3/envs/vgramreg/lib/python3.9/site-packages/sklearn/utils/validation.py\", line 1436, in check_random_state\n",
      "    return np.random.RandomState(seed)\n",
      "  File \"numpy/random/mtrand.pyx\", line 184, in numpy.random.mtrand.RandomState.__init__\n",
      "Traceback (most recent call last):\n",
      "  File \"_mt19937.pyx\", line 132, in numpy.random._mt19937.MT19937.__init__\n",
      "  File \"/Users/sangam/miniconda3/envs/vgramreg/lib/python3.9/contextlib.py\", line 79, in inner\n",
      "    return func(*args, **kwds)\n",
      "KeyboardInterrupt\n",
      "\n",
      "During handling of the above exception, another exception occurred:\n",
      "\n",
      "Traceback (most recent call last):\n",
      "  File \"/Users/sangam/miniconda3/envs/vgramreg/lib/python3.9/multiprocessing/process.py\", line 315, in _bootstrap\n",
      "    self.run()\n",
      "  File \"/Users/sangam/miniconda3/envs/vgramreg/lib/python3.9/site-packages/joblib/externals/loky/process_executor.py\", line 463, in _process_worker\n",
      "    r = call_item()\n",
      "  File \"/Users/sangam/miniconda3/envs/vgramreg/lib/python3.9/multiprocessing/process.py\", line 108, in run\n",
      "    self._target(*self._args, **self._kwargs)\n",
      "  File \"/Users/sangam/miniconda3/envs/vgramreg/lib/python3.9/site-packages/joblib/externals/loky/process_executor.py\", line 291, in __call__\n",
      "    return self.fn(*self.args, **self.kwargs)\n",
      "  File \"/Users/sangam/miniconda3/envs/vgramreg/lib/python3.9/site-packages/joblib/externals/loky/process_executor.py\", line 465, in _process_worker\n",
      "    exc = _ExceptionWithTraceback(e)\n",
      "  File \"/Users/sangam/miniconda3/envs/vgramreg/lib/python3.9/site-packages/joblib/parallel.py\", line 598, in __call__\n",
      "    return [func(*args, **kwargs)\n",
      "  File \"/Users/sangam/miniconda3/envs/vgramreg/lib/python3.9/site-packages/joblib/externals/loky/process_executor.py\", line 247, in __init__\n",
      "    tb = traceback.format_exception(type(exc), exc, tb)\n",
      "  File \"/Users/sangam/miniconda3/envs/vgramreg/lib/python3.9/traceback.py\", line 120, in format_exception\n",
      "    return list(TracebackException(\n",
      "  File \"/Users/sangam/miniconda3/envs/vgramreg/lib/python3.9/traceback.py\", line 517, in __init__\n",
      "    self.stack = StackSummary.extract(\n",
      "  File \"/Users/sangam/miniconda3/envs/vgramreg/lib/python3.9/traceback.py\", line 366, in extract\n",
      "    f.line\n",
      "  File \"/Users/sangam/miniconda3/envs/vgramreg/lib/python3.9/traceback.py\", line 288, in line\n",
      "    self._line = linecache.getline(self.filename, self.lineno).strip()\n",
      "  File \"/Users/sangam/miniconda3/envs/vgramreg/lib/python3.9/site-packages/joblib/parallel.py\", line 598, in <listcomp>\n",
      "    return [func(*args, **kwargs)\n",
      "  File \"/Users/sangam/miniconda3/envs/vgramreg/lib/python3.9/site-packages/sklearn/utils/parallel.py\", line 136, in __call__\n",
      "    return self.function(*args, **kwargs)\n",
      "  File \"/Users/sangam/miniconda3/envs/vgramreg/lib/python3.9/site-packages/sklearn/model_selection/_validation.py\", line 888, in _fit_and_score\n",
      "    estimator.fit(X_train, y_train, **fit_params)\n",
      "  File \"/Users/sangam/miniconda3/envs/vgramreg/lib/python3.9/linecache.py\", line 30, in getline\n",
      "    lines = getlines(filename, module_globals)\n",
      "  File \"/Users/sangam/miniconda3/envs/vgramreg/lib/python3.9/site-packages/sklearn/base.py\", line 1473, in wrapper\n",
      "    return fit_method(estimator, *args, **kwargs)\n",
      "  File \"/Users/sangam/miniconda3/envs/vgramreg/lib/python3.9/linecache.py\", line 46, in getlines\n",
      "    return updatecache(filename, module_globals)\n",
      "  File \"/Users/sangam/miniconda3/envs/vgramreg/lib/python3.9/site-packages/sklearn/ensemble/_forest.py\", line 489, in fit\n",
      "    trees = Parallel(\n",
      "  File \"/Users/sangam/miniconda3/envs/vgramreg/lib/python3.9/linecache.py\", line 136, in updatecache\n",
      "    with tokenize.open(fullname) as fp:\n",
      "  File \"/Users/sangam/miniconda3/envs/vgramreg/lib/python3.9/site-packages/sklearn/utils/parallel.py\", line 74, in __call__\n",
      "    return super().__call__(iterable_with_config)\n",
      "  File \"/Users/sangam/miniconda3/envs/vgramreg/lib/python3.9/tokenize.py\", line 394, in open\n",
      "    encoding, lines = detect_encoding(buffer.readline)\n",
      "  File \"/Users/sangam/miniconda3/envs/vgramreg/lib/python3.9/site-packages/joblib/parallel.py\", line 1918, in __call__\n",
      "    return output if self.return_generator else list(output)\n",
      "  File \"/Users/sangam/miniconda3/envs/vgramreg/lib/python3.9/tokenize.py\", line 363, in detect_encoding\n",
      "    first = read_or_stop()\n",
      "  File \"/Users/sangam/miniconda3/envs/vgramreg/lib/python3.9/site-packages/joblib/parallel.py\", line 1847, in _get_sequential_output\n",
      "    res = func(*args, **kwargs)\n",
      "  File \"/Users/sangam/miniconda3/envs/vgramreg/lib/python3.9/tokenize.py\", line 321, in read_or_stop\n",
      "    return readline()\n",
      "  File \"/Users/sangam/miniconda3/envs/vgramreg/lib/python3.9/site-packages/sklearn/utils/parallel.py\", line 136, in __call__\n",
      "    return self.function(*args, **kwargs)\n",
      "  File \"/Users/sangam/miniconda3/envs/vgramreg/lib/python3.9/site-packages/sklearn/ensemble/_forest.py\", line 192, in _parallel_build_trees\n",
      "    tree._fit(\n",
      "  File \"/Users/sangam/miniconda3/envs/vgramreg/lib/python3.9/site-packages/sklearn/tree/_classes.py\", line 239, in _fit\n",
      "    random_state = check_random_state(self.random_state)\n",
      "KeyboardInterrupt\n",
      "  File \"/Users/sangam/miniconda3/envs/vgramreg/lib/python3.9/site-packages/sklearn/utils/validation.py\", line 1436, in check_random_state\n",
      "    return np.random.RandomState(seed)\n",
      "  File \"numpy/random/mtrand.pyx\", line 184, in numpy.random.mtrand.RandomState.__init__\n",
      "  File \"_mt19937.pyx\", line 132, in numpy.random._mt19937.MT19937.__init__\n",
      "  File \"/Users/sangam/miniconda3/envs/vgramreg/lib/python3.9/contextlib.py\", line 79, in inner\n",
      "    return func(*args, **kwds)\n",
      "KeyboardInterrupt\n",
      "\n",
      "During handling of the above exception, another exception occurred:\n",
      "\n",
      "Traceback (most recent call last):\n",
      "  File \"/Users/sangam/miniconda3/envs/vgramreg/lib/python3.9/multiprocessing/process.py\", line 315, in _bootstrap\n",
      "    self.run()\n",
      "  File \"/Users/sangam/miniconda3/envs/vgramreg/lib/python3.9/multiprocessing/process.py\", line 108, in run\n",
      "    self._target(*self._args, **self._kwargs)\n",
      "  File \"/Users/sangam/miniconda3/envs/vgramreg/lib/python3.9/site-packages/joblib/externals/loky/process_executor.py\", line 465, in _process_worker\n",
      "    exc = _ExceptionWithTraceback(e)\n",
      "  File \"/Users/sangam/miniconda3/envs/vgramreg/lib/python3.9/site-packages/joblib/externals/loky/process_executor.py\", line 247, in __init__\n",
      "    tb = traceback.format_exception(type(exc), exc, tb)\n",
      "  File \"/Users/sangam/miniconda3/envs/vgramreg/lib/python3.9/traceback.py\", line 120, in format_exception\n",
      "    return list(TracebackException(\n",
      "  File \"/Users/sangam/miniconda3/envs/vgramreg/lib/python3.9/traceback.py\", line 517, in __init__\n",
      "    self.stack = StackSummary.extract(\n",
      "  File \"/Users/sangam/miniconda3/envs/vgramreg/lib/python3.9/traceback.py\", line 366, in extract\n",
      "    f.line\n",
      "  File \"/Users/sangam/miniconda3/envs/vgramreg/lib/python3.9/traceback.py\", line 288, in line\n",
      "    self._line = linecache.getline(self.filename, self.lineno).strip()\n",
      "  File \"/Users/sangam/miniconda3/envs/vgramreg/lib/python3.9/linecache.py\", line 30, in getline\n",
      "    lines = getlines(filename, module_globals)\n",
      "  File \"/Users/sangam/miniconda3/envs/vgramreg/lib/python3.9/linecache.py\", line 46, in getlines\n",
      "    return updatecache(filename, module_globals)\n",
      "  File \"/Users/sangam/miniconda3/envs/vgramreg/lib/python3.9/linecache.py\", line 136, in updatecache\n",
      "    with tokenize.open(fullname) as fp:\n",
      "  File \"/Users/sangam/miniconda3/envs/vgramreg/lib/python3.9/tokenize.py\", line 394, in open\n",
      "    encoding, lines = detect_encoding(buffer.readline)\n",
      "  File \"/Users/sangam/miniconda3/envs/vgramreg/lib/python3.9/tokenize.py\", line 363, in detect_encoding\n",
      "    first = read_or_stop()\n",
      "  File \"/Users/sangam/miniconda3/envs/vgramreg/lib/python3.9/tokenize.py\", line 321, in read_or_stop\n",
      "    return readline()\n",
      "KeyboardInterrupt\n",
      "Traceback (most recent call last):\n",
      "Traceback (most recent call last):\n",
      "  File \"/Users/sangam/miniconda3/envs/vgramreg/lib/python3.9/site-packages/joblib/externals/loky/process_executor.py\", line 463, in _process_worker\n",
      "    r = call_item()\n",
      "  File \"/Users/sangam/miniconda3/envs/vgramreg/lib/python3.9/site-packages/joblib/externals/loky/process_executor.py\", line 291, in __call__\n",
      "    return self.fn(*self.args, **self.kwargs)\n",
      "  File \"/Users/sangam/miniconda3/envs/vgramreg/lib/python3.9/site-packages/joblib/parallel.py\", line 598, in __call__\n",
      "    return [func(*args, **kwargs)\n",
      "  File \"/Users/sangam/miniconda3/envs/vgramreg/lib/python3.9/site-packages/joblib/parallel.py\", line 598, in <listcomp>\n",
      "    return [func(*args, **kwargs)\n",
      "  File \"/Users/sangam/miniconda3/envs/vgramreg/lib/python3.9/site-packages/sklearn/utils/parallel.py\", line 136, in __call__\n",
      "    return self.function(*args, **kwargs)\n",
      "  File \"/Users/sangam/miniconda3/envs/vgramreg/lib/python3.9/site-packages/sklearn/model_selection/_validation.py\", line 888, in _fit_and_score\n",
      "    estimator.fit(X_train, y_train, **fit_params)\n",
      "  File \"/Users/sangam/miniconda3/envs/vgramreg/lib/python3.9/site-packages/sklearn/base.py\", line 1473, in wrapper\n",
      "    return fit_method(estimator, *args, **kwargs)\n",
      "  File \"/Users/sangam/miniconda3/envs/vgramreg/lib/python3.9/site-packages/sklearn/ensemble/_forest.py\", line 478, in fit\n",
      "    trees = [\n",
      "  File \"/Users/sangam/miniconda3/envs/vgramreg/lib/python3.9/site-packages/sklearn/ensemble/_forest.py\", line 479, in <listcomp>\n",
      "    self._make_estimator(append=False, random_state=random_state)\n",
      "  File \"/Users/sangam/miniconda3/envs/vgramreg/lib/python3.9/site-packages/sklearn/ensemble/_base.py\", line 149, in _make_estimator\n",
      "    _set_random_states(estimator, random_state)\n",
      "  File \"/Users/sangam/miniconda3/envs/vgramreg/lib/python3.9/site-packages/sklearn/ensemble/_base.py\", line 79, in _set_random_states\n",
      "    estimator.set_params(**to_set)\n",
      "  File \"/Users/sangam/miniconda3/envs/vgramreg/lib/python3.9/site-packages/joblib/externals/loky/process_executor.py\", line 463, in _process_worker\n",
      "    r = call_item()\n",
      "  File \"/Users/sangam/miniconda3/envs/vgramreg/lib/python3.9/site-packages/sklearn/base.py\", line 272, in set_params\n",
      "    valid_params = self.get_params(deep=True)\n",
      "  File \"/Users/sangam/miniconda3/envs/vgramreg/lib/python3.9/site-packages/sklearn/base.py\", line 243, in get_params\n",
      "    for key in self._get_param_names():\n",
      "  File \"/Users/sangam/miniconda3/envs/vgramreg/lib/python3.9/site-packages/joblib/externals/loky/process_executor.py\", line 291, in __call__\n",
      "    return self.fn(*self.args, **self.kwargs)\n",
      "  File \"/Users/sangam/miniconda3/envs/vgramreg/lib/python3.9/site-packages/sklearn/base.py\", line 208, in _get_param_names\n",
      "    init_signature = inspect.signature(init)\n",
      "  File \"/Users/sangam/miniconda3/envs/vgramreg/lib/python3.9/site-packages/joblib/parallel.py\", line 598, in __call__\n",
      "    return [func(*args, **kwargs)\n",
      "  File \"/Users/sangam/miniconda3/envs/vgramreg/lib/python3.9/inspect.py\", line 3113, in signature\n",
      "    return Signature.from_callable(obj, follow_wrapped=follow_wrapped)\n",
      "  File \"/Users/sangam/miniconda3/envs/vgramreg/lib/python3.9/site-packages/joblib/parallel.py\", line 598, in <listcomp>\n",
      "    return [func(*args, **kwargs)\n",
      "  File \"/Users/sangam/miniconda3/envs/vgramreg/lib/python3.9/inspect.py\", line 2862, in from_callable\n",
      "    return _signature_from_callable(obj, sigcls=cls,\n",
      "  File \"/Users/sangam/miniconda3/envs/vgramreg/lib/python3.9/site-packages/sklearn/utils/parallel.py\", line 136, in __call__\n",
      "    return self.function(*args, **kwargs)\n",
      "  File \"/Users/sangam/miniconda3/envs/vgramreg/lib/python3.9/inspect.py\", line 2325, in _signature_from_callable\n",
      "    return _signature_from_function(sigcls, obj,\n",
      "  File \"/Users/sangam/miniconda3/envs/vgramreg/lib/python3.9/site-packages/sklearn/model_selection/_validation.py\", line 888, in _fit_and_score\n",
      "    estimator.fit(X_train, y_train, **fit_params)\n",
      "  File \"/Users/sangam/miniconda3/envs/vgramreg/lib/python3.9/inspect.py\", line 2241, in _signature_from_function\n",
      "    return cls(parameters,\n",
      "  File \"/Users/sangam/miniconda3/envs/vgramreg/lib/python3.9/site-packages/sklearn/base.py\", line 1473, in wrapper\n",
      "    return fit_method(estimator, *args, **kwargs)\n",
      "  File \"/Users/sangam/miniconda3/envs/vgramreg/lib/python3.9/inspect.py\", line 2830, in __init__\n",
      "    params = OrderedDict((param.name, param) for param in parameters)\n",
      "  File \"/Users/sangam/miniconda3/envs/vgramreg/lib/python3.9/site-packages/sklearn/ensemble/_forest.py\", line 478, in fit\n",
      "    trees = [\n",
      "  File \"/Users/sangam/miniconda3/envs/vgramreg/lib/python3.9/inspect.py\", line 2830, in <genexpr>\n",
      "    params = OrderedDict((param.name, param) for param in parameters)\n",
      "  File \"/Users/sangam/miniconda3/envs/vgramreg/lib/python3.9/site-packages/sklearn/ensemble/_forest.py\", line 479, in <listcomp>\n",
      "    self._make_estimator(append=False, random_state=random_state)\n",
      "  File \"/Users/sangam/miniconda3/envs/vgramreg/lib/python3.9/inspect.py\", line 2550, in name\n",
      "    return self._name\n",
      "  File \"/Users/sangam/miniconda3/envs/vgramreg/lib/python3.9/site-packages/sklearn/ensemble/_base.py\", line 146, in _make_estimator\n",
      "    estimator.set_params(**{p: getattr(self, p) for p in self.estimator_params})\n",
      "  File \"/Users/sangam/miniconda3/envs/vgramreg/lib/python3.9/site-packages/sklearn/base.py\", line 272, in set_params\n",
      "    valid_params = self.get_params(deep=True)\n",
      "  File \"/Users/sangam/miniconda3/envs/vgramreg/lib/python3.9/site-packages/sklearn/base.py\", line 243, in get_params\n",
      "    for key in self._get_param_names():\n",
      "  File \"/Users/sangam/miniconda3/envs/vgramreg/lib/python3.9/site-packages/sklearn/base.py\", line 208, in _get_param_names\n",
      "    init_signature = inspect.signature(init)\n",
      "  File \"/Users/sangam/miniconda3/envs/vgramreg/lib/python3.9/inspect.py\", line 3113, in signature\n",
      "    return Signature.from_callable(obj, follow_wrapped=follow_wrapped)\n",
      "  File \"/Users/sangam/miniconda3/envs/vgramreg/lib/python3.9/inspect.py\", line 2862, in from_callable\n",
      "    return _signature_from_callable(obj, sigcls=cls,\n",
      "  File \"/Users/sangam/miniconda3/envs/vgramreg/lib/python3.9/inspect.py\", line 2325, in _signature_from_callable\n",
      "    return _signature_from_function(sigcls, obj,\n",
      "KeyboardInterrupt\n",
      "  File \"/Users/sangam/miniconda3/envs/vgramreg/lib/python3.9/inspect.py\", line 2196, in _signature_from_function\n",
      "    parameters.append(Parameter(name, annotation=annotation,\n",
      "\n",
      "During handling of the above exception, another exception occurred:\n",
      "\n",
      "Traceback (most recent call last):\n",
      "  File \"/Users/sangam/miniconda3/envs/vgramreg/lib/python3.9/inspect.py\", line 2508, in __init__\n",
      "    self._default = default\n",
      "  File \"/Users/sangam/miniconda3/envs/vgramreg/lib/python3.9/multiprocessing/process.py\", line 315, in _bootstrap\n",
      "    self.run()\n",
      "  File \"/Users/sangam/miniconda3/envs/vgramreg/lib/python3.9/multiprocessing/process.py\", line 108, in run\n",
      "    self._target(*self._args, **self._kwargs)\n",
      "  File \"/Users/sangam/miniconda3/envs/vgramreg/lib/python3.9/site-packages/joblib/externals/loky/process_executor.py\", line 465, in _process_worker\n",
      "    exc = _ExceptionWithTraceback(e)\n",
      "  File \"/Users/sangam/miniconda3/envs/vgramreg/lib/python3.9/site-packages/joblib/externals/loky/process_executor.py\", line 247, in __init__\n",
      "    tb = traceback.format_exception(type(exc), exc, tb)\n",
      "  File \"/Users/sangam/miniconda3/envs/vgramreg/lib/python3.9/traceback.py\", line 120, in format_exception\n",
      "    return list(TracebackException(\n",
      "  File \"/Users/sangam/miniconda3/envs/vgramreg/lib/python3.9/traceback.py\", line 517, in __init__\n",
      "    self.stack = StackSummary.extract(\n",
      "  File \"/Users/sangam/miniconda3/envs/vgramreg/lib/python3.9/traceback.py\", line 366, in extract\n",
      "    f.line\n",
      "  File \"/Users/sangam/miniconda3/envs/vgramreg/lib/python3.9/traceback.py\", line 288, in line\n",
      "    self._line = linecache.getline(self.filename, self.lineno).strip()\n",
      "KeyboardInterrupt\n",
      "  File \"/Users/sangam/miniconda3/envs/vgramreg/lib/python3.9/linecache.py\", line 30, in getline\n",
      "    lines = getlines(filename, module_globals)\n",
      "  File \"/Users/sangam/miniconda3/envs/vgramreg/lib/python3.9/linecache.py\", line 46, in getlines\n",
      "    return updatecache(filename, module_globals)\n",
      "  File \"/Users/sangam/miniconda3/envs/vgramreg/lib/python3.9/linecache.py\", line 136, in updatecache\n",
      "    with tokenize.open(fullname) as fp:\n",
      "  File \"/Users/sangam/miniconda3/envs/vgramreg/lib/python3.9/tokenize.py\", line 394, in open\n",
      "    encoding, lines = detect_encoding(buffer.readline)\n",
      "  File \"/Users/sangam/miniconda3/envs/vgramreg/lib/python3.9/tokenize.py\", line 363, in detect_encoding\n",
      "    first = read_or_stop()\n",
      "  File \"/Users/sangam/miniconda3/envs/vgramreg/lib/python3.9/tokenize.py\", line 321, in read_or_stop\n",
      "    return readline()\n",
      "\n",
      "During handling of the above exception, another exception occurred:\n",
      "\n",
      "Traceback (most recent call last):\n",
      "KeyboardInterrupt\n",
      "  File \"/Users/sangam/miniconda3/envs/vgramreg/lib/python3.9/multiprocessing/process.py\", line 315, in _bootstrap\n",
      "    self.run()\n",
      "  File \"/Users/sangam/miniconda3/envs/vgramreg/lib/python3.9/multiprocessing/process.py\", line 108, in run\n",
      "    self._target(*self._args, **self._kwargs)\n",
      "  File \"/Users/sangam/miniconda3/envs/vgramreg/lib/python3.9/site-packages/joblib/externals/loky/process_executor.py\", line 465, in _process_worker\n",
      "    exc = _ExceptionWithTraceback(e)\n",
      "  File \"/Users/sangam/miniconda3/envs/vgramreg/lib/python3.9/site-packages/joblib/externals/loky/process_executor.py\", line 247, in __init__\n",
      "    tb = traceback.format_exception(type(exc), exc, tb)\n",
      "  File \"/Users/sangam/miniconda3/envs/vgramreg/lib/python3.9/traceback.py\", line 120, in format_exception\n",
      "    return list(TracebackException(\n",
      "  File \"/Users/sangam/miniconda3/envs/vgramreg/lib/python3.9/traceback.py\", line 517, in __init__\n",
      "    self.stack = StackSummary.extract(\n",
      "  File \"/Users/sangam/miniconda3/envs/vgramreg/lib/python3.9/traceback.py\", line 366, in extract\n",
      "    f.line\n",
      "  File \"/Users/sangam/miniconda3/envs/vgramreg/lib/python3.9/traceback.py\", line 288, in line\n",
      "    self._line = linecache.getline(self.filename, self.lineno).strip()\n",
      "  File \"/Users/sangam/miniconda3/envs/vgramreg/lib/python3.9/linecache.py\", line 30, in getline\n",
      "    lines = getlines(filename, module_globals)\n",
      "  File \"/Users/sangam/miniconda3/envs/vgramreg/lib/python3.9/linecache.py\", line 46, in getlines\n",
      "    return updatecache(filename, module_globals)\n",
      "  File \"/Users/sangam/miniconda3/envs/vgramreg/lib/python3.9/linecache.py\", line 136, in updatecache\n",
      "    with tokenize.open(fullname) as fp:\n",
      "  File \"/Users/sangam/miniconda3/envs/vgramreg/lib/python3.9/tokenize.py\", line 392, in open\n",
      "    buffer = _builtin_open(filename, 'rb')\n",
      "KeyboardInterrupt\n"
     ]
    },
    {
     "ename": "KeyboardInterrupt",
     "evalue": "",
     "output_type": "error",
     "traceback": [
      "\u001b[0;31m---------------------------------------------------------------------------\u001b[0m",
      "\u001b[0;31mKeyboardInterrupt\u001b[0m                         Traceback (most recent call last)",
      "File \u001b[0;32m~/miniconda3/envs/vgramreg/lib/python3.9/site-packages/joblib/parallel.py:1650\u001b[0m, in \u001b[0;36mParallel._get_outputs\u001b[0;34m(self, iterator, pre_dispatch)\u001b[0m\n\u001b[1;32m   1649\u001b[0m     \u001b[38;5;28;01mwith\u001b[39;00m \u001b[38;5;28mself\u001b[39m\u001b[38;5;241m.\u001b[39m_backend\u001b[38;5;241m.\u001b[39mretrieval_context():\n\u001b[0;32m-> 1650\u001b[0m         \u001b[38;5;28;01myield from\u001b[39;00m \u001b[38;5;28mself\u001b[39m\u001b[38;5;241m.\u001b[39m_retrieve()\n\u001b[1;32m   1652\u001b[0m \u001b[38;5;28;01mexcept\u001b[39;00m \u001b[38;5;167;01mGeneratorExit\u001b[39;00m:\n\u001b[1;32m   1653\u001b[0m     \u001b[38;5;66;03m# The generator has been garbage collected before being fully\u001b[39;00m\n\u001b[1;32m   1654\u001b[0m     \u001b[38;5;66;03m# consumed. This aborts the remaining tasks if possible and warn\u001b[39;00m\n\u001b[1;32m   1655\u001b[0m     \u001b[38;5;66;03m# the user if necessary.\u001b[39;00m\n",
      "File \u001b[0;32m~/miniconda3/envs/vgramreg/lib/python3.9/site-packages/joblib/parallel.py:1762\u001b[0m, in \u001b[0;36mParallel._retrieve\u001b[0;34m(self)\u001b[0m\n\u001b[1;32m   1759\u001b[0m \u001b[38;5;28;01mif\u001b[39;00m ((\u001b[38;5;28mlen\u001b[39m(\u001b[38;5;28mself\u001b[39m\u001b[38;5;241m.\u001b[39m_jobs) \u001b[38;5;241m==\u001b[39m \u001b[38;5;241m0\u001b[39m) \u001b[38;5;129;01mor\u001b[39;00m\n\u001b[1;32m   1760\u001b[0m     (\u001b[38;5;28mself\u001b[39m\u001b[38;5;241m.\u001b[39m_jobs[\u001b[38;5;241m0\u001b[39m]\u001b[38;5;241m.\u001b[39mget_status(\n\u001b[1;32m   1761\u001b[0m         timeout\u001b[38;5;241m=\u001b[39m\u001b[38;5;28mself\u001b[39m\u001b[38;5;241m.\u001b[39mtimeout) \u001b[38;5;241m==\u001b[39m TASK_PENDING)):\n\u001b[0;32m-> 1762\u001b[0m     \u001b[43mtime\u001b[49m\u001b[38;5;241;43m.\u001b[39;49m\u001b[43msleep\u001b[49m\u001b[43m(\u001b[49m\u001b[38;5;241;43m0.01\u001b[39;49m\u001b[43m)\u001b[49m\n\u001b[1;32m   1763\u001b[0m     \u001b[38;5;28;01mcontinue\u001b[39;00m\n",
      "\u001b[0;31mKeyboardInterrupt\u001b[0m: ",
      "\nDuring handling of the above exception, another exception occurred:\n",
      "\u001b[0;31mKeyboardInterrupt\u001b[0m                         Traceback (most recent call last)",
      "Cell \u001b[0;32mIn[63], line 5\u001b[0m\n\u001b[1;32m      3\u001b[0m kf            \u001b[38;5;241m=\u001b[39m KFold(n_splits\u001b[38;5;241m=\u001b[39m\u001b[38;5;241m5\u001b[39m, shuffle\u001b[38;5;241m=\u001b[39m\u001b[38;5;28;01mTrue\u001b[39;00m, random_state\u001b[38;5;241m=\u001b[39m\u001b[38;5;241m42\u001b[39m)\n\u001b[1;32m      4\u001b[0m selectModel_tuning   \u001b[38;5;241m=\u001b[39m ModelSelectionEnsemble(model_name, X_train, y_train)\n\u001b[0;32m----> 5\u001b[0m output_tuning \u001b[38;5;241m=\u001b[39m \u001b[43mselectModel_tuning\u001b[49m\u001b[38;5;241;43m.\u001b[39;49m\u001b[43mfind_best_features_forward\u001b[49m\u001b[43m(\u001b[49m\u001b[43mkf\u001b[49m\u001b[43m,\u001b[49m\u001b[43m \u001b[49m\u001b[43mis_r2_score\u001b[49m\u001b[38;5;241;43m=\u001b[39;49m\u001b[38;5;28;43;01mFalse\u001b[39;49;00m\u001b[43m)\u001b[49m\n\u001b[1;32m      7\u001b[0m selectModel   \u001b[38;5;241m=\u001b[39m ModelSelectionEnsemble(model_name, X_train, y_train)\n\u001b[1;32m      8\u001b[0m output        \u001b[38;5;241m=\u001b[39m selectModel\u001b[38;5;241m.\u001b[39mfind_best_features(kf, r2_score\u001b[38;5;241m=\u001b[39m\u001b[38;5;28;01mFalse\u001b[39;00m)\n",
      "Cell \u001b[0;32mIn[61], line 203\u001b[0m, in \u001b[0;36mModelSelectionEnsemble.find_best_features_forward\u001b[0;34m(self, kf, is_r2_score)\u001b[0m\n\u001b[1;32m    201\u001b[0m \u001b[38;5;66;03m# Select best parameters for the given feature combination\u001b[39;00m\n\u001b[1;32m    202\u001b[0m grid_search \u001b[38;5;241m=\u001b[39m GridSearchCV(estimator\u001b[38;5;241m=\u001b[39mestimator, param_grid\u001b[38;5;241m=\u001b[39mparam_grids[model_name], cv\u001b[38;5;241m=\u001b[39mkf, verbose\u001b[38;5;241m=\u001b[39m\u001b[38;5;241m1\u001b[39m, n_jobs\u001b[38;5;241m=\u001b[39m\u001b[38;5;241m-\u001b[39m\u001b[38;5;241m1\u001b[39m, scoring\u001b[38;5;241m=\u001b[39mscorer)\n\u001b[0;32m--> 203\u001b[0m \u001b[43mgrid_search\u001b[49m\u001b[38;5;241;43m.\u001b[39;49m\u001b[43mfit\u001b[49m\u001b[43m(\u001b[49m\u001b[43mX_train\u001b[49m\u001b[43m[\u001b[49m\u001b[43mtesting_feature\u001b[49m\u001b[43m]\u001b[49m\u001b[43m,\u001b[49m\u001b[43m \u001b[49m\u001b[43my_train\u001b[49m\u001b[43m)\u001b[49m\n\u001b[1;32m    205\u001b[0m best_param  \u001b[38;5;241m=\u001b[39m grid_search\u001b[38;5;241m.\u001b[39mbest_params_\n\u001b[1;32m    207\u001b[0m model \u001b[38;5;241m=\u001b[39m clone(\u001b[38;5;28mself\u001b[39m\u001b[38;5;241m.\u001b[39mmodel)\n",
      "File \u001b[0;32m~/miniconda3/envs/vgramreg/lib/python3.9/site-packages/sklearn/base.py:1473\u001b[0m, in \u001b[0;36m_fit_context.<locals>.decorator.<locals>.wrapper\u001b[0;34m(estimator, *args, **kwargs)\u001b[0m\n\u001b[1;32m   1466\u001b[0m     estimator\u001b[38;5;241m.\u001b[39m_validate_params()\n\u001b[1;32m   1468\u001b[0m \u001b[38;5;28;01mwith\u001b[39;00m config_context(\n\u001b[1;32m   1469\u001b[0m     skip_parameter_validation\u001b[38;5;241m=\u001b[39m(\n\u001b[1;32m   1470\u001b[0m         prefer_skip_nested_validation \u001b[38;5;129;01mor\u001b[39;00m global_skip_validation\n\u001b[1;32m   1471\u001b[0m     )\n\u001b[1;32m   1472\u001b[0m ):\n\u001b[0;32m-> 1473\u001b[0m     \u001b[38;5;28;01mreturn\u001b[39;00m \u001b[43mfit_method\u001b[49m\u001b[43m(\u001b[49m\u001b[43mestimator\u001b[49m\u001b[43m,\u001b[49m\u001b[43m \u001b[49m\u001b[38;5;241;43m*\u001b[39;49m\u001b[43margs\u001b[49m\u001b[43m,\u001b[49m\u001b[43m \u001b[49m\u001b[38;5;241;43m*\u001b[39;49m\u001b[38;5;241;43m*\u001b[39;49m\u001b[43mkwargs\u001b[49m\u001b[43m)\u001b[49m\n",
      "File \u001b[0;32m~/miniconda3/envs/vgramreg/lib/python3.9/site-packages/sklearn/model_selection/_search.py:1018\u001b[0m, in \u001b[0;36mBaseSearchCV.fit\u001b[0;34m(self, X, y, **params)\u001b[0m\n\u001b[1;32m   1012\u001b[0m     results \u001b[38;5;241m=\u001b[39m \u001b[38;5;28mself\u001b[39m\u001b[38;5;241m.\u001b[39m_format_results(\n\u001b[1;32m   1013\u001b[0m         all_candidate_params, n_splits, all_out, all_more_results\n\u001b[1;32m   1014\u001b[0m     )\n\u001b[1;32m   1016\u001b[0m     \u001b[38;5;28;01mreturn\u001b[39;00m results\n\u001b[0;32m-> 1018\u001b[0m \u001b[38;5;28;43mself\u001b[39;49m\u001b[38;5;241;43m.\u001b[39;49m\u001b[43m_run_search\u001b[49m\u001b[43m(\u001b[49m\u001b[43mevaluate_candidates\u001b[49m\u001b[43m)\u001b[49m\n\u001b[1;32m   1020\u001b[0m \u001b[38;5;66;03m# multimetric is determined here because in the case of a callable\u001b[39;00m\n\u001b[1;32m   1021\u001b[0m \u001b[38;5;66;03m# self.scoring the return type is only known after calling\u001b[39;00m\n\u001b[1;32m   1022\u001b[0m first_test_score \u001b[38;5;241m=\u001b[39m all_out[\u001b[38;5;241m0\u001b[39m][\u001b[38;5;124m\"\u001b[39m\u001b[38;5;124mtest_scores\u001b[39m\u001b[38;5;124m\"\u001b[39m]\n",
      "File \u001b[0;32m~/miniconda3/envs/vgramreg/lib/python3.9/site-packages/sklearn/model_selection/_search.py:1572\u001b[0m, in \u001b[0;36mGridSearchCV._run_search\u001b[0;34m(self, evaluate_candidates)\u001b[0m\n\u001b[1;32m   1570\u001b[0m \u001b[38;5;28;01mdef\u001b[39;00m \u001b[38;5;21m_run_search\u001b[39m(\u001b[38;5;28mself\u001b[39m, evaluate_candidates):\n\u001b[1;32m   1571\u001b[0m \u001b[38;5;250m    \u001b[39m\u001b[38;5;124;03m\"\"\"Search all candidates in param_grid\"\"\"\u001b[39;00m\n\u001b[0;32m-> 1572\u001b[0m     \u001b[43mevaluate_candidates\u001b[49m\u001b[43m(\u001b[49m\u001b[43mParameterGrid\u001b[49m\u001b[43m(\u001b[49m\u001b[38;5;28;43mself\u001b[39;49m\u001b[38;5;241;43m.\u001b[39;49m\u001b[43mparam_grid\u001b[49m\u001b[43m)\u001b[49m\u001b[43m)\u001b[49m\n",
      "File \u001b[0;32m~/miniconda3/envs/vgramreg/lib/python3.9/site-packages/sklearn/model_selection/_search.py:964\u001b[0m, in \u001b[0;36mBaseSearchCV.fit.<locals>.evaluate_candidates\u001b[0;34m(candidate_params, cv, more_results)\u001b[0m\n\u001b[1;32m    956\u001b[0m \u001b[38;5;28;01mif\u001b[39;00m \u001b[38;5;28mself\u001b[39m\u001b[38;5;241m.\u001b[39mverbose \u001b[38;5;241m>\u001b[39m \u001b[38;5;241m0\u001b[39m:\n\u001b[1;32m    957\u001b[0m     \u001b[38;5;28mprint\u001b[39m(\n\u001b[1;32m    958\u001b[0m         \u001b[38;5;124m\"\u001b[39m\u001b[38;5;124mFitting \u001b[39m\u001b[38;5;132;01m{0}\u001b[39;00m\u001b[38;5;124m folds for each of \u001b[39m\u001b[38;5;132;01m{1}\u001b[39;00m\u001b[38;5;124m candidates,\u001b[39m\u001b[38;5;124m\"\u001b[39m\n\u001b[1;32m    959\u001b[0m         \u001b[38;5;124m\"\u001b[39m\u001b[38;5;124m totalling \u001b[39m\u001b[38;5;132;01m{2}\u001b[39;00m\u001b[38;5;124m fits\u001b[39m\u001b[38;5;124m\"\u001b[39m\u001b[38;5;241m.\u001b[39mformat(\n\u001b[1;32m    960\u001b[0m             n_splits, n_candidates, n_candidates \u001b[38;5;241m*\u001b[39m n_splits\n\u001b[1;32m    961\u001b[0m         )\n\u001b[1;32m    962\u001b[0m     )\n\u001b[0;32m--> 964\u001b[0m out \u001b[38;5;241m=\u001b[39m \u001b[43mparallel\u001b[49m\u001b[43m(\u001b[49m\n\u001b[1;32m    965\u001b[0m \u001b[43m    \u001b[49m\u001b[43mdelayed\u001b[49m\u001b[43m(\u001b[49m\u001b[43m_fit_and_score\u001b[49m\u001b[43m)\u001b[49m\u001b[43m(\u001b[49m\n\u001b[1;32m    966\u001b[0m \u001b[43m        \u001b[49m\u001b[43mclone\u001b[49m\u001b[43m(\u001b[49m\u001b[43mbase_estimator\u001b[49m\u001b[43m)\u001b[49m\u001b[43m,\u001b[49m\n\u001b[1;32m    967\u001b[0m \u001b[43m        \u001b[49m\u001b[43mX\u001b[49m\u001b[43m,\u001b[49m\n\u001b[1;32m    968\u001b[0m \u001b[43m        \u001b[49m\u001b[43my\u001b[49m\u001b[43m,\u001b[49m\n\u001b[1;32m    969\u001b[0m \u001b[43m        \u001b[49m\u001b[43mtrain\u001b[49m\u001b[38;5;241;43m=\u001b[39;49m\u001b[43mtrain\u001b[49m\u001b[43m,\u001b[49m\n\u001b[1;32m    970\u001b[0m \u001b[43m        \u001b[49m\u001b[43mtest\u001b[49m\u001b[38;5;241;43m=\u001b[39;49m\u001b[43mtest\u001b[49m\u001b[43m,\u001b[49m\n\u001b[1;32m    971\u001b[0m \u001b[43m        \u001b[49m\u001b[43mparameters\u001b[49m\u001b[38;5;241;43m=\u001b[39;49m\u001b[43mparameters\u001b[49m\u001b[43m,\u001b[49m\n\u001b[1;32m    972\u001b[0m \u001b[43m        \u001b[49m\u001b[43msplit_progress\u001b[49m\u001b[38;5;241;43m=\u001b[39;49m\u001b[43m(\u001b[49m\u001b[43msplit_idx\u001b[49m\u001b[43m,\u001b[49m\u001b[43m \u001b[49m\u001b[43mn_splits\u001b[49m\u001b[43m)\u001b[49m\u001b[43m,\u001b[49m\n\u001b[1;32m    973\u001b[0m \u001b[43m        \u001b[49m\u001b[43mcandidate_progress\u001b[49m\u001b[38;5;241;43m=\u001b[39;49m\u001b[43m(\u001b[49m\u001b[43mcand_idx\u001b[49m\u001b[43m,\u001b[49m\u001b[43m \u001b[49m\u001b[43mn_candidates\u001b[49m\u001b[43m)\u001b[49m\u001b[43m,\u001b[49m\n\u001b[1;32m    974\u001b[0m \u001b[43m        \u001b[49m\u001b[38;5;241;43m*\u001b[39;49m\u001b[38;5;241;43m*\u001b[39;49m\u001b[43mfit_and_score_kwargs\u001b[49m\u001b[43m,\u001b[49m\n\u001b[1;32m    975\u001b[0m \u001b[43m    \u001b[49m\u001b[43m)\u001b[49m\n\u001b[1;32m    976\u001b[0m \u001b[43m    \u001b[49m\u001b[38;5;28;43;01mfor\u001b[39;49;00m\u001b[43m \u001b[49m\u001b[43m(\u001b[49m\u001b[43mcand_idx\u001b[49m\u001b[43m,\u001b[49m\u001b[43m \u001b[49m\u001b[43mparameters\u001b[49m\u001b[43m)\u001b[49m\u001b[43m,\u001b[49m\u001b[43m \u001b[49m\u001b[43m(\u001b[49m\u001b[43msplit_idx\u001b[49m\u001b[43m,\u001b[49m\u001b[43m \u001b[49m\u001b[43m(\u001b[49m\u001b[43mtrain\u001b[49m\u001b[43m,\u001b[49m\u001b[43m \u001b[49m\u001b[43mtest\u001b[49m\u001b[43m)\u001b[49m\u001b[43m)\u001b[49m\u001b[43m \u001b[49m\u001b[38;5;129;43;01min\u001b[39;49;00m\u001b[43m \u001b[49m\u001b[43mproduct\u001b[49m\u001b[43m(\u001b[49m\n\u001b[1;32m    977\u001b[0m \u001b[43m        \u001b[49m\u001b[38;5;28;43menumerate\u001b[39;49m\u001b[43m(\u001b[49m\u001b[43mcandidate_params\u001b[49m\u001b[43m)\u001b[49m\u001b[43m,\u001b[49m\n\u001b[1;32m    978\u001b[0m \u001b[43m        \u001b[49m\u001b[38;5;28;43menumerate\u001b[39;49m\u001b[43m(\u001b[49m\u001b[43mcv\u001b[49m\u001b[38;5;241;43m.\u001b[39;49m\u001b[43msplit\u001b[49m\u001b[43m(\u001b[49m\u001b[43mX\u001b[49m\u001b[43m,\u001b[49m\u001b[43m \u001b[49m\u001b[43my\u001b[49m\u001b[43m,\u001b[49m\u001b[43m \u001b[49m\u001b[38;5;241;43m*\u001b[39;49m\u001b[38;5;241;43m*\u001b[39;49m\u001b[43mrouted_params\u001b[49m\u001b[38;5;241;43m.\u001b[39;49m\u001b[43msplitter\u001b[49m\u001b[38;5;241;43m.\u001b[39;49m\u001b[43msplit\u001b[49m\u001b[43m)\u001b[49m\u001b[43m)\u001b[49m\u001b[43m,\u001b[49m\n\u001b[1;32m    979\u001b[0m \u001b[43m    \u001b[49m\u001b[43m)\u001b[49m\n\u001b[1;32m    980\u001b[0m \u001b[43m\u001b[49m\u001b[43m)\u001b[49m\n\u001b[1;32m    982\u001b[0m \u001b[38;5;28;01mif\u001b[39;00m \u001b[38;5;28mlen\u001b[39m(out) \u001b[38;5;241m<\u001b[39m \u001b[38;5;241m1\u001b[39m:\n\u001b[1;32m    983\u001b[0m     \u001b[38;5;28;01mraise\u001b[39;00m \u001b[38;5;167;01mValueError\u001b[39;00m(\n\u001b[1;32m    984\u001b[0m         \u001b[38;5;124m\"\u001b[39m\u001b[38;5;124mNo fits were performed. \u001b[39m\u001b[38;5;124m\"\u001b[39m\n\u001b[1;32m    985\u001b[0m         \u001b[38;5;124m\"\u001b[39m\u001b[38;5;124mWas the CV iterator empty? \u001b[39m\u001b[38;5;124m\"\u001b[39m\n\u001b[1;32m    986\u001b[0m         \u001b[38;5;124m\"\u001b[39m\u001b[38;5;124mWere there no candidates?\u001b[39m\u001b[38;5;124m\"\u001b[39m\n\u001b[1;32m    987\u001b[0m     )\n",
      "File \u001b[0;32m~/miniconda3/envs/vgramreg/lib/python3.9/site-packages/sklearn/utils/parallel.py:74\u001b[0m, in \u001b[0;36mParallel.__call__\u001b[0;34m(self, iterable)\u001b[0m\n\u001b[1;32m     69\u001b[0m config \u001b[38;5;241m=\u001b[39m get_config()\n\u001b[1;32m     70\u001b[0m iterable_with_config \u001b[38;5;241m=\u001b[39m (\n\u001b[1;32m     71\u001b[0m     (_with_config(delayed_func, config), args, kwargs)\n\u001b[1;32m     72\u001b[0m     \u001b[38;5;28;01mfor\u001b[39;00m delayed_func, args, kwargs \u001b[38;5;129;01min\u001b[39;00m iterable\n\u001b[1;32m     73\u001b[0m )\n\u001b[0;32m---> 74\u001b[0m \u001b[38;5;28;01mreturn\u001b[39;00m \u001b[38;5;28;43msuper\u001b[39;49m\u001b[43m(\u001b[49m\u001b[43m)\u001b[49m\u001b[38;5;241;43m.\u001b[39;49m\u001b[38;5;21;43m__call__\u001b[39;49m\u001b[43m(\u001b[49m\u001b[43miterable_with_config\u001b[49m\u001b[43m)\u001b[49m\n",
      "File \u001b[0;32m~/miniconda3/envs/vgramreg/lib/python3.9/site-packages/joblib/parallel.py:2007\u001b[0m, in \u001b[0;36mParallel.__call__\u001b[0;34m(self, iterable)\u001b[0m\n\u001b[1;32m   2001\u001b[0m \u001b[38;5;66;03m# The first item from the output is blank, but it makes the interpreter\u001b[39;00m\n\u001b[1;32m   2002\u001b[0m \u001b[38;5;66;03m# progress until it enters the Try/Except block of the generator and\u001b[39;00m\n\u001b[1;32m   2003\u001b[0m \u001b[38;5;66;03m# reaches the first `yield` statement. This starts the asynchronous\u001b[39;00m\n\u001b[1;32m   2004\u001b[0m \u001b[38;5;66;03m# dispatch of the tasks to the workers.\u001b[39;00m\n\u001b[1;32m   2005\u001b[0m \u001b[38;5;28mnext\u001b[39m(output)\n\u001b[0;32m-> 2007\u001b[0m \u001b[38;5;28;01mreturn\u001b[39;00m output \u001b[38;5;28;01mif\u001b[39;00m \u001b[38;5;28mself\u001b[39m\u001b[38;5;241m.\u001b[39mreturn_generator \u001b[38;5;28;01melse\u001b[39;00m \u001b[38;5;28;43mlist\u001b[39;49m\u001b[43m(\u001b[49m\u001b[43moutput\u001b[49m\u001b[43m)\u001b[49m\n",
      "File \u001b[0;32m~/miniconda3/envs/vgramreg/lib/python3.9/site-packages/joblib/parallel.py:1703\u001b[0m, in \u001b[0;36mParallel._get_outputs\u001b[0;34m(self, iterator, pre_dispatch)\u001b[0m\n\u001b[1;32m   1701\u001b[0m \u001b[38;5;28;01mexcept\u001b[39;00m \u001b[38;5;167;01mBaseException\u001b[39;00m:\n\u001b[1;32m   1702\u001b[0m     \u001b[38;5;28mself\u001b[39m\u001b[38;5;241m.\u001b[39m_exception \u001b[38;5;241m=\u001b[39m \u001b[38;5;28;01mTrue\u001b[39;00m\n\u001b[0;32m-> 1703\u001b[0m     \u001b[38;5;28;43mself\u001b[39;49m\u001b[38;5;241;43m.\u001b[39;49m\u001b[43m_abort\u001b[49m\u001b[43m(\u001b[49m\u001b[43m)\u001b[49m\n\u001b[1;32m   1704\u001b[0m     \u001b[38;5;28;01mraise\u001b[39;00m\n\u001b[1;32m   1705\u001b[0m \u001b[38;5;28;01mfinally\u001b[39;00m:\n\u001b[1;32m   1706\u001b[0m     \u001b[38;5;66;03m# Store the unconsumed tasks and terminate the workers if necessary\u001b[39;00m\n",
      "File \u001b[0;32m~/miniconda3/envs/vgramreg/lib/python3.9/site-packages/joblib/parallel.py:1614\u001b[0m, in \u001b[0;36mParallel._abort\u001b[0;34m(self)\u001b[0m\n\u001b[1;32m   1609\u001b[0m \u001b[38;5;28;01mif\u001b[39;00m (\u001b[38;5;129;01mnot\u001b[39;00m \u001b[38;5;28mself\u001b[39m\u001b[38;5;241m.\u001b[39m_aborted \u001b[38;5;129;01mand\u001b[39;00m \u001b[38;5;28mhasattr\u001b[39m(backend, \u001b[38;5;124m'\u001b[39m\u001b[38;5;124mabort_everything\u001b[39m\u001b[38;5;124m'\u001b[39m)):\n\u001b[1;32m   1610\u001b[0m     \u001b[38;5;66;03m# If the backend is managed externally we need to make sure\u001b[39;00m\n\u001b[1;32m   1611\u001b[0m     \u001b[38;5;66;03m# to leave it in a working state to allow for future jobs\u001b[39;00m\n\u001b[1;32m   1612\u001b[0m     \u001b[38;5;66;03m# scheduling.\u001b[39;00m\n\u001b[1;32m   1613\u001b[0m     ensure_ready \u001b[38;5;241m=\u001b[39m \u001b[38;5;28mself\u001b[39m\u001b[38;5;241m.\u001b[39m_managed_backend\n\u001b[0;32m-> 1614\u001b[0m     \u001b[43mbackend\u001b[49m\u001b[38;5;241;43m.\u001b[39;49m\u001b[43mabort_everything\u001b[49m\u001b[43m(\u001b[49m\u001b[43mensure_ready\u001b[49m\u001b[38;5;241;43m=\u001b[39;49m\u001b[43mensure_ready\u001b[49m\u001b[43m)\u001b[49m\n\u001b[1;32m   1615\u001b[0m \u001b[38;5;28mself\u001b[39m\u001b[38;5;241m.\u001b[39m_aborted \u001b[38;5;241m=\u001b[39m \u001b[38;5;28;01mTrue\u001b[39;00m\n",
      "File \u001b[0;32m~/miniconda3/envs/vgramreg/lib/python3.9/site-packages/joblib/_parallel_backends.py:620\u001b[0m, in \u001b[0;36mLokyBackend.abort_everything\u001b[0;34m(self, ensure_ready)\u001b[0m\n\u001b[1;32m    617\u001b[0m \u001b[38;5;28;01mdef\u001b[39;00m \u001b[38;5;21mabort_everything\u001b[39m(\u001b[38;5;28mself\u001b[39m, ensure_ready\u001b[38;5;241m=\u001b[39m\u001b[38;5;28;01mTrue\u001b[39;00m):\n\u001b[1;32m    618\u001b[0m \u001b[38;5;250m    \u001b[39m\u001b[38;5;124;03m\"\"\"Shutdown the workers and restart a new one with the same parameters\u001b[39;00m\n\u001b[1;32m    619\u001b[0m \u001b[38;5;124;03m    \"\"\"\u001b[39;00m\n\u001b[0;32m--> 620\u001b[0m     \u001b[38;5;28;43mself\u001b[39;49m\u001b[38;5;241;43m.\u001b[39;49m\u001b[43m_workers\u001b[49m\u001b[38;5;241;43m.\u001b[39;49m\u001b[43mterminate\u001b[49m\u001b[43m(\u001b[49m\u001b[43mkill_workers\u001b[49m\u001b[38;5;241;43m=\u001b[39;49m\u001b[38;5;28;43;01mTrue\u001b[39;49;00m\u001b[43m)\u001b[49m\n\u001b[1;32m    621\u001b[0m     \u001b[38;5;28mself\u001b[39m\u001b[38;5;241m.\u001b[39m_workers \u001b[38;5;241m=\u001b[39m \u001b[38;5;28;01mNone\u001b[39;00m\n\u001b[1;32m    623\u001b[0m     \u001b[38;5;28;01mif\u001b[39;00m ensure_ready:\n",
      "File \u001b[0;32m~/miniconda3/envs/vgramreg/lib/python3.9/site-packages/joblib/executor.py:75\u001b[0m, in \u001b[0;36mMemmappingExecutor.terminate\u001b[0;34m(self, kill_workers)\u001b[0m\n\u001b[1;32m     73\u001b[0m \u001b[38;5;28;01mdef\u001b[39;00m \u001b[38;5;21mterminate\u001b[39m(\u001b[38;5;28mself\u001b[39m, kill_workers\u001b[38;5;241m=\u001b[39m\u001b[38;5;28;01mFalse\u001b[39;00m):\n\u001b[0;32m---> 75\u001b[0m     \u001b[38;5;28;43mself\u001b[39;49m\u001b[38;5;241;43m.\u001b[39;49m\u001b[43mshutdown\u001b[49m\u001b[43m(\u001b[49m\u001b[43mkill_workers\u001b[49m\u001b[38;5;241;43m=\u001b[39;49m\u001b[43mkill_workers\u001b[49m\u001b[43m)\u001b[49m\n\u001b[1;32m     77\u001b[0m     \u001b[38;5;66;03m# When workers are killed in a brutal manner, they cannot execute the\u001b[39;00m\n\u001b[1;32m     78\u001b[0m     \u001b[38;5;66;03m# finalizer of their shared memmaps. The refcount of those memmaps may\u001b[39;00m\n\u001b[1;32m     79\u001b[0m     \u001b[38;5;66;03m# be off by an unknown number, so instead of decref'ing them, we force\u001b[39;00m\n\u001b[0;32m   (...)\u001b[0m\n\u001b[1;32m     84\u001b[0m     \u001b[38;5;66;03m# with allow_non_empty=True but if we can't, it will be clean up later\u001b[39;00m\n\u001b[1;32m     85\u001b[0m     \u001b[38;5;66;03m# on by the resource_tracker.\u001b[39;00m\n\u001b[1;32m     86\u001b[0m     \u001b[38;5;28;01mwith\u001b[39;00m \u001b[38;5;28mself\u001b[39m\u001b[38;5;241m.\u001b[39m_submit_resize_lock:\n",
      "File \u001b[0;32m~/miniconda3/envs/vgramreg/lib/python3.9/site-packages/joblib/externals/loky/process_executor.py:1303\u001b[0m, in \u001b[0;36mProcessPoolExecutor.shutdown\u001b[0;34m(self, wait, kill_workers)\u001b[0m\n\u001b[1;32m   1299\u001b[0m \u001b[38;5;28;01mif\u001b[39;00m executor_manager_thread \u001b[38;5;129;01mis\u001b[39;00m \u001b[38;5;129;01mnot\u001b[39;00m \u001b[38;5;28;01mNone\u001b[39;00m \u001b[38;5;129;01mand\u001b[39;00m wait:\n\u001b[1;32m   1300\u001b[0m     \u001b[38;5;66;03m# This locks avoids concurrent join if the interpreter\u001b[39;00m\n\u001b[1;32m   1301\u001b[0m     \u001b[38;5;66;03m# is shutting down.\u001b[39;00m\n\u001b[1;32m   1302\u001b[0m     \u001b[38;5;28;01mwith\u001b[39;00m _global_shutdown_lock:\n\u001b[0;32m-> 1303\u001b[0m         \u001b[43mexecutor_manager_thread\u001b[49m\u001b[38;5;241;43m.\u001b[39;49m\u001b[43mjoin\u001b[49m\u001b[43m(\u001b[49m\u001b[43m)\u001b[49m\n\u001b[1;32m   1304\u001b[0m         _threads_wakeups\u001b[38;5;241m.\u001b[39mpop(executor_manager_thread, \u001b[38;5;28;01mNone\u001b[39;00m)\n\u001b[1;32m   1306\u001b[0m \u001b[38;5;66;03m# To reduce the risk of opening too many files, remove references to\u001b[39;00m\n\u001b[1;32m   1307\u001b[0m \u001b[38;5;66;03m# objects that use file descriptors.\u001b[39;00m\n",
      "File \u001b[0;32m~/miniconda3/envs/vgramreg/lib/python3.9/threading.py:1060\u001b[0m, in \u001b[0;36mThread.join\u001b[0;34m(self, timeout)\u001b[0m\n\u001b[1;32m   1057\u001b[0m     \u001b[38;5;28;01mraise\u001b[39;00m \u001b[38;5;167;01mRuntimeError\u001b[39;00m(\u001b[38;5;124m\"\u001b[39m\u001b[38;5;124mcannot join current thread\u001b[39m\u001b[38;5;124m\"\u001b[39m)\n\u001b[1;32m   1059\u001b[0m \u001b[38;5;28;01mif\u001b[39;00m timeout \u001b[38;5;129;01mis\u001b[39;00m \u001b[38;5;28;01mNone\u001b[39;00m:\n\u001b[0;32m-> 1060\u001b[0m     \u001b[38;5;28;43mself\u001b[39;49m\u001b[38;5;241;43m.\u001b[39;49m\u001b[43m_wait_for_tstate_lock\u001b[49m\u001b[43m(\u001b[49m\u001b[43m)\u001b[49m\n\u001b[1;32m   1061\u001b[0m \u001b[38;5;28;01melse\u001b[39;00m:\n\u001b[1;32m   1062\u001b[0m     \u001b[38;5;66;03m# the behavior of a negative timeout isn't documented, but\u001b[39;00m\n\u001b[1;32m   1063\u001b[0m     \u001b[38;5;66;03m# historically .join(timeout=x) for x<0 has acted as if timeout=0\u001b[39;00m\n\u001b[1;32m   1064\u001b[0m     \u001b[38;5;28mself\u001b[39m\u001b[38;5;241m.\u001b[39m_wait_for_tstate_lock(timeout\u001b[38;5;241m=\u001b[39m\u001b[38;5;28mmax\u001b[39m(timeout, \u001b[38;5;241m0\u001b[39m))\n",
      "File \u001b[0;32m~/miniconda3/envs/vgramreg/lib/python3.9/threading.py:1080\u001b[0m, in \u001b[0;36mThread._wait_for_tstate_lock\u001b[0;34m(self, block, timeout)\u001b[0m\n\u001b[1;32m   1077\u001b[0m     \u001b[38;5;28;01mreturn\u001b[39;00m\n\u001b[1;32m   1079\u001b[0m \u001b[38;5;28;01mtry\u001b[39;00m:\n\u001b[0;32m-> 1080\u001b[0m     \u001b[38;5;28;01mif\u001b[39;00m \u001b[43mlock\u001b[49m\u001b[38;5;241;43m.\u001b[39;49m\u001b[43macquire\u001b[49m\u001b[43m(\u001b[49m\u001b[43mblock\u001b[49m\u001b[43m,\u001b[49m\u001b[43m \u001b[49m\u001b[43mtimeout\u001b[49m\u001b[43m)\u001b[49m:\n\u001b[1;32m   1081\u001b[0m         lock\u001b[38;5;241m.\u001b[39mrelease()\n\u001b[1;32m   1082\u001b[0m         \u001b[38;5;28mself\u001b[39m\u001b[38;5;241m.\u001b[39m_stop()\n",
      "\u001b[0;31mKeyboardInterrupt\u001b[0m: "
     ]
    }
   ],
   "source": [
    "model_name    = 'RF'\n",
    "\n",
    "kf            = KFold(n_splits=5, shuffle=True, random_state=42)\n",
    "selectModel_tuning   = ModelSelectionEnsemble(model_name, X_train, y_train)\n",
    "output_tuning = selectModel_tuning.find_best_features_forward(kf, is_r2_score=False)\n",
    "\n",
    "selectModel   = ModelSelectionEnsemble(model_name, X_train, y_train)\n",
    "output        = selectModel.find_best_features(kf, r2_score=False)"
   ]
  },
  {
   "cell_type": "code",
   "execution_count": 55,
   "id": "86b5df9f-3873-4e4c-8e8d-17bd5acf5b21",
   "metadata": {},
   "outputs": [
    {
     "data": {
      "text/plain": [
       "((18.724020594198382,\n",
       "  ['univariate, max(dS/dV) - min(dS/dV)',\n",
       "   'univariate, area(S)',\n",
       "   'univariate, V_max(dS/dV)',\n",
       "   'univariate, V_max(S)',\n",
       "   'vcenter',\n",
       "   'univariate, area(dS/dV)',\n",
       "   'univariate, std(S)',\n",
       "   'univariate, max(S)',\n",
       "   'univariate, mean(S)'],\n",
       "  {'C': 100, 'gamma': 0.01, 'kernel': 'rbf'}),\n",
       " (18.724020594198382,\n",
       "  ['univariate, max(dS/dV) - min(dS/dV)',\n",
       "   'univariate, area(S)',\n",
       "   'univariate, V_max(dS/dV)',\n",
       "   'univariate, V_max(S)',\n",
       "   'vcenter',\n",
       "   'univariate, area(dS/dV)',\n",
       "   'univariate, std(S)',\n",
       "   'univariate, max(S)',\n",
       "   'univariate, mean(S)'],\n",
       "  {'C': 100,\n",
       "   'cache_size': 200,\n",
       "   'coef0': 0.0,\n",
       "   'degree': 3,\n",
       "   'epsilon': 0.1,\n",
       "   'gamma': 0.01,\n",
       "   'kernel': 'rbf',\n",
       "   'max_iter': -1,\n",
       "   'shrinking': True,\n",
       "   'tol': 0.001,\n",
       "   'verbose': False}))"
      ]
     },
     "execution_count": 55,
     "metadata": {},
     "output_type": "execute_result"
    }
   ],
   "source": [
    "output_tuning, output"
   ]
  },
  {
   "cell_type": "code",
   "execution_count": 56,
   "id": "9f9f4f5c-024f-4967-b226-a6bc6209f177",
   "metadata": {},
   "outputs": [
    {
     "name": "stdout",
     "output_type": "stream",
     "text": [
      "['univariate, max(dS/dV) - min(dS/dV)', 'univariate, area(S)', 'univariate, V_max(dS/dV)', 'univariate, V_max(S)', 'vcenter', 'univariate, area(dS/dV)', 'univariate, std(S)', 'univariate, max(S)', 'univariate, mean(S)']\n",
      "% error 24.33908303010931\n",
      "R2 Score 0.8465498852094955\n"
     ]
    }
   ],
   "source": [
    "train_five_fold_score, features, params = output_tuning\n",
    "\n",
    "print(features)\n",
    "selectModel.model.set_params(**params)\n",
    "selectModel.model.fit(X_train[features], y_train)\n",
    "\n",
    "y_pred = selectModel.model.predict(X_test[features])\n",
    "\n",
    "percent_error  = per_error(y_test, y_pred, y_LOD=selectModel.y_LOD)\n",
    "r2             = r2_score(y_test, y_pred)\n",
    "\n",
    "print(\"% error\", percent_error)\n",
    "print(\"R2 Score\",r2)\n"
   ]
  },
  {
   "cell_type": "code",
   "execution_count": 57,
   "id": "6b2cba2e-453e-4f22-b2a0-33612cf570fe",
   "metadata": {},
   "outputs": [
    {
     "name": "stdout",
     "output_type": "stream",
     "text": [
      "['univariate, max(dS/dV) - min(dS/dV)', 'univariate, area(S)', 'univariate, V_max(dS/dV)', 'univariate, V_max(S)', 'vcenter', 'univariate, area(dS/dV)', 'univariate, std(S)', 'univariate, max(S)', 'univariate, mean(S)']\n",
      "% error 24.33908303010931\n",
      "R2 Score 0.8465498852094955\n"
     ]
    }
   ],
   "source": [
    "\n",
    "\n",
    "train_five_fold_score, features, params = output\n",
    "print(features)\n",
    "# selectModel.model.set_params(**params)\n",
    "selectModel.model.fit(X_train[features], y_train)\n",
    "\n",
    "y_pred = selectModel.model.predict(X_test[features])\n",
    "\n",
    "percent_error  = per_error(y_test, y_pred, y_LOD=selectModel.y_LOD)\n",
    "r2             = r2_score(y_test, y_pred)\n",
    "\n",
    "print(\"% error\", percent_error)\n",
    "print(\"R2 Score\",r2)\n"
   ]
  },
  {
   "cell_type": "code",
   "execution_count": null,
   "id": "e381fe61-b057-449a-b9cf-defbfd556cb6",
   "metadata": {},
   "outputs": [],
   "source": []
  },
  {
   "cell_type": "code",
   "execution_count": null,
   "id": "76585845-ff29-4a69-8d5a-50e0f48b4515",
   "metadata": {},
   "outputs": [],
   "source": []
  },
  {
   "cell_type": "code",
   "execution_count": null,
   "id": "6cd36589-764f-4d09-866c-61e5de5204dd",
   "metadata": {},
   "outputs": [],
   "source": []
  }
 ],
 "metadata": {
  "kernelspec": {
   "display_name": "Python 3 (ipykernel)",
   "language": "python",
   "name": "python3"
  },
  "language_info": {
   "codemirror_mode": {
    "name": "ipython",
    "version": 3
   },
   "file_extension": ".py",
   "mimetype": "text/x-python",
   "name": "python",
   "nbconvert_exporter": "python",
   "pygments_lexer": "ipython3",
   "version": "3.9.19"
  }
 },
 "nbformat": 4,
 "nbformat_minor": 5
}
