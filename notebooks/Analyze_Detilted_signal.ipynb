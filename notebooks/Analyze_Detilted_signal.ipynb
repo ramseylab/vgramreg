{
 "cells": [
  {
   "cell_type": "code",
   "execution_count": 1,
   "id": "2bfd197c-6e1d-4627-8193-2ca4d69518c7",
   "metadata": {},
   "outputs": [],
   "source": [
    "import sys\n",
    "sys.path.insert(0, '../')\n",
    "\n",
    "import csaps\n",
    "import typing\n",
    "import numpy as np\n",
    "import numpy\n",
    "import scipy\n",
    "import matplotlib.pyplot as plt\n",
    "\n",
    "from glob import glob\n",
    "from tqdm import tqdm\n",
    "\n",
    "import pandas as pd\n",
    "\n",
    "from src.vg2signal import read_raw_vg_as_df, make_detilter, make_smoother"
   ]
  },
  {
   "cell_type": "code",
   "execution_count": 2,
   "id": "158d4748-7977-4c45-a589-160759b5f754",
   "metadata": {},
   "outputs": [],
   "source": [
    "def make_shoulder_getter(vstart: float,\n",
    "                         vend: float) -> typing.Callable:\n",
    "    def shoulder_getter_func(v: numpy.array,\n",
    "                             lisd: numpy.array):\n",
    "        v_in = numpy.logical_and(v >= vstart, v <= vend)\n",
    "        spline_model = scipy.interpolate.UnivariateSpline(v[v_in],\n",
    "                                                          lisd[v_in],\n",
    "                                                          s=0,\n",
    "                                                          k=4)\n",
    "\n",
    "        v_peak = None\n",
    "        # we are looking for a local minimum of the third derivative between\n",
    "        # vstart and vend\n",
    "        spl_mdl_dd = spline_model.derivative(n=2)\n",
    "        spl_mdl_dd_pred = spl_mdl_dd(v[v_in])\n",
    "\n",
    "        spl_mdl_ddd = spline_model.derivative(n=3)\n",
    "        spl_mdl_ddd_pred = spl_mdl_ddd(v[v_in])\n",
    "        spl_mdl_ddd_b = scipy.interpolate.splrep(v[v_in],\n",
    "                                                 spl_mdl_ddd_pred)\n",
    "        spl_mdl_ddd_ppoly = scipy.interpolate.PPoly.from_spline(spl_mdl_ddd_b)\n",
    "        roots_ddd = spl_mdl_ddd_ppoly.roots(extrapolate=False)\n",
    "        if len(roots_ddd) == 1:\n",
    "            v_peak = float(roots_ddd[0])\n",
    "        elif len(roots_ddd) > 1:\n",
    "            minsecond = min(spl_mdl_dd_pred)\n",
    "            idx = (numpy.abs(spl_mdl_dd_pred - minsecond)).argmin()\n",
    "            vin = list(v[v_in])\n",
    "            v_peak = vin[idx]\n",
    "        else:\n",
    "            minsecond = min(spl_mdl_dd_pred)\n",
    "            idx = (numpy.abs(spl_mdl_dd_pred - minsecond)).argmin()\n",
    "            vin = list(v[v_in])\n",
    "            v_peak = vin[idx]\n",
    "            print(\"WARNING: no roots found\")\n",
    "        return (None, v_peak)\n",
    "    return shoulder_getter_func\n"
   ]
  },
  {
   "cell_type": "code",
   "execution_count": 3,
   "id": "cf004406-be36-4f9c-abaf-14a7dad85684",
   "metadata": {},
   "outputs": [],
   "source": [
    "def check_signal_validity(vg_filename: str,\n",
    "             do_log: bool,\n",
    "             smoothing_bw: float,\n",
    "             vcenter: float,\n",
    "             vwidth: float,\n",
    "             stiffness: float):\n",
    "\n",
    "    vg_df = read_raw_vg_as_df(vg_filename)\n",
    "\n",
    "    if (vg_df['I'].to_numpy() < 0).any():\n",
    "        temp = [None] * 11\n",
    "        return None\n",
    "\n",
    "    if do_log:\n",
    "        cur_var_name = \"logI\"\n",
    "        #vg_df[cur_var_name] = np.emath.logn(logbase, vg_df[\"I\"])\n",
    "        vg_df[cur_var_name] = np.log2(vg_df[\"I\"])\n",
    "    else:\n",
    "        cur_var_name = \"I\"\n",
    "\n",
    "    smoother = make_smoother(smoothing_bw)\n",
    "\n",
    "    vg_df[\"smoothed\"] = smoother(vg_df[\"V\"], vg_df[cur_var_name].to_numpy())\n",
    "\n",
    "    shoulder_getter = make_shoulder_getter(1, 1.1)\n",
    "    (peak_signal, peak_v_shoulder) = shoulder_getter(vg_df[\"V\"],\n",
    "                                                     vg_df[\"smoothed\"])\n",
    "\n",
    "    vcenter = peak_v_shoulder\n",
    "    vstart = vcenter - 0.5*vwidth\n",
    "    vend = vcenter + 0.5*vwidth\n",
    "\n",
    "    detilter = make_detilter(vstart, vend, stiffness)\n",
    "    vg_df[\"detilted\"] = detilter(vg_df[\"V\"].to_numpy(),\n",
    "                                 vg_df[\"smoothed\"].to_numpy())\n",
    "    \n",
    "    max_signal = vg_df['detilted'].max()  \n",
    "    min_signal = vg_df['detilted'].min()\n",
    "\n",
    "    # Invalid data sample when the signal has negative peak higher than positive and has threshold above 0.009\n",
    "    return (True if (abs(min_signal) > abs(max_signal)) and (abs(min_signal)>0.009) else False), vg_df\n",
    "\n",
    "\n",
    "def make_detilter(vstart: float,\n",
    "                  vend: float,\n",
    "                  stiffness: float) -> typing.Callable:\n",
    "    assert stiffness >= 0.0, \\\n",
    "        \"invalid stiffness parameter (should be \" + \\\n",
    "        f\"greater than zero): {stiffness}\"\n",
    "\n",
    "    def detilter_func(v: numpy.array, lis: numpy.array):\n",
    "        v_out  = numpy.logical_or(v < vstart, v > vend)\n",
    "        lis_bg = csaps.csaps(v[v_out], lis[v_out], v,\n",
    "                             smooth=(1.0 / (1.0 + stiffness)))\n",
    "        return (lis - lis_bg), lis_bg\n",
    "\n",
    "    return detilter_func"
   ]
  },
  {
   "cell_type": "code",
   "execution_count": 4,
   "id": "f0a300a8-93a4-400e-be67-84ba3b09b4e9",
   "metadata": {},
   "outputs": [],
   "source": [
    "# do_log        = True\n",
    "# recenter      = False\n",
    "# smoothing_bw  = 0.006\n",
    "# stiffness     = 1\n",
    "# vcenter       = 1.04\n",
    "# vwidth1       = 0.18\n",
    "\n",
    "# root_path     = '/Users/sangam/Desktop/Epilepsey/Code/vgramreg/dataset'\n",
    "# filename_path = [*glob(f'{root_path}/ML1_ML2/2024_02_19_ML1/*.txt'), *glob(f'{root_path}/ML1_ML2/2024_02_22_ML2/*.txt'), *glob(f'{root_path}/ML4/*.txt')]\n",
    "\n",
    "# list_of_invalid_data = []\n",
    "\n",
    "# for filename in filename_path:\n",
    "#     is_invalid, _       = check_signal_validity(filename,\n",
    "#                             do_log,\n",
    "#                             smoothing_bw,\n",
    "#                             vcenter,\n",
    "#                             vwidth1,\n",
    "#                             stiffness)\n",
    "        \n",
    "#     if is_invalid==None: continue\n",
    "#     if is_invalid: list_of_invalid_data.append(filename)"
   ]
  },
  {
   "cell_type": "code",
   "execution_count": 8,
   "id": "08ce4c0e-6e9b-4590-857a-94f0191512fd",
   "metadata": {},
   "outputs": [
    {
     "name": "stdout",
     "output_type": "stream",
     "text": [
      "Add_noise_to_signal.ipynb\n",
      "Analyze_Detilted_signal.ipynb\n",
      "AutoML.ipynb\n",
      "Backward_Feature_Selection.ipynb\n",
      "Check_Model_Transfer_capacity.ipynb\n",
      "Combine_ML1_ML2_ML4 dataset.ipynb\n",
      "Feature_Selection_with_hyperparameter_tuning.ipynb\n",
      "Feature_selection_with_hyperparmeter_tuning.ipynb\n",
      "Final_Hyperparameter_Tunning.ipynb\n",
      "Initial_hyperparameter_Tunning.ipynb\n",
      "K-fold_Ensemble.ipynb\n",
      "Knowledge_Distillation.ipynb\n",
      "ML1_ML2_testing.ipynb\n",
      "Model_Stability_Check.ipynb\n",
      "Outlier_Detection_whole_dataset.ipynb\n",
      "Permutation_testing_for_models.ipynb\n",
      "Raw_Gaussian_Process.ipynb\n",
      "Remove_ML4.ipynb\n",
      "SVM_kernel_tuning.ipynb\n",
      "Test_Batch_Effect.ipynb\n",
      "Test_Batch_Effect_ComBat.ipynb\n",
      "Untitled.ipynb\n",
      "\u001b[34mbatch_effect\u001b[m\u001b[m\n",
      "check_batch_effect_in_data.ipynb\n",
      "conv_neural_network.ipynb\n",
      "outlier_finding.ipynb\n",
      "raw_voltammogram.png\n",
      "raw_voltammogram_.png\n",
      "raw_voltammogram_dititled.png\n",
      "raw_voltammogram_zoomed.png\n",
      "second_derivative.png\n",
      "second_derivative_with roots.png\n",
      "third_derivative.png\n",
      "third_derivative_with_roots.png\n",
      "train_model_with_noise.ipynb\n"
     ]
    }
   ],
   "source": [
    "!ls"
   ]
  },
  {
   "cell_type": "code",
   "execution_count": 5,
   "id": "0d8ac416-3657-4f3f-8849-44768e22c771",
   "metadata": {},
   "outputs": [],
   "source": [
    "from src.generate_dataset import v2signal_extra_features\n",
    "from scipy.signal import savgol_filter, medfilt\n",
    "from scipy.interpolate import UnivariateSpline"
   ]
  },
  {
   "cell_type": "code",
   "execution_count": 9,
   "id": "3e6d9149-fa6c-47f7-af30-3093169ca77d",
   "metadata": {},
   "outputs": [
    {
     "name": "stdout",
     "output_type": "stream",
     "text": [
      "../old_dataset/2023_12_12_LowConc3-alpha/2023_12_12_cbz00_01.txt\n",
      "Inside Fun 0.005829837358446888\n",
      "0.005829837358446888\n"
     ]
    },
    {
     "data": {
      "text/plain": [
       "<matplotlib.collections.PathCollection at 0x176661190>"
      ]
     },
     "execution_count": 9,
     "metadata": {},
     "output_type": "execute_result"
    },
    {
     "data": {
      "image/png": "[encoded data removed]",
      "text/plain": [
       "<Figure size 640x480 with 1 Axes>"
      ]
     },
     "metadata": {},
     "output_type": "display_data"
    }
   ],
   "source": [
    "from glob import glob\n",
    "import os\n",
    "\n",
    "do_log        = True\n",
    "recenter      = False\n",
    "smoothing_bw  = 0.006\n",
    "stiffness     = 0\n",
    "vcenter       = 1.04\n",
    "vwidth1       = 0.15\n",
    "\n",
    "file     = '2023_12_12_cbz00_01' #'2024_02_22_cbz08_16.txt'\n",
    "root_path     = os.path.realpath('../dataset')\n",
    "filename_path = [*glob(f'{root_path}/ML1_ML2/2024_02_19_ML1/*.txt'), \n",
    "                 *glob(f'{root_path}/ML1_ML2/2024_02_22_ML2/*.txt'), \n",
    "                 *glob(f'{root_path}/ML4/*.txt'),\n",
    "                 *glob(f'../old_dataset/2023_12_12_LowConc3-alpha/*.txt'),\n",
    "                 *glob(f'../old_dataset/2023_12_15_LowConc4-beta/*.txt'),\n",
    "                 *glob(f'../old_dataset/2023_12_17_LowConc5-gamma/*.txt')]\n",
    "\n",
    "\n",
    "filename = [pathname for pathname in filename_path if (file in pathname)][0]\n",
    "\n",
    "print(filename)\n",
    "(peak_signal, peak_curvature, peak_v, vg_df, vcenter, ph, signal_mean, signal_std,\\\n",
    "                dS_dV_max_peak, dS_dV_min_peak, dS_dV_peak_diff, dS_dV_max_V, \\\n",
    "                dS_dV_min_V, dS_dV_area) = v2signal_extra_features(filename,\n",
    "                                                                    do_log,\n",
    "                                                                    smoothing_bw,\n",
    "                                                                    vcenter,\n",
    "                                                                    vwidth1,\n",
    "                                                                    stiffness)\n",
    "\n",
    "# if abs(vg_df['detilted'].min()) > abs(vg_df['detilted'].max()):\n",
    "#     vg_df['detilted'] = -vg_df['detilted'] # Flip the signal\n",
    "\n",
    "print(ph)\n",
    "plt.plot(vg_df['V'], vg_df['detilted'])\n",
    "plt.scatter(vcenter, ph, c='red')"
   ]
  },
  {
   "cell_type": "code",
   "execution_count": null,
   "id": "df7a666a-d6dd-467c-b871-d4b1bc6af797",
   "metadata": {},
   "outputs": [],
   "source": []
  },
  {
   "cell_type": "code",
   "execution_count": 10,
   "id": "e556f3c4-8fba-4dcc-9d86-b5ae45c44ac0",
   "metadata": {},
   "outputs": [],
   "source": [
    "def calculate_peak_curvature(x, y):\n",
    "    # Compute first derivatives of x and y\n",
    "    dx = np.gradient(x)\n",
    "    dy = np.gradient(y)\n",
    "    \n",
    "    # Compute second derivatives of x and y\n",
    "    ddx = np.gradient(dx)\n",
    "    ddy = np.gradient(dy)\n",
    "    \n",
    "    # Compute curvature\n",
    "    curvature = np.abs(dx * ddy - dy * ddx) / (dx**2 + dy**2)**(3/2)\n",
    "    \n",
    "    # Find the index of the peak curvature\n",
    "    peak_curvature_idx = np.argmax(curvature)\n",
    "    peak_curvature     = curvature[peak_curvature_idx]\n",
    "\n",
    "    return peak_curvature, peak_curvature_idx"
   ]
  },
  {
   "cell_type": "code",
   "execution_count": 11,
   "id": "840267bb-05f7-497d-9e0b-3973fb2a7f85",
   "metadata": {},
   "outputs": [
    {
     "name": "stdout",
     "output_type": "stream",
     "text": [
      "1.072\n"
     ]
    }
   ],
   "source": [
    "vstart = 1\n",
    "vend   = 1.1\n",
    "v    = vg_df['V']\n",
    "lisd = vg_df['smoothed']\n",
    "\n",
    "v_in = numpy.logical_and(v >= vstart, v <= vend)\n",
    "\n",
    "peak_curvature, peak_curvature_idx = calculate_peak_curvature(v[v_in], lisd[v_in])\n",
    "v_peak = v[v_in].iloc[[peak_curvature_idx]].to_list()[0]\n",
    "print(v_peak)"
   ]
  },
  {
   "cell_type": "code",
   "execution_count": 12,
   "id": "e37fccab-a85f-4d23-87d7-52520d0910fd",
   "metadata": {},
   "outputs": [
    {
     "name": "stdout",
     "output_type": "stream",
     "text": [
      "[1.0108746  1.01807422 1.02403373 1.0325929  1.03475613 1.0441939\n",
      " 1.05401642 1.07308534 1.08272245 1.09999721]\n",
      "1.0108745976010576\n"
     ]
    },
    {
     "data": {
      "image/png": "[encoded data removed]",
      "text/plain": [
       "<Figure size 640x480 with 1 Axes>"
      ]
     },
     "metadata": {},
     "output_type": "display_data"
    }
   ],
   "source": [
    "vstart = 1\n",
    "vend   = 1.1\n",
    "v    = vg_df['V']\n",
    "lisd = vg_df['smoothed']\n",
    "\n",
    "v_in = numpy.logical_and(v >= vstart, v <= vend)\n",
    "\n",
    "spline_model = scipy.interpolate.UnivariateSpline(v[v_in],\n",
    "                                                          lisd[v_in],\n",
    "                                                          s=0,\n",
    "                                                          k=4)\n",
    "\n",
    "v_peak = None\n",
    "# we are looking for a local minimum of the third derivative between\n",
    "# vstart and vend\n",
    "spl_mdl_dd      = spline_model.derivative(n=1)\n",
    "spl_mdl_d_pred  = spl_mdl_dd(v[v_in])\n",
    "\n",
    "plt.plot(v[v_in], spl_mdl_d_pred)\n",
    "\n",
    "spl_mdl_dd      = spline_model.derivative(n=2)\n",
    "spl_mdl_dd_pred = spl_mdl_dd(v[v_in])\n",
    "\n",
    "\n",
    "# plt.plot(v[v_in], spl_mdl_dd_pred, c='blue')\n",
    "\n",
    "spl_mdl_ddd      = spline_model.derivative(n=3)\n",
    "spl_mdl_ddd_pred = spl_mdl_ddd(v[v_in])\n",
    "spl_mdl_ddd_b    = scipy.interpolate.splrep(v[v_in],\n",
    "                                          spl_mdl_ddd_pred)\n",
    "\n",
    "\n",
    "\n",
    "spl_mdl_ddd_ppoly = scipy.interpolate.PPoly.from_spline(spl_mdl_ddd_b)\n",
    "roots_ddd         = spl_mdl_ddd_ppoly.roots(extrapolate=False)\n",
    "\n",
    "print(roots_ddd)\n",
    "\n",
    "if len(roots_ddd) == 1:\n",
    "    v_peak = float(roots_ddd[0])\n",
    "\n",
    "elif len(roots_ddd) > 1:\n",
    "    idx       = spl_mdl_dd(np.array(roots_ddd)).argmin()\n",
    "    v_peak    = roots_ddd[idx]\n",
    "    # minsecond = min(spl_mdl_dd_pred)\n",
    "    # idx = (numpy.abs(spl_mdl_dd_pred - minsecond)).argmin()\n",
    "    # vin = list(v[v_in])\n",
    "    # v_peak = vin[idx]\n",
    "\n",
    "else:\n",
    "    minsecond = min(spl_mdl_dd_pred)\n",
    "    idx = (numpy.abs(spl_mdl_dd_pred - minsecond)).argmin()\n",
    "    vin = list(v[v_in])\n",
    "    v_peak = vin[idx]\n",
    "    print(\"WARNING: no roots found\")\n",
    "\n",
    "\n",
    "print(v_peak)"
   ]
  },
  {
   "cell_type": "code",
   "execution_count": 13,
   "id": "59202c34-9c72-41af-87e9-a19a0f7dd90e",
   "metadata": {},
   "outputs": [
    {
     "data": {
      "text/plain": [
       "[<matplotlib.lines.Line2D at 0x290182460>]"
      ]
     },
     "execution_count": 13,
     "metadata": {},
     "output_type": "execute_result"
    },
    {
     "data": {
      "image/png": "[encoded data removed]",
      "text/plain": [
       "<Figure size 640x480 with 1 Axes>"
      ]
     },
     "metadata": {},
     "output_type": "display_data"
    }
   ],
   "source": [
    "# stiffness       = 0\n",
    "# shoulder_getter = make_shoulder_getter(1, 1.1)\n",
    "(peak_signal, peak_v_shoulder) = None, v_peak#shoulder_getter(vg_df[\"V\"],\n",
    "                                                    # vg_df[\"smoothed\"])\n",
    "\n",
    "vwidth  = vwidth1\n",
    "\n",
    "vcenter = peak_v_shoulder\n",
    "vstart  = vcenter - 0.5*vwidth\n",
    "vend    = vcenter + 0.5*vwidth\n",
    "\n",
    "v  = vg_df[\"V\"].to_numpy()\n",
    "lis= vg_df[\"smoothed\"].to_numpy()\n",
    "\n",
    "v_out  = numpy.logical_or(v < vstart, v > vend)\n",
    "lis_bg = csaps.csaps(v[v_out], lis[v_out], v,\n",
    "                     smooth=(1.0 / (1.0 + stiffness)))\n",
    "\n",
    "detilter = lis - lis_bg\n",
    "\n",
    "plt.plot(v, detilter)"
   ]
  },
  {
   "cell_type": "code",
   "execution_count": 14,
   "id": "2edf9dab-5161-433b-a3ec-9cdd6b419bfd",
   "metadata": {
    "scrolled": true
   },
   "outputs": [
    {
     "name": "stdout",
     "output_type": "stream",
     "text": [
      "0.9358745976010576 1.0858745976010575\n",
      "1.0108745976010576\n",
      "1.4927155830767604\n"
     ]
    },
    {
     "data": {
      "image/png": "[encoded data removed]",
      "text/plain": [
       "<Figure size 640x480 with 1 Axes>"
      ]
     },
     "metadata": {},
     "output_type": "display_data"
    }
   ],
   "source": [
    "\n",
    "print(vstart, vend)\n",
    "clip_mask = (vg_df['V'] > vstart) & (vg_df['V'] < vend)\n",
    "\n",
    "signal_peak = vg_df[vg_df['V']==vcenter]\n",
    "\n",
    "signal_peak_val = spline_model(vcenter)\n",
    "\n",
    "print(vcenter)\n",
    "print(signal_peak_val)\n",
    "\n",
    "\n",
    "plt.plot(vg_df['V'][clip_mask], vg_df['smoothed'][clip_mask], c='blue')\n",
    "plt.scatter(signal_peak['V'], signal_peak['smoothed'], c='red')\n",
    "plt.plot(vg_df['V'][clip_mask], lis_bg[clip_mask], c='red', linestyle='--')\n",
    "\n",
    "os.makedirs('../results/raw_visualization', exist_ok=True)\n",
    "plt.savefig('raw_voltammogram_zoomed.png', dpi=300)"
   ]
  },
  {
   "cell_type": "code",
   "execution_count": null,
   "id": "e22b2bbf-045d-4c52-8a1c-9ced0461a8af",
   "metadata": {},
   "outputs": [],
   "source": []
  },
  {
   "cell_type": "code",
   "execution_count": null,
   "id": "d8d02402-7476-44b6-8956-3830e0f7229a",
   "metadata": {},
   "outputs": [],
   "source": []
  },
  {
   "cell_type": "code",
   "execution_count": null,
   "id": "97fe3c10-3ca1-4ef8-829c-c7c7a39ff9b6",
   "metadata": {},
   "outputs": [],
   "source": []
  },
  {
   "cell_type": "code",
   "execution_count": null,
   "id": "9e2af47d-f1fb-4558-8041-52dd0789ee7c",
   "metadata": {},
   "outputs": [],
   "source": []
  },
  {
   "cell_type": "code",
   "execution_count": null,
   "id": "c712aea1-d384-429c-8ad8-381a0da2199f",
   "metadata": {},
   "outputs": [],
   "source": []
  },
  {
   "cell_type": "code",
   "execution_count": null,
   "id": "07b1564f-0a84-4b6d-bf60-dfebd4bf99bb",
   "metadata": {},
   "outputs": [],
   "source": []
  },
  {
   "cell_type": "code",
   "execution_count": null,
   "id": "460fe2f4-d501-491e-b1d8-3d4ecd38ed8e",
   "metadata": {},
   "outputs": [],
   "source": [
    "fontsize    = 17\n",
    "signal_peak = vg_df[vg_df['V']==vcenter]\n",
    "plt.plot(vg_df['V'], vg_df['detilted'], c='blue')\n",
    "plt.scatter(signal_peak['V'], signal_peak['detilted'], c='red')\n",
    "os.makedirs('../results/raw_visualization', exist_ok=True)\n",
    "plt.xlabel('V', fontsize=fontsize)\n",
    "plt.ylabel('S', fontsize=fontsize)\n",
    "plt.xticks(fontsize=fontsize)\n",
    "plt.yticks(fontsize=fontsize)\n",
    "plt.tight_layout()\n",
    "plt.savefig('../results/raw_visualization/raw_voltammogram_detiteled.png', dpi=300)"
   ]
  },
  {
   "cell_type": "code",
   "execution_count": null,
   "id": "0d018b9a-8d0c-405f-a841-9dfa2bc81fa5",
   "metadata": {},
   "outputs": [],
   "source": [
    "clip_mask = (vg_df['V'] >= vstart) & (vg_df['V'] < vend)\n",
    "\n",
    "signal_peak = vg_df[vg_df['V']==vcenter]\n",
    "\n",
    "plt.plot(vg_df['V'], vg_df['smoothed'], c='blue')\n",
    "plt.scatter(vcenter ,signal_peak_val, c='red')\n",
    "# line,  = plt.plot(vg_df['V'][clip_mask], lis_bg[clip_mask], c='red', linestyle='--')\n",
    "# line.set_dashes([5, 5, 2, 5])\n",
    "\n",
    "# plt.axvline(x=vstart, color='r', linestyle='--', label='Vertical Line')\n",
    "# plt.axvline(x=vend, color='r', linestyle='--', label='Vertical Line')\n",
    "\n",
    "print(vstart, vend)\n",
    "plt.scatter(signal_peak['V'], signal_peak['smoothed'], c='red', s=10)\n",
    "plt.scatter(signal_peak['V'], signal_peak['smoothed'], c='red', s=10)\n",
    "plt.xlabel('V',fontsize=fontsize)\n",
    "plt.ylabel('log(I)', fontsize=fontsize)\n",
    "plt.xticks(fontsize=fontsize)\n",
    "plt.yticks(fontsize=fontsize)\n",
    "# os.makedirs('../results/raw_visualization', exist_ok=True)\n",
    "plt.tight_layout()\n",
    "plt.savefig('raw_voltammogram.png', dpi=300)"
   ]
  },
  {
   "cell_type": "code",
   "execution_count": null,
   "id": "07857c43-d889-4ef5-b019-26464cbf44be",
   "metadata": {},
   "outputs": [],
   "source": [
    "vg_df['V'].max()"
   ]
  },
  {
   "cell_type": "code",
   "execution_count": null,
   "id": "0ceffaef-b38a-48cc-90c7-cbd4a03e6bb7",
   "metadata": {},
   "outputs": [],
   "source": [
    "plt.plot(vg_df['V'], vg_df['detilted'])"
   ]
  },
  {
   "cell_type": "code",
   "execution_count": null,
   "id": "ff06726e-1268-460e-915e-10cd9ef61829",
   "metadata": {},
   "outputs": [],
   "source": [
    "plt.plot(vg_df['V'], vg_df['detilted'].clip(lower=0.0))"
   ]
  },
  {
   "cell_type": "code",
   "execution_count": null,
   "id": "c2b68a76-e7af-451c-8c80-4afdd4de4f95",
   "metadata": {},
   "outputs": [],
   "source": []
  },
  {
   "cell_type": "markdown",
   "id": "8c7ae647-0e6b-4ce2-b627-f0e36850a88f",
   "metadata": {},
   "source": [
    "# Analyze finding peak curvature in more detail"
   ]
  },
  {
   "cell_type": "code",
   "execution_count": null,
   "id": "c5accd9d-74c3-484d-bc1d-b0b15d2c456d",
   "metadata": {},
   "outputs": [],
   "source": [
    "x, y = vg_df['V'], vg_df['smoothed']\n",
    "v_in = (x >= 1) & (x <= 1.1)\n",
    "\n",
    "x, y = x[v_in], y[v_in]\n",
    "spline_model = scipy.interpolate.UnivariateSpline(x,\n",
    "                                                          y,\n",
    "                                                          s=0,\n",
    "                                                          k=4)\n",
    "\n",
    "plt.plot(x, y)\n",
    "plt.ylabel('log(I)')\n",
    "plt.xlabel('V')"
   ]
  },
  {
   "cell_type": "code",
   "execution_count": null,
   "id": "beb2d4d7-c992-4f83-b191-79e40c060a49",
   "metadata": {},
   "outputs": [],
   "source": [
    "# print(x[y.argmax()])"
   ]
  },
  {
   "cell_type": "code",
   "execution_count": null,
   "id": "17a9a3c2-2b14-438b-bc89-1f3d55b57079",
   "metadata": {},
   "outputs": [],
   "source": [
    "spl_mdl_d      = spline_model.derivative(n=1)\n",
    "spl_mdl_d_pred = spl_mdl_d(x)\n",
    "plt.plot(x, spl_mdl_d_pred, c='blue')\n",
    "for i in roots_ddd:\n",
    "    plt.scatter(i, spl_mdl_d(i))"
   ]
  },
  {
   "cell_type": "code",
   "execution_count": null,
   "id": "1c410284-ac47-437e-a1f7-063ed1fc7c6b",
   "metadata": {},
   "outputs": [],
   "source": [
    "spl_mdl_dd      = spline_model.derivative(n=2)\n",
    "spl_mdl_dd_pred = spl_mdl_dd(x)\n",
    "\n",
    "\n",
    "plt.plot(x, spl_mdl_dd_pred)\n",
    "for i in roots_ddd:\n",
    "    plt.scatter(i, spl_mdl_dd(i))\n",
    "\n",
    "plt.savefig('second_derivative_with roots', dpi=300)"
   ]
  },
  {
   "cell_type": "code",
   "execution_count": null,
   "id": "9dc80a39-2473-4d0b-a946-d21192277be5",
   "metadata": {},
   "outputs": [],
   "source": [
    "x.iloc[spl_mdl_dd_pred.argmin()], spl_mdl_dd_pred.min()"
   ]
  },
  {
   "cell_type": "code",
   "execution_count": null,
   "id": "ec16b449-15a6-481a-be1b-01bec76f091c",
   "metadata": {},
   "outputs": [],
   "source": [
    "spl_mdl_ddd      = spline_model.derivative(n=3)\n",
    "spl_mdl_ddd_pred = spl_mdl_ddd(x)\n",
    "spl_mdl_ddd_b    = scipy.interpolate.splrep(x,\n",
    "                                          spl_mdl_ddd_pred)\n",
    "\n",
    "\n",
    "\n",
    "spl_mdl_ddd_ppoly = scipy.interpolate.PPoly.from_spline(spl_mdl_ddd_b)\n",
    "roots_ddd         = spl_mdl_ddd_ppoly.roots(extrapolate=False)\n",
    "\n",
    "print(roots_ddd)"
   ]
  },
  {
   "cell_type": "code",
   "execution_count": null,
   "id": "10b9fce8-c2e9-4fb0-8a2d-d8a494fb5439",
   "metadata": {},
   "outputs": [],
   "source": [
    "roots_ddd[spl_mdl_dd(roots_ddd).argmin()]"
   ]
  },
  {
   "cell_type": "code",
   "execution_count": null,
   "id": "80110c6f-923d-402f-a7af-b383fbebea25",
   "metadata": {},
   "outputs": [],
   "source": [
    "plt.plot(x, spl_mdl_ddd_ppoly(x))\n",
    "\n",
    "for i in roots_ddd:\n",
    "    plt.scatter(i, spl_mdl_ddd_ppoly(i))\n",
    "\n",
    "plt.savefig('third_derivative_with_roots', dpi=300)"
   ]
  },
  {
   "cell_type": "code",
   "execution_count": null,
   "id": "a3f0fad7-ff1f-488c-bee0-7e8e56302b69",
   "metadata": {},
   "outputs": [],
   "source": [
    "\n",
    "plt.plot(x, y)\n",
    "for i in roots_ddd:\n",
    "    plt.scatter(i, spline_model(i))"
   ]
  },
  {
   "cell_type": "code",
   "execution_count": null,
   "id": "e5cd213c-5d39-4a61-83ab-89d58d63669c",
   "metadata": {},
   "outputs": [],
   "source": []
  }
 ],
 "metadata": {
  "kernelspec": {
   "display_name": "Python 3 (ipykernel)",
   "language": "python",
   "name": "python3"
  },
  "language_info": {
   "codemirror_mode": {
    "name": "ipython",
    "version": 3
   },
   "file_extension": ".py",
   "mimetype": "text/x-python",
   "name": "python",
   "nbconvert_exporter": "python",
   "pygments_lexer": "ipython3",
   "version": "3.9.19"
  }
 },
 "nbformat": 4,
 "nbformat_minor": 5
}
