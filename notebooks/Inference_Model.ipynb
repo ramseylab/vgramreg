{
 "cells": [
  {
   "cell_type": "code",
   "execution_count": 1,
   "id": "e47b8807-69c1-4393-a922-e4cb582434dd",
   "metadata": {},
   "outputs": [],
   "source": [
    "import os\n",
    "import sys\n",
    "sys.path.insert(0, '../')\n",
    "\n",
    "from pickle import load\n",
    "import pandas as pd\n",
    "import numpy  as np\n",
    "\n",
    "from sklearn.metrics import r2_score\n",
    "\n",
    "from src.utils import normalizer_inference_dataset, per_error, find_adj_score, evaluate_score_class_stratified\n",
    "from src.config import models_features_per, model_name_conversion\n",
    "from src.graph_visualization import visualization_testing_dataset, visualization_class_stratified"
   ]
  },
  {
   "cell_type": "code",
   "execution_count": 2,
   "id": "0b9e6343-8b3a-4363-bc3e-a46ca394b679",
   "metadata": {},
   "outputs": [],
   "source": [
    "dataset_name      = '2023_12_17_LowConc5-gamma'  \n",
    "dataset_path      = f'/Users/sangam/Desktop/Epilepsey/Code/vgramreg/old_dataset/{dataset_name}/feature_extraction_vwidth_0.15_root_min_testing.xlsx'\n",
    "test_dataset      =  pd.read_excel(dataset_path)\n",
    "normalizer_type   = 'mean_std'\n",
    "add_alpha         = True\n",
    "X_infer, y_infer  =  normalizer_inference_dataset(test_dataset, normalizer_type=normalizer_type)"
   ]
  },
  {
   "cell_type": "code",
   "execution_count": 3,
   "id": "1802641a-51b0-4a58-8875-be7776c9fc82",
   "metadata": {},
   "outputs": [],
   "source": [
    "root_model = '../models'\n",
    "model_ver  = f\"Data_augmentation_normalizer_type_{normalizer_type}_use_combat_False_outlier_remove_train_only_vwidth_0.15_root_min_{'_alpha' if add_alpha else ''}\"\n",
    "\n",
    "all_models = ['Linear', 'SVM', 'GP', 'RF', 'KNN']\n",
    "y_LOD      = 0.9117010154341669\n",
    "\n",
    "r2_score_val,  per_diff_val  = {'Models':[], 'Scores':[]}, {'Models':[], 'Scores':[]}\n",
    "r2_score_test, per_diff_test = {'Models':[], 'Scores':[]}, {'Models':[], 'Scores':[]}\n",
    "\n",
    "labels =sorted(y_infer.unique())\n",
    "\n",
    "r2_score_class_stratified_test  = {'Models':[]} | {str(i):[] for i in labels}\n",
    "per_diff_class_stratified_test  = {'Models':[]} | {str(i):[] for i in labels}\n",
    "\n",
    "all_model_pred                  = {}\n",
    "\n",
    "for model_name in all_models:\n",
    "    with open(os.path.join(root_model, model_ver, f'{model_name}.pickle'), 'rb') as f: \n",
    "        model = load(f) \n",
    "\n",
    "    # models_features_per[model_name] = ['univariate, max(S)']\n",
    "    \n",
    "        \n",
    "    y_pred        =  model.predict(X_infer[models_features_per[model_name]])\n",
    "    r2_test_score =  r2_score(y_infer, y_pred)\n",
    "    adj_r2_test   =  find_adj_score(len(y_pred), len(models_features_per[model_name]), r2_test_score)\n",
    "    \n",
    "    r2_score_test['Scores'].append((r2_test_score, adj_r2_test))\n",
    "    per_diff_test['Scores'].append(per_error(y_infer, y_pred, y_LOD))\n",
    "\n",
    "    r2_score_test['Models'].append(model_name)\n",
    "    per_diff_test['Models'].append(model_name)\n",
    "\n",
    "    # Add label stratified Results\n",
    "    r2_score_class_stratified_test['Models'].append(model_name)\n",
    "    per_diff_class_stratified_test['Models'].append(model_name)\n",
    "\n",
    "    temp_output_r2       = evaluate_score_class_stratified(y_pred, y_infer)\n",
    "    temp_output_per_diff = evaluate_score_class_stratified(y_pred, y_infer, score='per_diff', y_LOD=y_LOD)\n",
    "    \n",
    "    for label in y_infer.unique():\n",
    "        r2_score_class_stratified_test[str(label)].append(temp_output_r2[label]['score'])\n",
    "        per_diff_class_stratified_test[str(label)].append(temp_output_per_diff[label]['score'])\n",
    "\n",
    "    all_model_pred[model_name] =  pd.DataFrame({'y_true':y_infer, 'y_pred':y_pred, 'diff': np.abs(y_infer - y_pred)})\n"
   ]
  },
  {
   "cell_type": "code",
   "execution_count": 4,
   "id": "bd0a84ae-38c2-429b-8dbd-f36af6b88d30",
   "metadata": {},
   "outputs": [],
   "source": [
    "savedir = os.path.join(\"../results/predicted_output\", model_ver, dataset_name)\n",
    "os.makedirs(savedir, exist_ok=True)\n",
    "\n",
    "for model_name in all_model_pred:\n",
    "    all_model_pred[model_name].to_excel(os.path.join(savedir, f'{model_name}.xlsx'))"
   ]
  },
  {
   "cell_type": "code",
   "execution_count": 5,
   "id": "9bc3ec5b-1f92-453c-ba77-cb6d3bce0433",
   "metadata": {},
   "outputs": [
    {
     "data": {
      "text/plain": [
       "<Figure size 640x480 with 0 Axes>"
      ]
     },
     "metadata": {},
     "output_type": "display_data"
    },
    {
     "data": {
      "text/plain": [
       "<Figure size 640x480 with 0 Axes>"
      ]
     },
     "metadata": {},
     "output_type": "display_data"
    },
    {
     "data": {
      "image/png": "[encoded data removed]",
      "text/plain": [
       "<Figure size 640x480 with 1 Axes>"
      ]
     },
     "metadata": {},
     "output_type": "display_data"
    }
   ],
   "source": [
    "\n",
    "savedir      = os.path.join(\"../results/Inference Model\", model_ver, dataset_name)\n",
    "adj_score    = False\n",
    "\n",
    "os.makedirs(savedir, exist_ok=True)\n",
    "\n",
    "visualization_testing_dataset(r2_score_test,  f'{savedir}/r2_score_test.png',   model_name_conversion, only_one_multivariate=False, adj_score=adj_score, legends=True)\n",
    "visualization_testing_dataset(per_diff_test, f'{savedir}/per_error_test.png', model_name_conversion, only_one_multivariate=False, r2_score=False, adj_score=False, legends=True)\n",
    "\n",
    "visualization_class_stratified(per_diff_class_stratified_test, f'{savedir}/per_error_class_stratified.png')"
   ]
  },
  {
   "cell_type": "code",
   "execution_count": 6,
   "id": "e07afc3a-e910-4be0-97a2-db0fb3a0d756",
   "metadata": {},
   "outputs": [
    {
     "data": {
      "text/plain": [
       "['0', '5', '10', '15']"
      ]
     },
     "execution_count": 6,
     "metadata": {},
     "output_type": "execute_result"
    }
   ],
   "source": [
    "list(per_diff_class_stratified_test.keys())[1:]"
   ]
  },
  {
   "cell_type": "code",
   "execution_count": null,
   "id": "17db269e-6d66-4693-9133-6576d6e5fa80",
   "metadata": {},
   "outputs": [],
   "source": [
    "all_data_5_"
   ]
  },
  {
   "cell_type": "code",
   "execution_count": null,
   "id": "8b0ba664-6674-4f9b-abfc-93366a97df64",
   "metadata": {},
   "outputs": [],
   "source": []
  }
 ],
 "metadata": {
  "kernelspec": {
   "display_name": "Python 3 (ipykernel)",
   "language": "python",
   "name": "python3"
  },
  "language_info": {
   "codemirror_mode": {
    "name": "ipython",
    "version": 3
   },
   "file_extension": ".py",
   "mimetype": "text/x-python",
   "name": "python",
   "nbconvert_exporter": "python",
   "pygments_lexer": "ipython3",
   "version": "3.9.19"
  }
 },
 "nbformat": 4,
 "nbformat_minor": 5
}
