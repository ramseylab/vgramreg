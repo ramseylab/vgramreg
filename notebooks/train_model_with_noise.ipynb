{
 "cells": [
  {
   "cell_type": "markdown",
   "id": "7dd88226-4ab6-4d28-88b6-821d3bd6c147",
   "metadata": {},
   "source": [
    "In this experiment, I train the models with noisy data and test the performance on test data.<br>\n",
    "- If the performace of test dataset is comparable with the performance trained on noise free dataset then the data augmentation is helpful"
   ]
  },
  {
   "cell_type": "code",
   "execution_count": null,
   "id": "5f6b81df-9557-40eb-9fa0-39690e721106",
   "metadata": {},
   "outputs": [],
   "source": []
  }
 ],
 "metadata": {
  "kernelspec": {
   "display_name": "Python 3 (ipykernel)",
   "language": "python",
   "name": "python3"
  },
  "language_info": {
   "codemirror_mode": {
    "name": "ipython",
    "version": 3
   },
   "file_extension": ".py",
   "mimetype": "text/x-python",
   "name": "python",
   "nbconvert_exporter": "python",
   "pygments_lexer": "ipython3",
   "version": "3.9.19"
  }
 },
 "nbformat": 4,
 "nbformat_minor": 5
}
