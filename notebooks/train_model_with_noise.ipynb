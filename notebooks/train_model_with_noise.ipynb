{
 "cells": [
  {
   "cell_type": "markdown",
   "id": "7dd88226-4ab6-4d28-88b6-821d3bd6c147",
   "metadata": {},
   "source": [
    "In this experiment, I train the models with noisy data and test the performance on test data.<br>\n",
    "- If the performace of test dataset is comparable with the performance trained on noise free dataset then the data augmentation is helpful"
   ]
  },
  {
   "cell_type": "code",
   "execution_count": 1,
   "id": "5f6b81df-9557-40eb-9fa0-39690e721106",
   "metadata": {},
   "outputs": [],
   "source": [
    "import warnings\n",
    "warnings.filterwarnings('ignore')\n",
    "\n",
    "import sys\n",
    "import os\n",
    "import pandas as pd\n",
    "import numpy as np\n",
    "import matplotlib.pyplot as plt\n",
    "\n",
    "sys.path.insert(0, '../')\n",
    "\n",
    "from sklearn.manifold import TSNE\n",
    "from sklearn.decomposition import PCA\n",
    "from sklearn.preprocessing import StandardScaler\n",
    "from sklearn.model_selection import train_test_split, KFold\n",
    "from sklearn.base import clone\n",
    "from sklearn.metrics import r2_score\n",
    "\n",
    "from pickle import load, dump\n",
    "\n",
    "from src.load_dataset import load_dataset, select_normalizer\n",
    "from src.utils import tsen_pca_viz, verify_batch_label_dist, calculate_r2_score, calculate_per_diff, per_error, find_adj_score, combine_all_batches, split_batches_back, perform_combat_normalization\n",
    "from src.load_models import select_model\n",
    "from src.graph_visualization import visualization_testing_dataset\n",
    "from src.config import *\n",
    "\n",
    "from pyod.models.iforest import IForest\n",
    "from pyod.models.lof import LOF\n",
    "\n",
    "from pycombat import Combat"
   ]
  },
  {
   "cell_type": "code",
   "execution_count": 2,
   "id": "ef56611f-f276-4720-8f2f-62ecdd04f72b",
   "metadata": {},
   "outputs": [],
   "source": [
    "def select_outlier_removal(o_removal = 'iforest'):\n",
    "    if o_removal=='iforest': return IForest(contamination=0.03,n_estimators=100,\n",
    "                                                 random_state=0) \n",
    "    elif o_removal=='lof':   return LOF(contamination=0.03, n_neighbors=5) \n",
    "\n",
    "def remove_outlier_box_plot():\n",
    "    pass\n",
    "    \n",
    "    \n",
    "def find_outliers_in_data(all_combined, labels, outlier_removal_algo, outlier_threshold=0.7):\n",
    "    ouliers_name = []\n",
    "\n",
    "    for label in labels:\n",
    "        \n",
    "        data  = all_combined[all_combined['y']==label].copy()\n",
    "        tx    = data.drop(columns=['file', 'y'])\n",
    "\n",
    "        if outlier_removal_algo != 'IQR':\n",
    "            o_removal = select_outlier_removal(outlier_removal_algo)\n",
    "            o_removal.fit(tx)\n",
    "            predicted = pd.Series(o_removal.predict(tx),index=tx.index)\n",
    "            \n",
    "            outliers = predicted[predicted > outlier_threshold] \n",
    "            outliers = data.loc[outliers.index] \n",
    "            ouliers_name += outliers['file'].map(lambda x: x.split('/')[-1].replace('.txt', '')).to_list()\n",
    "        else:\n",
    "            pass\n",
    "            \n",
    "\n",
    "    return ouliers_name\n",
    "    \n",
    "def normalize_create_training_data(train, test, blank_norm=False, remove_outlier=None, normalizer_type='mean_std'):\n",
    "\n",
    "    # Remove outlier only from the training dataset\n",
    "    if remove_outlier=='all':\n",
    "        \n",
    "        train = train[train['file'].apply(lambda x: False if (x.split('/')[-1].replace('.txt', '') in ouliners_to_remove) else True)]\n",
    "        test  = test[test['file'].apply(lambda x: False if (x.split('/')[-1].replace('.txt', '') in ouliners_to_remove) else True)]\n",
    "\n",
    "    elif remove_outlier=='train_only':\n",
    "        train = train[train['file'].apply(lambda x: False if (x.split('/')[-1].replace('.txt', '') in ouliners_to_remove) else True)]\n",
    "        \n",
    "    train = train.reset_index(drop=True)\n",
    "    test  = test.reset_index(drop=True)\n",
    "    \n",
    "    X_train = train.drop(columns=['file']).copy()\n",
    "    X_test  = test.drop(columns=['file']).copy()\n",
    "\n",
    "    columns       = X_train.columns\n",
    "    \n",
    "    y_train = train['file'].apply(lambda x: int(x.split('_')[-2].replace('cbz','')))\n",
    "    y_test  = test['file'].apply(lambda x: int(x.split('_')[-2].replace('cbz','')))\n",
    "\n",
    "    assert (X_train.index.values == y_train.index.values).all()\n",
    "\n",
    "    if normalizer_type!=None:\n",
    "        scaler  = select_normalizer(normalizer_type)\n",
    "    \n",
    "        if blank_norm: scaler.fit(X_train[y_train==0])\n",
    "        else: scaler.fit(X_train)\n",
    "    \n",
    "        \n",
    "        X_train = pd.DataFrame(scaler.transform(X_train), columns=columns)\n",
    "        X_test  = pd.DataFrame(scaler.transform(X_test),  columns=columns)\n",
    "\n",
    "    else:\n",
    "        scaler = None\n",
    "\n",
    "    X_train.rename(columns={\"PH\": 'univariate, max(S)', 'signal_std':'univariate, std(S)', 'signal_mean':'univariate, mean(S)', 'peak area':'univariate, area(S)', \\\n",
    "                        'dS_dV_area':'univariate, area(dS/dV)', 'dS_dV_max_peak':'univariate, max(dS/dV)', 'dS_dV_min_peak':'univariate, min(dS/dV)',\\\n",
    "                    'dS_dV_peak_diff':'univariate, max(dS/dV) - min(dS/dV)', \\\n",
    "                    'peak V':'univariate, V_max(S)', 'dS_dV_max_V':'univariate, V_max(dS/dV)', 'dS_dV_min_V':'univariate, V_min(dS/dV)',\\\n",
    "        }, inplace = True)\n",
    "\n",
    "    X_test.rename(columns={\"PH\": 'univariate, max(S)', 'signal_std':'univariate, std(S)', 'signal_mean':'univariate, mean(S)', 'peak area':'univariate, area(S)', \\\n",
    "                        'dS_dV_area':'univariate, area(dS/dV)', 'dS_dV_max_peak':'univariate, max(dS/dV)', 'dS_dV_min_peak':'univariate, min(dS/dV)',\\\n",
    "                    'dS_dV_peak_diff':'univariate, max(dS/dV) - min(dS/dV)', \\\n",
    "                    'peak V':'univariate, V_max(S)', 'dS_dV_max_V':'univariate, V_max(dS/dV)', 'dS_dV_min_V':'univariate, V_min(dS/dV)',\\\n",
    "        }, inplace = True)\n",
    "\n",
    "   \n",
    "\n",
    "    return (X_train, X_test, y_train, y_test), scaler\n",
    "\n",
    "def load_dataset_train_test_splitted(filename, load_dataset_name=['ML1', 'ML2', 'ML4']):\n",
    "    dataset = {}\n",
    "\n",
    "    if 'ML1' in load_dataset_name:\n",
    "        dataset['ML1'] = pd.read_excel(f'/Users/sangam/Desktop/Epilepsey/Code/vgramreg/dataset/ML1_ML2/2024_02_19_ML1/{filename}.xlsx')\n",
    "\n",
    "    if 'ML2' in load_dataset_name:\n",
    "         dataset['ML2'] = pd.read_excel(f'/Users/sangam/Desktop/Epilepsey/Code/vgramreg/dataset/ML1_ML2/2024_02_22_ML2/{filename}.xlsx')\n",
    "    \n",
    "    if 'ML4' in load_dataset_name:\n",
    "        dataset['ML4'] = pd.read_excel(f'/Users/sangam/Desktop/Epilepsey/Code/vgramreg/dataset/ML4/{filename}.xlsx')\n",
    "\n",
    "    return dataset\n",
    "\n"
   ]
  },
  {
   "cell_type": "code",
   "execution_count": 3,
   "id": "09aeeb7f-190f-4838-b465-d4ff7526177c",
   "metadata": {},
   "outputs": [
    {
     "data": {
      "text/plain": [
       "'feature_extraction_vwidth_0.15_root_min_training_noisy'"
      ]
     },
     "execution_count": 3,
     "metadata": {},
     "output_type": "execute_result"
    }
   ],
   "source": [
    "# ouliners_to_remove = ['2024_03_08_cbz16_36', '2024_03_08_cbz16_15']\n",
    "root_min = True\n",
    "vwidth   = 0.15\n",
    "f\"feature_extraction_vwidth_{vwidth}_{'root_min_' if root_min else ''}training_noisy\""
   ]
  },
  {
   "cell_type": "code",
   "execution_count": 4,
   "id": "86fd754a-af21-45fa-8caf-aa0767167e0f",
   "metadata": {},
   "outputs": [],
   "source": [
    "vwidth      = 0.15\n",
    "all_dataset = True\n",
    "root_min    = False\n",
    "\n",
    "if all_dataset:\n",
    "    ML1_noisy_train, ML2_noisy_train, ML4_noisy_train = list(load_dataset_train_test_splitted(f\"feature_extraction_vwidth_{vwidth}_{'root_min_' if root_min else ''}training_noisy\").values())\n",
    "    ML1_train, ML2_train, ML4_train = list(load_dataset_train_test_splitted(f\"feature_extraction_vwidth_{vwidth}_{'root_min_' if root_min else ''}training\").values())\n",
    "    ML1_test, ML2_test, ML4_test    = list(load_dataset_train_test_splitted(f\"feature_extraction_vwidth_{vwidth}_{'root_min_' if root_min else ''}testing\").values())\n",
    "\n",
    "    # Test if training and testing has common dataset\n",
    "    assert len(set(ML1_train['file'].values.tolist()) & set(ML1_test['file'].values.tolist()))==0\n",
    "    assert len(set(ML1_noisy_train['file'].values.tolist()) & set(ML1_test['file'].values.tolist()))==0\n",
    "\n",
    "    assert len(set(ML2_train['file'].values.tolist()) & set(ML2_test['file'].values.tolist()))==0\n",
    "    assert len(set(ML2_noisy_train['file'].values.tolist()) & set(ML2_test['file'].values.tolist()))==0\n",
    "\n",
    "    assert len(set(ML4_train['file'].values.tolist()) & set(ML4_test['file'].values.tolist()))==0\n",
    "    assert len(set(ML4_noisy_train['file'].values.tolist()) & set(ML4_test['file'].values.tolist()))==0\n",
    "\n",
    "else:\n",
    "    ML1_noisy_train, ML2_noisy_train = list(load_dataset_train_test_splitted(f\"feature_extraction_vwidth_{vwidth}_training_root_min_ML1_ML2_noisy\", load_dataset_name=['ML1', 'ML2']).values())\n",
    "    ML1_train, ML2_train             = list(load_dataset_train_test_splitted(f\"feature_extraction_vwidth_{vwidth}_training_root_min_ML1_ML2\", load_dataset_name=['ML1', 'ML2']).values())\n",
    "    ML1_test, ML2_test               = list(load_dataset_train_test_splitted(f\"feature_extraction_vwidth_{vwidth}_testing_root_min_ML1_ML2\",  load_dataset_name=['ML1', 'ML2']).values())\n",
    "\n",
    "    # Test if training and testing has common dataset\n",
    "    assert len(set(ML1_train['file'].values.tolist()) & set(ML1_test['file'].values.tolist()))==0\n",
    "    assert len(set(ML1_noisy_train['file'].values.tolist()) & set(ML1_test['file'].values.tolist()))==0\n",
    "\n",
    "    assert len(set(ML2_train['file'].values.tolist()) & set(ML2_test['file'].values.tolist()))==0\n",
    "    assert len(set(ML2_noisy_train['file'].values.tolist()) & set(ML2_test['file'].values.tolist()))==0\n"
   ]
  },
  {
   "cell_type": "code",
   "execution_count": 5,
   "id": "87baa872-3c6e-4dd4-8741-1374a7cb2159",
   "metadata": {},
   "outputs": [],
   "source": [
    "\n",
    "# all_combined_data  = pd.concat([ML1_train, ML2_train, ML4_train], axis=0).reset_index(drop=True) if all_dataset else pd.concat([ML1_train, ML2_train], axis=0).reset_index(drop=True)\n",
    "# all_combined_data['y'] = all_combined_data['file'].apply(lambda x: int(x.split('_')[-2].replace('cbz','')))                                                                           \n",
    "# ouliners_to_remove = find_outliers_in_data(all_combined_data, all_combined_data['y'].unique(), outlier_removal_algo='iforest')\n",
    "\n",
    "# ouliners_to_remove\n",
    "\n",
    "ouliners_to_remove = ['2024_02_19_cbz08_40',\n",
    "                      '2024_02_19_cbz00_15',\n",
    "                      '2024_02_19_cbz08_37',\n",
    "                      '2024_02_22_cbz00_31',\n",
    "                     '2024_02_22_cbz16_21',\n",
    "                     '2024_02_22_cbz08_10',\n",
    "                     '2024_02_22_cbz00_01',\n",
    "                     '2024_02_22_cbz08_01']"
   ]
  },
  {
   "cell_type": "code",
   "execution_count": 6,
   "id": "b32c931e-777e-498d-8448-7d0626c9da5c",
   "metadata": {},
   "outputs": [],
   "source": [
    "data_propery    = 'augmentation' # noisy, augmentation, and noiseless\n",
    "blank_norm      = False\n",
    "remove_outlier  = 'train_only'   #None, train_only, all\n",
    "normalizer_type = 'mean_std'\n",
    "use_combat      = False\n",
    "\n",
    "if data_propery=='noisy':\n",
    "    (ML1_X_train, ML1_X_test, ML1_y_train, ML1_y_test), ML1_scalar = normalize_create_training_data(ML1_noisy_train, ML1_test, blank_norm, remove_outlier, normalizer_type=normalizer_type)\n",
    "    (ML2_X_train, ML2_X_test, ML2_y_train, ML2_y_test), ML2_scalar = normalize_create_training_data(ML2_noisy_train, ML2_test, blank_norm, remove_outlier, normalizer_type=normalizer_type)\n",
    "    if all_dataset:\n",
    "        (ML4_X_train, ML4_X_test, ML4_y_train, ML4_y_test), ML4_scalar = normalize_create_training_data(ML4_noisy_train, ML4_test, blank_norm, remove_outlier, normalizer_type=normalizer_type)\n",
    "\n",
    "elif data_propery=='augmentation':\n",
    "    ML1_train_combined = pd.concat([ML1_noisy_train, ML1_train])\n",
    "    ML2_train_combined = pd.concat([ML2_noisy_train, ML2_train])\n",
    "\n",
    "    if all_dataset:\n",
    "        ML4_train_combined = pd.concat([ML4_noisy_train, ML4_train])\n",
    "    \n",
    "    (ML1_X_train, ML1_X_test, ML1_y_train, ML1_y_test), ML1_scalar = normalize_create_training_data(ML1_train_combined, ML1_test, blank_norm, remove_outlier, normalizer_type=normalizer_type)\n",
    "    (ML2_X_train, ML2_X_test, ML2_y_train, ML2_y_test), ML2_scalar = normalize_create_training_data(ML2_train_combined, ML2_test, blank_norm, remove_outlier, normalizer_type=normalizer_type)\n",
    "    if all_dataset:\n",
    "        (ML4_X_train, ML4_X_test, ML4_y_train, ML4_y_test), ML4_scalar = normalize_create_training_data(ML4_train_combined, ML4_test, blank_norm, remove_outlier, normalizer_type=normalizer_type)\n",
    "    \n",
    "else:\n",
    "    (ML1_X_train, ML1_X_test, ML1_y_train, ML1_y_test), ML1_scalar = normalize_create_training_data(ML1_train, ML1_test, blank_norm, remove_outlier, normalizer_type=normalizer_type)\n",
    "    (ML2_X_train, ML2_X_test, ML2_y_train, ML2_y_test), ML2_scalar = normalize_create_training_data(ML2_train, ML2_test, blank_norm, remove_outlier, normalizer_type=normalizer_type)\n",
    "    if all_dataset:\n",
    "        (ML4_X_train, ML4_X_test, ML4_y_train, ML4_y_test), ML4_scalar = normalize_create_training_data(ML4_train, ML4_test, blank_norm, remove_outlier, normalizer_type=normalizer_type)\n",
    "\n",
    "\n",
    "\n",
    "if use_combat:\n",
    "    if all_dataset:\n",
    "        batch_labels  = np.repeat(['ML1', 'ML2', 'ML4'], repeats= [len(ML1_X_train), len(ML2_X_train), len(ML4_X_train)])\n",
    "        features      = pd.concat([ML1_X_train, ML2_X_train, ML4_X_train])\n",
    "\n",
    "        assert features.shape[0]==batch_labels.shape[0]\n",
    "        \n",
    "        # define and apply combat normalization\n",
    "        combat        = Combat()\n",
    "        combat_scaler = combat.fit(features.values, batch_labels)\n",
    "\n",
    "        training      = combat_scaler.transform(features.values, batch_labels)\n",
    "        training      = pd.DataFrame(training, columns=ML1_X_train.columns)\n",
    "\n",
    "        testing       = combat_scaler.transform(pd.concat([ML1_X_test, ML2_X_test, ML4_X_test]).values, np.repeat(['ML1', 'ML2', 'ML4'], \n",
    "                                                                                                          repeats= [len(ML1_X_test), \n",
    "                                                                                                                    len(ML2_X_test), \n",
    "                                                                                                                    len(ML4_X_test)]))\n",
    "        testing     = pd.DataFrame(testing, columns=ML1_X_test.columns)\n",
    "\n",
    "        \n",
    "        ML1_X_train_ = training.iloc[0:len(ML1_X_train)]\n",
    "        ML2_X_train_ = training.iloc[len(ML1_X_train):len(ML1_X_train)+len(ML2_X_train)]\n",
    "        ML4_X_train_ = training.iloc[len(ML1_X_train)+len(ML2_X_train):]\n",
    "                                                \n",
    "                                                \n",
    "        ML1_X_test_  = testing.iloc[0:len(ML1_X_test)]\n",
    "        ML2_X_test_  = testing.iloc[len(ML1_X_test):len(ML1_X_test)+len(ML2_X_test)]\n",
    "        ML4_X_test_  = testing.iloc[len(ML1_X_test)+len(ML2_X_test):]\n",
    "\n",
    "\n",
    "        assert (ML1_X_train.shape == ML1_X_train_.shape) and \\\n",
    "               (ML2_X_train.shape==ML2_X_train_.shape)  and  \\\n",
    "               (ML4_X_train.shape==ML4_X_train_.shape)\n",
    "        \n",
    "        assert (ML1_X_test.shape == ML1_X_test_.shape) and \\\n",
    "        (ML2_X_test.shape==ML2_X_test_.shape)  and  \\\n",
    "        (ML4_X_test.shape==ML4_X_test_.shape) \n",
    "\n",
    "        ML1_X_train, ML2_X_train, ML4_X_train = ML1_X_train_, ML2_X_train_, ML4_X_train_\n",
    "        ML1_X_test, ML2_X_test, ML4_X_test    = ML1_X_test_, ML2_X_test_, ML4_X_test_\n",
    "        "
   ]
  },
  {
   "cell_type": "code",
   "execution_count": 7,
   "id": "dc1c8d0f-a7ba-416f-aa42-15bd4300ef19",
   "metadata": {},
   "outputs": [],
   "source": [
    "\n",
    "X_train = pd.concat([ML1_X_train, ML2_X_train, ML4_X_train], axis=0) if all_dataset else pd.concat([ML1_X_train, ML2_X_train], axis=0)\n",
    "y_train = pd.concat([ML1_y_train, ML2_y_train, ML4_y_train], axis=0) if all_dataset else pd.concat([ML1_y_train, ML2_y_train], axis=0)\n",
    "\n",
    "indx_shuffle = np.random.permutation(range(len(X_train)))\n",
    "X_train      = X_train.iloc[indx_shuffle]\n",
    "y_train      = y_train.iloc[indx_shuffle]\n",
    "\n",
    "X_test  = pd.concat([ML1_X_test,  ML2_X_test,  ML4_X_test], axis=0) if all_dataset else pd.concat([ML1_X_test,  ML2_X_test], axis=0)\n",
    "y_test  = pd.concat([ML1_y_test,  ML2_y_test,  ML4_y_test], axis=0) if all_dataset else pd.concat([ML1_y_test,  ML2_y_test], axis=0)"
   ]
  },
  {
   "cell_type": "code",
   "execution_count": 8,
   "id": "0dec587a-7f16-48e2-9a99-677eeb35734a",
   "metadata": {},
   "outputs": [
    {
     "data": {
      "text/plain": [
       "True"
      ]
     },
     "execution_count": 8,
     "metadata": {},
     "output_type": "execute_result"
    }
   ],
   "source": [
    "(ML2_X_train.index.values == ML2_y_train.index.values).all()"
   ]
  },
  {
   "cell_type": "code",
   "execution_count": 9,
   "id": "5dbe3dd0-b5ed-4b50-9460-1163d0a97334",
   "metadata": {},
   "outputs": [
    {
     "data": {
      "text/plain": [
       "((423, 13), (146, 13))"
      ]
     },
     "execution_count": 9,
     "metadata": {},
     "output_type": "execute_result"
    }
   ],
   "source": [
    "X_train.shape, X_test.shape"
   ]
  },
  {
   "cell_type": "code",
   "execution_count": 10,
   "id": "f663dec6-40fc-4142-b22c-a4f603c2e583",
   "metadata": {},
   "outputs": [],
   "source": [
    "def evaluate_score_class_stratified(y_pred:np.ndarray, y_test:pd.Series, score='r2', y_LOD=0.9117010154341669):\n",
    "    y_test = y_test.reset_index(drop=True)\n",
    "    \n",
    "    labels = y_test.unique()\n",
    "    temp   = y_test.groupby(y_test).apply(lambda x: x.index.tolist())\n",
    "    label_to_indx = {label:temp[label] for label in labels}\n",
    "\n",
    "    scores = {}\n",
    "    \n",
    "    for label in labels:\n",
    "        indx = label_to_indx[label]       # Find respective indices for the label\n",
    "        \n",
    "        y_pred_label = y_pred[indx]       # Only take the specific label\n",
    "        y_test_label = y_test[indx]\n",
    "\n",
    "\n",
    "        # Evaluate score for only the specified labels\n",
    "        residue = y_test_label.to_numpy() - y_pred_label\n",
    "\n",
    "        if score=='r2': scores[label] = {'score': r2_score(y_test_label,  y_pred_label),        'residue':  residue} \n",
    "        else:  scores[label] = {'score': per_error(y_test_label, y_pred_label, y_LOD), 'residue': residue } \n",
    "    \n",
    "    return scores\n",
    "\n",
    "def visualization_class_stratified(dict_, path_name):\n",
    "    df_temp = pd.DataFrame(dict_)\n",
    "    ax = df_temp.plot(x='Models', y=['0', '8', '16'], kind='bar', legend=False)\n",
    "    plt.legend()\n",
    "    for i, p in enumerate(ax.patches):\n",
    "        ax.annotate(str(round(p.get_height(), 1)), (p.get_x() + p.get_width() / 2., 0.3 * p.get_height()),\n",
    "                ha='center', va='center', xytext=(0, 10), textcoords='offset points',  rotation='vertical', fontsize=10, )\n",
    "\n",
    "    plt.xlabel('Models')\n",
    "    plt.ylabel('% Error')\n",
    "    if path_name!='':\n",
    "        plt.savefig(f'{path_name}', dpi=300, bbox_inches='tight')\n",
    "    # plt.show()"
   ]
  },
  {
   "cell_type": "code",
   "execution_count": 13,
   "id": "8af98296-03cb-45ca-891e-63ce1705a83c",
   "metadata": {},
   "outputs": [],
   "source": [
    "# List of models\n",
    "models = ['Linear', 'KNN', 'SVM', 'RF', 'GP']\n",
    "\n",
    "# Calcualte y_LOD\n",
    "y_LOD = 0.9117010154341669 #calculate_y_LOD(X_testing, y_testing)\n",
    "kf    = KFold(n_splits=5)\n",
    "\n",
    "find_class_stratified_score = True\n",
    "\n",
    "r2_score_val,  per_diff_val  = {'Models':[], 'Scores':[]}, {'Models':[], 'Scores':[]}\n",
    "r2_score_test, per_diff_test = {'Models':[], 'Scores':[]}, {'Models':[], 'Scores':[]}\n",
    "\n",
    "r2_score_class_stratified_test =  {'Models':[], '0':[], '8':[], '16':[]}\n",
    "per_diff_class_stratified_test  = {'Models':[], '0':[], '8':[], '16':[]}\n",
    "\n",
    "\n",
    "\n",
    "for model_name in models:\n",
    "    models_features_r2[model_name]  = ['univariate, max(S)']\n",
    "    models_features_per[model_name] = ['univariate, max(S)']\n",
    "    \n",
    "    model      = select_model(model_name)\n",
    "\n",
    "    val_r2     = calculate_r2_score(model, X_train[models_features_r2[model_name]],  y_train, kf)\n",
    "    val_per    = calculate_per_diff(model, X_train[models_features_per[model_name]], y_train, kf, y_LOD)\n",
    "\n",
    "    r2_score_val['Scores'].append(val_r2)\n",
    "    per_diff_val['Scores'].append(val_per)\n",
    "\n",
    "    model_r2  = clone(model)\n",
    "    model_r2.fit(X_train[models_features_r2[model_name]], y_train)\n",
    "    \n",
    "    y_pred_r2     = model_r2.predict(X_test[models_features_r2[model_name]])\n",
    "    r2_test_score = r2_score(y_test, y_pred_r2)\n",
    "    adj_r2_test   = find_adj_score(len(y_pred_r2), len(models_features_r2[model_name]), r2_test_score)\n",
    "    \n",
    "    r2_score_test['Scores'].append((r2_test_score, adj_r2_test))\n",
    "\n",
    "    model_per_diff = clone(model)\n",
    "    model_per_diff.fit(X_train[models_features_per[model_name]], y_train)\n",
    "    y_pred_per_diff = model_per_diff.predict(X_test[models_features_per[model_name]])\n",
    "    \n",
    "    per_diff_test['Scores'].append(per_error(y_test, y_pred_per_diff, y_LOD))\n",
    "\n",
    "    r2_score_val['Models'].append(model_name)\n",
    "    per_diff_val['Models'].append(model_name) \n",
    "    r2_score_test['Models'].append(model_name)\n",
    "    per_diff_test['Models'].append(model_name)\n",
    "\n",
    "    \n",
    "    r2_score_class_stratified_test['Models'].append(model_name)\n",
    "    per_diff_class_stratified_test['Models'].append(model_name)\n",
    "\n",
    "    temp_output_r2       = evaluate_score_class_stratified(y_pred_r2, y_test)\n",
    "    temp_output_per_diff = evaluate_score_class_stratified(y_pred_per_diff, y_test, score='per_diff', y_LOD=y_LOD)\n",
    "    \n",
    "    for label in y_test.unique():\n",
    "        r2_score_class_stratified_test[str(label)].append(temp_output_r2[label]['score'])\n",
    "        per_diff_class_stratified_test[str(label)].append(temp_output_per_diff[label]['score'])\n",
    "\n",
    "    save_model_name = f\"../models/Data_{data_propery}_normalizer_type_{normalizer_type}_use_combat_{use_combat}_outlier_remove_{remove_outlier}_vwidth_{vwidth}{'_root_min_' if root_min else ''}\"\n",
    "    os.makedirs(save_model_name, exist_ok=True)\n",
    "\n",
    "    with open(f'{save_model_name}/{model_name}.pickle', 'wb') as f:\n",
    "        dump(model_per_diff, f)"
   ]
  },
  {
   "cell_type": "code",
   "execution_count": 14,
   "id": "5dd0cfc4-dc2e-42a0-b7b8-09fb0fd2ae9d",
   "metadata": {},
   "outputs": [
    {
     "data": {
      "text/plain": [
       "<Figure size 640x480 with 0 Axes>"
      ]
     },
     "metadata": {},
     "output_type": "display_data"
    },
    {
     "data": {
      "text/plain": [
       "<Figure size 640x480 with 0 Axes>"
      ]
     },
     "metadata": {},
     "output_type": "display_data"
    },
    {
     "data": {
      "text/plain": [
       "<Figure size 640x480 with 0 Axes>"
      ]
     },
     "metadata": {},
     "output_type": "display_data"
    },
    {
     "data": {
      "text/plain": [
       "<Figure size 640x480 with 0 Axes>"
      ]
     },
     "metadata": {},
     "output_type": "display_data"
    },
    {
     "data": {
      "image/png": "[encoded data removed]",
      "text/plain": [
       "<Figure size 640x480 with 1 Axes>"
      ]
     },
     "metadata": {},
     "output_type": "display_data"
    }
   ],
   "source": [
    "savedir   = f\"../results/Noisy_Training_Dataset/data_property_{data_propery}_normalizer_type_{normalizer_type}_use_combat_{use_combat}_outlier_remove_{remove_outlier}_vwidth_{vwidth}{'_root_min_' if root_min else ''}\"\n",
    "adj_score = False\n",
    "\n",
    "os.makedirs(savedir, exist_ok=True)\n",
    "\n",
    "visualization_testing_dataset(r2_score_val,  f'{savedir}/r2_score_val.png',   model_name_conversion, only_one_multivariate=False, adj_score=adj_score, legends=True)\n",
    "visualization_testing_dataset(per_diff_val, f'{savedir}/per_error_val.png', model_name_conversion, only_one_multivariate=False, r2_score=False, adj_score=False, legends=True)\n",
    "\n",
    "visualization_testing_dataset(r2_score_test,  f'{savedir}/r2_score_test.png',   model_name_conversion, only_one_multivariate=False, adj_score=adj_score, legends=True)\n",
    "visualization_testing_dataset(per_diff_test, f'{savedir}/per_error_test.png', model_name_conversion, only_one_multivariate=False, r2_score=False, adj_score=False, legends=True)\n",
    "\n",
    "visualization_class_stratified(per_diff_class_stratified_test, f'{savedir}/per_error_class_stratified.png')"
   ]
  },
  {
   "cell_type": "code",
   "execution_count": null,
   "id": "79c15cf1-f6a2-4b65-89a4-56bf060e4918",
   "metadata": {},
   "outputs": [],
   "source": []
  },
  {
   "cell_type": "code",
   "execution_count": null,
   "id": "9e95d86d-3348-4818-af93-b04c4164819e",
   "metadata": {},
   "outputs": [],
   "source": []
  },
  {
   "cell_type": "code",
   "execution_count": null,
   "id": "cc03c2de-3bc6-4fa2-bea3-6e8dee5e9c46",
   "metadata": {},
   "outputs": [],
   "source": []
  },
  {
   "cell_type": "markdown",
   "id": "1d86195d-7de4-49f3-8be7-b47dffde8d0d",
   "metadata": {},
   "source": [
    "## Outlier plot with box plot"
   ]
  },
  {
   "cell_type": "code",
   "execution_count": null,
   "id": "849c3e17-86f1-4dad-8a43-921fd8f31264",
   "metadata": {},
   "outputs": [],
   "source": [
    "import matplotlib.pyplot as plt\n",
    "import seaborn as sns\n",
    "feature = 'PH'\n",
    "\n",
    "# Find outliers \n",
    "for i in all_combined_data['y'].unique():\n",
    "    Q1  = np.percentile(all_combined_data[all_combined_data['y']==i][feature], q=25)\n",
    "    Q3  = np.percentile(all_combined_data[all_combined_data['y']==i][feature], q=75)\n",
    "    \n",
    "    IQR = Q3 - Q1\n",
    "    \n",
    "    lower_bound = Q1 - 1.5*IQR\n",
    "    upper_bound = Q3 + 1.5*IQR\n",
    "\n",
    "    above_upper_bound = all_combined_data[[feature, 'file']][(all_combined_data[feature]>upper_bound) & (all_combined_data['y']==i)]\n",
    "    above_lower_bound = all_combined_data[[feature, 'file']][(all_combined_data[feature]<lower_bound) & (all_combined_data['y']==i)]\n",
    "\n",
    "    print(f\"Con:{i}\", \"Above_upper_bound:\", above_upper_bound['file'].values, \" | \",\"Lower_bound\",  above_lower_bound['file'].values)\n",
    "\n",
    "plt.figure(figsize=(7,4))\n",
    "sns.boxplot(all_combined_data, x='y', y=feature)\n",
    "plt.show()\n"
   ]
  },
  {
   "cell_type": "markdown",
   "id": "26f11206-529c-49c2-b23e-5998e39d6cc9",
   "metadata": {},
   "source": [
    "## Inference"
   ]
  },
  {
   "cell_type": "code",
   "execution_count": null,
   "id": "5cfe3d4d-821c-455d-bb68-2ab30d4c535e",
   "metadata": {},
   "outputs": [],
   "source": [
    "model_r2  = select_model('GP')\n",
    "model_r2.fit(X_train[models_features_r2[model_name]], y_train)"
   ]
  },
  {
   "cell_type": "code",
   "execution_count": null,
   "id": "0866a6f0-7643-4596-8907-aac24d64e95f",
   "metadata": {},
   "outputs": [],
   "source": [
    "filename  = '2024_02_22_cbz00_01'\n",
    "test_data = ML2_test[ML2_test['file'].apply(lambda x: True if filename in x else False)]\n",
    "test_data.drop(columns='file', inplace=True)\n",
    "columns   = test_data.columns\n",
    "test_data = pd.DataFrame(ML2_scalar.transform(test_data), columns=columns)\n",
    "\n",
    "test_data.rename(columns={\"PH\": 'univariate, max(S)', 'signal_std':'univariate, std(S)', 'signal_mean':'univariate, mean(S)', 'peak area':'univariate, area(S)', \\\n",
    "                        'dS_dV_area':'univariate, area(dS/dV)', 'dS_dV_max_peak':'univariate, max(dS/dV)', 'dS_dV_min_peak':'univariate, min(dS/dV)',\\\n",
    "                    'dS_dV_peak_diff':'univariate, max(dS/dV) - min(dS/dV)', \\\n",
    "                    'peak V':'univariate, V_max(S)', 'dS_dV_max_V':'univariate, V_max(dS/dV)', 'dS_dV_min_V':'univariate, V_min(dS/dV)',\\\n",
    "        }, inplace = True)\n",
    "\n",
    "test_data.shape\n",
    "model_r2.predict(test_data[models_features_r2[model_name]])"
   ]
  },
  {
   "cell_type": "code",
   "execution_count": null,
   "id": "8ff51b0c-8ea2-42e7-a472-3c221243bce5",
   "metadata": {},
   "outputs": [],
   "source": [
    "a=39.2\n",
    "b=13.7\n",
    "c=15.2\n",
    "print(a*48/144+b*48/144+c*49/144)"
   ]
  },
  {
   "cell_type": "code",
   "execution_count": null,
   "id": "75ef75b3-ac28-4e4b-8a3d-9077535dca51",
   "metadata": {},
   "outputs": [],
   "source": []
  }
 ],
 "metadata": {
  "kernelspec": {
   "display_name": "Python 3 (ipykernel)",
   "language": "python",
   "name": "python3"
  },
  "language_info": {
   "codemirror_mode": {
    "name": "ipython",
    "version": 3
   },
   "file_extension": ".py",
   "mimetype": "text/x-python",
   "name": "python",
   "nbconvert_exporter": "python",
   "pygments_lexer": "ipython3",
   "version": "3.9.19"
  }
 },
 "nbformat": 4,
 "nbformat_minor": 5
}
