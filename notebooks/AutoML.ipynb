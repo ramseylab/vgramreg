{
 "cells": [
  {
   "cell_type": "code",
   "execution_count": 1,
   "id": "323955d7-75e4-4a92-8083-05f0ebee6c63",
   "metadata": {},
   "outputs": [
    {
     "name": "stderr",
     "output_type": "stream",
     "text": [
      "/Users/sangam/miniconda3/envs/vgramreg/lib/python3.9/site-packages/tpot/builtins/__init__.py:36: UserWarning: Warning: optional dependency `torch` is not available. - skipping import of NN models.\n",
      "  warnings.warn(\"Warning: optional dependency `torch` is not available. - skipping import of NN models.\")\n"
     ]
    }
   ],
   "source": [
    "import tpot\n",
    "from tpot import TPOTRegressor"
   ]
  },
  {
   "cell_type": "code",
   "execution_count": 2,
   "id": "bafdfa8d-fd80-4c29-b080-9df6985844d8",
   "metadata": {},
   "outputs": [],
   "source": [
    "from src.load_dataset import load_dataset"
   ]
  },
  {
   "cell_type": "code",
   "execution_count": 3,
   "id": "2dd91570-5f5d-4b66-9ed0-b377267e9ebb",
   "metadata": {},
   "outputs": [
    {
     "name": "stdout",
     "output_type": "stream",
     "text": [
      "######Data Distribution:#########\n",
      "Training {0: 23, 8: 25, 16: 21}\n",
      "Testing {0: 15, 8: 16, 16: 15}\n",
      "#################################\n"
     ]
    },
    {
     "name": "stderr",
     "output_type": "stream",
     "text": [
      "/Users/sangam/Desktop/Epilepsey/Code/vgramreg/src/load_dataset.py:50: SettingWithCopyWarning: \n",
      "A value is trying to be set on a copy of a slice from a DataFrame\n",
      "\n",
      "See the caveats in the documentation: https://pandas.pydata.org/pandas-docs/stable/user_guide/indexing.html#returning-a-view-versus-a-copy\n",
      "  X.rename(columns={\"PH\": 'univariate, max(S)', 'signal_std':'univariate, std(S)', 'signal_mean':'univariate, mean(S)', 'peak area':'univariate, area(S)', \\\n"
     ]
    }
   ],
   "source": [
    "X_train, X_test, y_train, y_test = load_dataset()"
   ]
  },
  {
   "cell_type": "code",
   "execution_count": 4,
   "id": "480ba411-4a26-4ad4-8976-25045bea41c2",
   "metadata": {},
   "outputs": [
    {
     "name": "stdout",
     "output_type": "stream",
     "text": [
      "Warning: xgboost.XGBRegressor is not available and will not be used by TPOT.\n"
     ]
    },
    {
     "data": {
      "application/vnd.jupyter.widget-view+json": {
       "model_id": "",
       "version_major": 2,
       "version_minor": 0
      },
      "text/plain": [
       "Optimization Progress:   0%|          | 0/300 [00:00<?, ?pipeline/s]"
      ]
     },
     "metadata": {},
     "output_type": "display_data"
    },
    {
     "name": "stdout",
     "output_type": "stream",
     "text": [
      "\n",
      "Generation 1 - Current best internal CV score: 0.9110004073335787\n",
      "\n",
      "Generation 2 - Current best internal CV score: 0.9110004073335787\n",
      "\n",
      "Generation 3 - Current best internal CV score: 0.9110004073335787\n",
      "\n",
      "Generation 4 - Current best internal CV score: 0.9178439208107273\n",
      "\n",
      "Generation 5 - Current best internal CV score: 0.9178439208107273\n",
      "\n",
      "Best pipeline: RandomForestRegressor(Normalizer(input_matrix, norm=max), bootstrap=False, max_features=0.6000000000000001, min_samples_leaf=6, min_samples_split=10, n_estimators=100)\n",
      "Model R^2 score: 0.8591768345863943\n"
     ]
    }
   ],
   "source": [
    "# Initialize and fit TPOT\n",
    "tpot = TPOTRegressor(verbosity=2, generations=5, population_size=50, random_state=42, scoring='r2')\n",
    "tpot.fit(X_train, y_train)\n",
    "\n",
    "# Evaluate the model\n",
    "score = tpot.score(X_test, y_test)\n",
    "print(f'Model R^2 score: {score}')"
   ]
  },
  {
   "cell_type": "code",
   "execution_count": 6,
   "id": "7edabd49-8166-4a3b-97e4-267faa9cb412",
   "metadata": {},
   "outputs": [
    {
     "data": {
      "text/plain": [
       "{'config_dict': None,\n",
       " 'crossover_rate': 0.1,\n",
       " 'cv': 5,\n",
       " 'disable_update_check': False,\n",
       " 'early_stop': None,\n",
       " 'generations': 5,\n",
       " 'log_file': None,\n",
       " 'max_eval_time_mins': 5,\n",
       " 'max_time_mins': None,\n",
       " 'memory': None,\n",
       " 'mutation_rate': 0.9,\n",
       " 'n_jobs': 1,\n",
       " 'offspring_size': None,\n",
       " 'periodic_checkpoint_folder': None,\n",
       " 'population_size': 50,\n",
       " 'random_state': 42,\n",
       " 'scoring': 'r2',\n",
       " 'subsample': 1.0,\n",
       " 'template': None,\n",
       " 'use_dask': False,\n",
       " 'verbosity': 2,\n",
       " 'warm_start': False}"
      ]
     },
     "execution_count": 6,
     "metadata": {},
     "output_type": "execute_result"
    }
   ],
   "source": []
  },
  {
   "cell_type": "code",
   "execution_count": null,
   "id": "517474ad-70b0-4af3-ba02-0cd0affa407d",
   "metadata": {},
   "outputs": [],
   "source": []
  }
 ],
 "metadata": {
  "kernelspec": {
   "display_name": "Python 3 (ipykernel)",
   "language": "python",
   "name": "python3"
  },
  "language_info": {
   "codemirror_mode": {
    "name": "ipython",
    "version": 3
   },
   "file_extension": ".py",
   "mimetype": "text/x-python",
   "name": "python",
   "nbconvert_exporter": "python",
   "pygments_lexer": "ipython3",
   "version": "3.9.19"
  }
 },
 "nbformat": 4,
 "nbformat_minor": 5
}
