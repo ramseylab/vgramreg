{
 "cells": [
  {
   "cell_type": "markdown",
   "id": "d127e70d-b3d8-46e7-9180-158dcc6873ed",
   "metadata": {},
   "source": [
    "## Combining ML1 ML2 and ML4 dataset after removing Batch Effect\n",
    "### Experiments:\n",
    "1. Z-score normalization independently on each dataset and combine dataset with stratified (label and batch).\n",
    "2. Split the model 60/40 train the model and test"
   ]
  },
  {
   "cell_type": "code",
   "execution_count": 32,
   "id": "7c1e5ada-21f4-48e7-a297-e828b8efdbbd",
   "metadata": {},
   "outputs": [],
   "source": [
    "import sys\n",
    "import os\n",
    "import pandas as pd\n",
    "\n",
    "sys.path.insert(0, '../')\n",
    "\n",
    "from sklearn.manifold import TSNE\n",
    "from sklearn.decomposition import PCA\n",
    "from sklearn.preprocessing import StandardScaler\n",
    "from sklearn.model_selection import train_test_split, KFold\n",
    "from sklearn.base import clone\n",
    "from sklearn.metrics import r2_score\n",
    "\n",
    "from src.load_dataset import load_dataset\n",
    "from src.utils import tsen_pca_viz, verify_batch_label_dist, calculate_r2_score, calculate_per_diff, per_error, find_adj_score\n",
    "from src.load_models import select_model\n",
    "from src.graph_visualization import visualization_testing_dataset\n",
    "from src.config import *"
   ]
  },
  {
   "cell_type": "code",
   "execution_count": 43,
   "id": "802e0562-d440-42c7-bf26-c124bf81ecd7",
   "metadata": {},
   "outputs": [],
   "source": [
    "# Load dataset\n",
    "normalization    = True\n",
    "standardize_type = 'min_max' if normalization else 'none'\n",
    "split            = False\n",
    "\n",
    "ML1_X, ML1_y = load_dataset('/Users/sangam/Desktop/Epilepsey/Code/vgramreg/dataset/ML1_ML2/2024_02_19_ML1', normalization=normalization, standardize_type=standardize_type, split=split)\n",
    "ML2_X, ML2_y = load_dataset('/Users/sangam/Desktop/Epilepsey/Code/vgramreg/dataset/ML1_ML2/2024_02_22_ML2', normalization=normalization, standardize_type=standardize_type, split=split)\n",
    "ML4_X, ML4_y = load_dataset('/Users/sangam/Desktop/Epilepsey/Code/vgramreg/dataset/ML4', normalization=normalization, standardize_type=standardize_type, split=split)"
   ]
  },
  {
   "cell_type": "code",
   "execution_count": 44,
   "id": "de556018-ef7c-4fdb-bac9-d1ee16e346d6",
   "metadata": {},
   "outputs": [
    {
     "data": {
      "text/html": [
       "<div>\n",
       "<style scoped>\n",
       "    .dataframe tbody tr th:only-of-type {\n",
       "        vertical-align: middle;\n",
       "    }\n",
       "\n",
       "    .dataframe tbody tr th {\n",
       "        vertical-align: top;\n",
       "    }\n",
       "\n",
       "    .dataframe thead th {\n",
       "        text-align: right;\n",
       "    }\n",
       "</style>\n",
       "<table border=\"1\" class=\"dataframe\">\n",
       "  <thead>\n",
       "    <tr style=\"text-align: right;\">\n",
       "      <th></th>\n",
       "      <th>univariate, area(S)</th>\n",
       "      <th>peak curvature</th>\n",
       "      <th>univariate, V_max(S)</th>\n",
       "      <th>vcenter</th>\n",
       "      <th>univariate, max(S)</th>\n",
       "      <th>univariate, mean(S)</th>\n",
       "      <th>univariate, std(S)</th>\n",
       "      <th>univariate, max(dS/dV)</th>\n",
       "      <th>univariate, min(dS/dV)</th>\n",
       "      <th>univariate, max(dS/dV) - min(dS/dV)</th>\n",
       "      <th>univariate, V_max(dS/dV)</th>\n",
       "      <th>univariate, V_min(dS/dV)</th>\n",
       "      <th>univariate, area(dS/dV)</th>\n",
       "    </tr>\n",
       "  </thead>\n",
       "  <tbody>\n",
       "    <tr>\n",
       "      <th>ML1</th>\n",
       "      <td>0.43397</td>\n",
       "      <td>0.36379</td>\n",
       "      <td>0.72790</td>\n",
       "      <td>0.51502</td>\n",
       "      <td>0.34075</td>\n",
       "      <td>0.43292</td>\n",
       "      <td>0.34182</td>\n",
       "      <td>0.33216</td>\n",
       "      <td>0.68507</td>\n",
       "      <td>0.32142</td>\n",
       "      <td>0.57443</td>\n",
       "      <td>0.72179</td>\n",
       "      <td>0.34077</td>\n",
       "    </tr>\n",
       "    <tr>\n",
       "      <th>ML2</th>\n",
       "      <td>0.38532</td>\n",
       "      <td>0.32989</td>\n",
       "      <td>0.65874</td>\n",
       "      <td>0.43553</td>\n",
       "      <td>0.30043</td>\n",
       "      <td>0.38747</td>\n",
       "      <td>0.30137</td>\n",
       "      <td>0.29186</td>\n",
       "      <td>0.73210</td>\n",
       "      <td>0.27443</td>\n",
       "      <td>0.38335</td>\n",
       "      <td>0.69674</td>\n",
       "      <td>0.30043</td>\n",
       "    </tr>\n",
       "    <tr>\n",
       "      <th>ML4</th>\n",
       "      <td>0.37218</td>\n",
       "      <td>0.41802</td>\n",
       "      <td>0.50867</td>\n",
       "      <td>0.47723</td>\n",
       "      <td>0.36204</td>\n",
       "      <td>0.37367</td>\n",
       "      <td>0.35164</td>\n",
       "      <td>0.37124</td>\n",
       "      <td>0.63783</td>\n",
       "      <td>0.36483</td>\n",
       "      <td>0.51187</td>\n",
       "      <td>0.60765</td>\n",
       "      <td>0.36200</td>\n",
       "    </tr>\n",
       "  </tbody>\n",
       "</table>\n",
       "</div>"
      ],
      "text/plain": [
       "     univariate, area(S)  peak curvature  univariate, V_max(S)  vcenter  \\\n",
       "ML1              0.43397         0.36379               0.72790  0.51502   \n",
       "ML2              0.38532         0.32989               0.65874  0.43553   \n",
       "ML4              0.37218         0.41802               0.50867  0.47723   \n",
       "\n",
       "     univariate, max(S)  univariate, mean(S)  univariate, std(S)  \\\n",
       "ML1             0.34075              0.43292             0.34182   \n",
       "ML2             0.30043              0.38747             0.30137   \n",
       "ML4             0.36204              0.37367             0.35164   \n",
       "\n",
       "     univariate, max(dS/dV)  univariate, min(dS/dV)  \\\n",
       "ML1                 0.33216                 0.68507   \n",
       "ML2                 0.29186                 0.73210   \n",
       "ML4                 0.37124                 0.63783   \n",
       "\n",
       "     univariate, max(dS/dV) - min(dS/dV)  univariate, V_max(dS/dV)  \\\n",
       "ML1                              0.32142                   0.57443   \n",
       "ML2                              0.27443                   0.38335   \n",
       "ML4                              0.36483                   0.51187   \n",
       "\n",
       "     univariate, V_min(dS/dV)  univariate, area(dS/dV)  \n",
       "ML1                   0.72179                  0.34077  \n",
       "ML2                   0.69674                  0.30043  \n",
       "ML4                   0.60765                  0.36200  "
      ]
     },
     "execution_count": 44,
     "metadata": {},
     "output_type": "execute_result"
    }
   ],
   "source": [
    "df = pd.DataFrame([ML1_X.mean(axis=0).values, ML2_X.mean(axis=0).values, ML4_X.mean(axis=0).values], columns=ML1_X.columns).round(5)\n",
    "df.index= ['ML1', 'ML2', 'ML4']\n",
    "df"
   ]
  },
  {
   "cell_type": "code",
   "execution_count": 45,
   "id": "0583da0f-6a6f-4cc7-a7c7-2ac442e35726",
   "metadata": {},
   "outputs": [
    {
     "data": {
      "text/html": [
       "<div>\n",
       "<style scoped>\n",
       "    .dataframe tbody tr th:only-of-type {\n",
       "        vertical-align: middle;\n",
       "    }\n",
       "\n",
       "    .dataframe tbody tr th {\n",
       "        vertical-align: top;\n",
       "    }\n",
       "\n",
       "    .dataframe thead th {\n",
       "        text-align: right;\n",
       "    }\n",
       "</style>\n",
       "<table border=\"1\" class=\"dataframe\">\n",
       "  <thead>\n",
       "    <tr style=\"text-align: right;\">\n",
       "      <th></th>\n",
       "      <th>univariate, area(S)</th>\n",
       "      <th>peak curvature</th>\n",
       "      <th>univariate, V_max(S)</th>\n",
       "      <th>vcenter</th>\n",
       "      <th>univariate, max(S)</th>\n",
       "      <th>univariate, mean(S)</th>\n",
       "      <th>univariate, std(S)</th>\n",
       "      <th>univariate, max(dS/dV)</th>\n",
       "      <th>univariate, min(dS/dV)</th>\n",
       "      <th>univariate, max(dS/dV) - min(dS/dV)</th>\n",
       "      <th>univariate, V_max(dS/dV)</th>\n",
       "      <th>univariate, V_min(dS/dV)</th>\n",
       "      <th>univariate, area(dS/dV)</th>\n",
       "    </tr>\n",
       "  </thead>\n",
       "  <tbody>\n",
       "    <tr>\n",
       "      <th>ML1</th>\n",
       "      <td>0.23716</td>\n",
       "      <td>0.23561</td>\n",
       "      <td>0.20377</td>\n",
       "      <td>0.29046</td>\n",
       "      <td>0.26646</td>\n",
       "      <td>0.23735</td>\n",
       "      <td>0.26847</td>\n",
       "      <td>0.27661</td>\n",
       "      <td>0.26672</td>\n",
       "      <td>0.27190</td>\n",
       "      <td>0.22071</td>\n",
       "      <td>0.16980</td>\n",
       "      <td>0.26649</td>\n",
       "    </tr>\n",
       "    <tr>\n",
       "      <th>ML2</th>\n",
       "      <td>0.21036</td>\n",
       "      <td>0.23259</td>\n",
       "      <td>0.19611</td>\n",
       "      <td>0.26487</td>\n",
       "      <td>0.23379</td>\n",
       "      <td>0.21030</td>\n",
       "      <td>0.23299</td>\n",
       "      <td>0.23245</td>\n",
       "      <td>0.22624</td>\n",
       "      <td>0.22978</td>\n",
       "      <td>0.16303</td>\n",
       "      <td>0.17346</td>\n",
       "      <td>0.23380</td>\n",
       "    </tr>\n",
       "    <tr>\n",
       "      <th>ML4</th>\n",
       "      <td>0.26369</td>\n",
       "      <td>0.29980</td>\n",
       "      <td>0.18753</td>\n",
       "      <td>0.23001</td>\n",
       "      <td>0.28488</td>\n",
       "      <td>0.26367</td>\n",
       "      <td>0.27759</td>\n",
       "      <td>0.28777</td>\n",
       "      <td>0.29404</td>\n",
       "      <td>0.29171</td>\n",
       "      <td>0.20810</td>\n",
       "      <td>0.15676</td>\n",
       "      <td>0.28488</td>\n",
       "    </tr>\n",
       "  </tbody>\n",
       "</table>\n",
       "</div>"
      ],
      "text/plain": [
       "     univariate, area(S)  peak curvature  univariate, V_max(S)  vcenter  \\\n",
       "ML1              0.23716         0.23561               0.20377  0.29046   \n",
       "ML2              0.21036         0.23259               0.19611  0.26487   \n",
       "ML4              0.26369         0.29980               0.18753  0.23001   \n",
       "\n",
       "     univariate, max(S)  univariate, mean(S)  univariate, std(S)  \\\n",
       "ML1             0.26646              0.23735             0.26847   \n",
       "ML2             0.23379              0.21030             0.23299   \n",
       "ML4             0.28488              0.26367             0.27759   \n",
       "\n",
       "     univariate, max(dS/dV)  univariate, min(dS/dV)  \\\n",
       "ML1                 0.27661                 0.26672   \n",
       "ML2                 0.23245                 0.22624   \n",
       "ML4                 0.28777                 0.29404   \n",
       "\n",
       "     univariate, max(dS/dV) - min(dS/dV)  univariate, V_max(dS/dV)  \\\n",
       "ML1                              0.27190                   0.22071   \n",
       "ML2                              0.22978                   0.16303   \n",
       "ML4                              0.29171                   0.20810   \n",
       "\n",
       "     univariate, V_min(dS/dV)  univariate, area(dS/dV)  \n",
       "ML1                   0.16980                  0.26649  \n",
       "ML2                   0.17346                  0.23380  \n",
       "ML4                   0.15676                  0.28488  "
      ]
     },
     "execution_count": 45,
     "metadata": {},
     "output_type": "execute_result"
    }
   ],
   "source": [
    "df = pd.DataFrame([ML1_X.std(axis=0).values, ML2_X.std(axis=0).values, ML4_X.std(axis=0).values], columns=ML1_X.columns).round(5)\n",
    "df.index= ['ML1', 'ML2', 'ML4']\n",
    "df"
   ]
  },
  {
   "cell_type": "markdown",
   "id": "07494a0f-fd98-4f78-a919-56d5f577d9f5",
   "metadata": {},
   "source": [
    "It seems the mean is nearly equal to zero and std is 1"
   ]
  },
  {
   "cell_type": "code",
   "execution_count": 46,
   "id": "111652f5-77b8-4847-b71c-e6b328ba4bf4",
   "metadata": {},
   "outputs": [],
   "source": [
    "# perform stratified train test split\n",
    "X                = pd.concat([ML1_X, ML2_X, ML4_X], axis=0)\n",
    "y                = ML1_y.values.tolist() + ML2_y.values.tolist() + ML4_y.values.tolist()\n",
    "stratified_label = ML1_y.map(lambda x: f'ML1_{x}').values.tolist() + ML2_y.map(lambda x: f'ML2_{x}').values.tolist() + ML4_y.map(lambda x: f'ML4_{x}').values.tolist()\n",
    "\n",
    "X_train, X_test, y_train_strat, y_test_strat = train_test_split(X, stratified_label, test_size=0.4, shuffle=True, random_state=20, stratify=stratified_label)\n",
    "y_train, y_test = pd.Series(y_train_strat).map(lambda x: eval(x.split('_')[1])), pd.Series(y_test_strat).map(lambda x: eval(x.split('_')[1]))"
   ]
  },
  {
   "cell_type": "markdown",
   "id": "a6329025-96f6-4d9e-9d1e-09cf74432376",
   "metadata": {},
   "source": [
    "## Verify training and testing distribution"
   ]
  },
  {
   "cell_type": "code",
   "execution_count": 47,
   "id": "778ab178-5f7d-4cf3-8b90-f649dc4fb563",
   "metadata": {},
   "outputs": [],
   "source": [
    "# Verify the percentage of labels and batch\n",
    "train_dist = verify_batch_label_dist(y_train_strat)\n",
    "test_dist  = verify_batch_label_dist(y_test_strat)"
   ]
  },
  {
   "cell_type": "code",
   "execution_count": 48,
   "id": "84fe1221-14e3-4a92-9511-a4fdd341f2ce",
   "metadata": {},
   "outputs": [
    {
     "name": "stderr",
     "output_type": "stream",
     "text": [
      "/Users/sangam/miniconda3/envs/vgramreg/lib/python3.9/site-packages/sklearn/linear_model/_coordinate_descent.py:697: ConvergenceWarning: Objective did not converge. You might want to increase the number of iterations, check the scale of the features or consider increasing regularisation. Duality gap: 8.397e+00, tolerance: 7.351e-01\n",
      "  model = cd_fast.enet_coordinate_descent(\n"
     ]
    }
   ],
   "source": [
    "# List of models\n",
    "models = ['Linear', 'KNN', 'SVM', 'RF', 'GP', 'Ridge', 'Lasso', 'univariate, std(S)', 'univariate, max(dS/dV)', 'univariate, area(dS/dV)', 'univariate, area(S)', 'univariate, max(S)']\n",
    "\n",
    "# Calcualte y_LOD\n",
    "y_LOD = 0.9117010154341669 #calculate_y_LOD(X_testing, y_testing)\n",
    "#print(\"y_LOD\", y_LOD)\n",
    "\n",
    "kf = KFold(n_splits=5)\n",
    "\n",
    "r2_score_val,  per_diff_val  = {'Models':[], 'Scores':[]}, {'Models':[], 'Scores':[]}\n",
    "r2_score_test, per_diff_test = {'Models':[], 'Scores':[]}, {'Models':[], 'Scores':[]}\n",
    "\n",
    "for model_name in models:\n",
    "    model    = select_model(model_name)\n",
    "\n",
    "    val_r2     = calculate_r2_score(model, X_train[models_features_r2[model_name]],  y_train, kf)\n",
    "    val_per    = calculate_per_diff(model, X_train[models_features_per[model_name]], y_train, kf, y_LOD)\n",
    "\n",
    "    r2_score_val['Scores'].append(val_r2)\n",
    "    per_diff_val['Scores'].append(val_per)\n",
    "\n",
    "    model_r2  = clone(model)\n",
    "    model_r2.fit(X_train[models_features_r2[model_name]], y_train)\n",
    "    y_pred_r2 = model_r2.predict(X_test[models_features_r2[model_name]])\n",
    "\n",
    "    r2_test_score = r2_score(y_test, y_pred_r2)\n",
    "    adj_r2_test   = find_adj_score(len(y_pred_r2), len(models_features_r2[model_name]), r2_test_score)\n",
    "    \n",
    "    r2_score_test['Scores'].append((r2_test_score, adj_r2_test))\n",
    "\n",
    "    model_per_diff = clone(model)\n",
    "    model_per_diff.fit(X_train[models_features_per[model_name]], y_train)\n",
    "    y_pred_per_diff = model_per_diff.predict(X_test[models_features_per[model_name]])\n",
    "    \n",
    "    per_diff_test['Scores'].append(per_error(y_test, y_pred_per_diff, y_LOD))\n",
    "\n",
    "    r2_score_val['Models'].append(model_name)\n",
    "    per_diff_val['Models'].append(model_name) \n",
    "    r2_score_test['Models'].append(model_name)\n",
    "    per_diff_test['Models'].append(model_name)\n"
   ]
  },
  {
   "cell_type": "code",
   "execution_count": 49,
   "id": "3be579ca-f597-4676-87d2-af39ad241273",
   "metadata": {},
   "outputs": [
    {
     "data": {
      "text/plain": [
       "<Figure size 640x480 with 0 Axes>"
      ]
     },
     "metadata": {},
     "output_type": "display_data"
    },
    {
     "data": {
      "text/plain": [
       "<Figure size 640x480 with 0 Axes>"
      ]
     },
     "metadata": {},
     "output_type": "display_data"
    },
    {
     "data": {
      "text/plain": [
       "<Figure size 640x480 with 0 Axes>"
      ]
     },
     "metadata": {},
     "output_type": "display_data"
    },
    {
     "data": {
      "text/plain": [
       "<Figure size 640x480 with 0 Axes>"
      ]
     },
     "metadata": {},
     "output_type": "display_data"
    }
   ],
   "source": [
    "savedir   = f'../results/combined_ML1_ML2_ML4/{standardize_type}'\n",
    "adj_score = False\n",
    "\n",
    "os.makedirs(savedir, exist_ok=True)\n",
    "\n",
    "visualization_testing_dataset(r2_score_val,  f'{savedir}/r2_score_val.png',   model_name_conversion, only_one_multivariate=False, adj_score=adj_score, legends=True)\n",
    "visualization_testing_dataset(per_diff_val, f'{savedir}/per_error_val.png', model_name_conversion, only_one_multivariate=False, r2_score=False, adj_score=False, legends=True)\n",
    "\n",
    "visualization_testing_dataset(r2_score_test,  f'{savedir}/r2_score_test.png',   model_name_conversion, only_one_multivariate=False, adj_score=adj_score, legends=True)\n",
    "visualization_testing_dataset(per_diff_test, f'{savedir}/per_error_test.png', model_name_conversion, only_one_multivariate=False, r2_score=False, adj_score=False, legends=True)"
   ]
  },
  {
   "cell_type": "code",
   "execution_count": null,
   "id": "eba67438-f6ad-4fe1-b6fe-20bb654afa47",
   "metadata": {},
   "outputs": [],
   "source": []
  }
 ],
 "metadata": {
  "kernelspec": {
   "display_name": "Python 3 (ipykernel)",
   "language": "python",
   "name": "python3"
  },
  "language_info": {
   "codemirror_mode": {
    "name": "ipython",
    "version": 3
   },
   "file_extension": ".py",
   "mimetype": "text/x-python",
   "name": "python",
   "nbconvert_exporter": "python",
   "pygments_lexer": "ipython3",
   "version": "3.9.19"
  }
 },
 "nbformat": 4,
 "nbformat_minor": 5
}
