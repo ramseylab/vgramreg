{
 "cells": [
  {
   "cell_type": "markdown",
   "id": "d127e70d-b3d8-46e7-9180-158dcc6873ed",
   "metadata": {},
   "source": [
    "## Combining ML1 ML2 and ML4 dataset after removing Batch Effect\n",
    "### Experiments:\n",
    "1. Z-score normalization independently on each dataset and combine dataset with stratified (label and batch).\n",
    "2. Split the model 60/40 train the model and test"
   ]
  },
  {
   "cell_type": "code",
   "execution_count": 64,
   "id": "7c1e5ada-21f4-48e7-a297-e828b8efdbbd",
   "metadata": {},
   "outputs": [],
   "source": [
    "import warnings\n",
    "warnings.filterwarnings('ignore')\n",
    "\n",
    "import sys\n",
    "import os\n",
    "import pandas as pd\n",
    "import numpy as np\n",
    "\n",
    "sys.path.insert(0, '../')\n",
    "\n",
    "from sklearn.manifold import TSNE\n",
    "from sklearn.decomposition import PCA\n",
    "from sklearn.preprocessing import StandardScaler\n",
    "from sklearn.model_selection import train_test_split, KFold\n",
    "from sklearn.base import clone\n",
    "from sklearn.metrics import r2_score\n",
    "\n",
    "from src.load_dataset import load_dataset\n",
    "from src.utils import tsen_pca_viz, verify_batch_label_dist, calculate_r2_score, calculate_per_diff, per_error, find_adj_score, perform_combat_normalization\n",
    "from src.load_models import select_model\n",
    "from src.graph_visualization import visualization_testing_dataset\n",
    "from src.config import *"
   ]
  },
  {
   "cell_type": "code",
   "execution_count": 67,
   "id": "802e0562-d440-42c7-bf26-c124bf81ecd7",
   "metadata": {},
   "outputs": [
    {
     "name": "stdout",
     "output_type": "stream",
     "text": [
      "######Data Distribution:#########\n",
      "Training {0: 27, 8: 25, 16: 26}\n",
      "Testing {16: 18, 0: 17, 8: 17}\n",
      "#################################\n",
      "######Data Distribution:#########\n",
      "Training {0: 24, 8: 21, 16: 24}\n",
      "Testing {0: 16, 16: 16, 8: 15}\n",
      "#################################\n",
      "######Data Distribution:#########\n",
      "Training {0: 23, 8: 25, 16: 21}\n",
      "Testing {0: 15, 8: 16, 16: 15}\n",
      "#################################\n"
     ]
    }
   ],
   "source": [
    "# Load dataset\n",
    "normalization    = True                                    # Perform normalization\n",
    "standardize_type = 'mean_std' if normalization else 'none' # select normalization type (min_max, mean_std)\n",
    "split            = True                                    # Split batch dataset into training and testing set\n",
    "combat_norm      = False                                   # apply combat normalization\n",
    "\n",
    "\n",
    "if split:\n",
    "    (ML1_X_train, ML1_X_test, ML1_y_train, ML1_y_test), _  = load_dataset('/Users/sangam/Desktop/Epilepsey/Code/vgramreg/dataset/ML1_ML2/2024_02_19_ML1', normalization=normalization, standardize_type=standardize_type, split=split)\n",
    "    (ML2_X_train, ML2_X_test, ML2_y_train, ML2_y_test), _  = load_dataset('/Users/sangam/Desktop/Epilepsey/Code/vgramreg/dataset/ML1_ML2/2024_02_22_ML2', normalization=normalization, standardize_type=standardize_type, split=split)\n",
    "    (ML4_X_train, ML4_X_test, ML4_y_train, ML4_y_test), _  = load_dataset('/Users/sangam/Desktop/Epilepsey/Code/vgramreg/dataset/ML4', normalization=normalization, standardize_type=standardize_type, split=split)\n",
    "\n",
    "else:\n",
    "    ML1_X, ML1_y = load_dataset('/Users/sangam/Desktop/Epilepsey/Code/vgramreg/dataset/ML1_ML2/2024_02_19_ML1', normalization=normalization, standardize_type=standardize_type, split=split)\n",
    "    ML2_X, ML2_y = load_dataset('/Users/sangam/Desktop/Epilepsey/Code/vgramreg/dataset/ML1_ML2/2024_02_22_ML2', normalization=normalization, standardize_type=standardize_type, split=split)\n",
    "    ML4_X, ML4_y = load_dataset('/Users/sangam/Desktop/Epilepsey/Code/vgramreg/dataset/ML4', normalization=normalization, standardize_type=standardize_type, split=split)\n"
   ]
  },
  {
   "cell_type": "code",
   "execution_count": 68,
   "id": "de556018-ef7c-4fdb-bac9-d1ee16e346d6",
   "metadata": {},
   "outputs": [
    {
     "data": {
      "text/html": [
       "<div>\n",
       "<style scoped>\n",
       "    .dataframe tbody tr th:only-of-type {\n",
       "        vertical-align: middle;\n",
       "    }\n",
       "\n",
       "    .dataframe tbody tr th {\n",
       "        vertical-align: top;\n",
       "    }\n",
       "\n",
       "    .dataframe thead th {\n",
       "        text-align: right;\n",
       "    }\n",
       "</style>\n",
       "<table border=\"1\" class=\"dataframe\">\n",
       "  <thead>\n",
       "    <tr style=\"text-align: right;\">\n",
       "      <th></th>\n",
       "      <th>univariate, area(S)</th>\n",
       "      <th>peak curvature</th>\n",
       "      <th>univariate, V_max(S)</th>\n",
       "      <th>vcenter</th>\n",
       "      <th>univariate, max(S)</th>\n",
       "      <th>univariate, mean(S)</th>\n",
       "      <th>univariate, std(S)</th>\n",
       "      <th>univariate, max(dS/dV)</th>\n",
       "      <th>univariate, min(dS/dV)</th>\n",
       "      <th>univariate, max(dS/dV) - min(dS/dV)</th>\n",
       "      <th>univariate, V_max(dS/dV)</th>\n",
       "      <th>univariate, V_min(dS/dV)</th>\n",
       "      <th>univariate, area(dS/dV)</th>\n",
       "    </tr>\n",
       "  </thead>\n",
       "  <tbody>\n",
       "    <tr>\n",
       "      <th>ML1</th>\n",
       "      <td>0.12950</td>\n",
       "      <td>0.05843</td>\n",
       "      <td>-0.02557</td>\n",
       "      <td>-0.07528</td>\n",
       "      <td>0.10329</td>\n",
       "      <td>0.13076</td>\n",
       "      <td>0.10595</td>\n",
       "      <td>0.08654</td>\n",
       "      <td>-0.11095</td>\n",
       "      <td>0.09972</td>\n",
       "      <td>-0.22919</td>\n",
       "      <td>0.13475</td>\n",
       "      <td>0.10333</td>\n",
       "    </tr>\n",
       "    <tr>\n",
       "      <th>ML2</th>\n",
       "      <td>-0.00830</td>\n",
       "      <td>-0.00741</td>\n",
       "      <td>-0.24958</td>\n",
       "      <td>0.01885</td>\n",
       "      <td>0.00474</td>\n",
       "      <td>-0.00822</td>\n",
       "      <td>-0.00322</td>\n",
       "      <td>0.01169</td>\n",
       "      <td>-0.06804</td>\n",
       "      <td>0.04201</td>\n",
       "      <td>0.05006</td>\n",
       "      <td>0.02473</td>\n",
       "      <td>0.00460</td>\n",
       "    </tr>\n",
       "    <tr>\n",
       "      <th>ML4</th>\n",
       "      <td>0.00493</td>\n",
       "      <td>0.00368</td>\n",
       "      <td>0.09575</td>\n",
       "      <td>0.18622</td>\n",
       "      <td>0.01983</td>\n",
       "      <td>0.00535</td>\n",
       "      <td>0.00743</td>\n",
       "      <td>0.02952</td>\n",
       "      <td>-0.04404</td>\n",
       "      <td>0.03785</td>\n",
       "      <td>-0.16600</td>\n",
       "      <td>0.18082</td>\n",
       "      <td>0.01979</td>\n",
       "    </tr>\n",
       "  </tbody>\n",
       "</table>\n",
       "</div>"
      ],
      "text/plain": [
       "     univariate, area(S)  peak curvature  univariate, V_max(S)  vcenter  \\\n",
       "ML1              0.12950         0.05843              -0.02557 -0.07528   \n",
       "ML2             -0.00830        -0.00741              -0.24958  0.01885   \n",
       "ML4              0.00493         0.00368               0.09575  0.18622   \n",
       "\n",
       "     univariate, max(S)  univariate, mean(S)  univariate, std(S)  \\\n",
       "ML1             0.10329              0.13076             0.10595   \n",
       "ML2             0.00474             -0.00822            -0.00322   \n",
       "ML4             0.01983              0.00535             0.00743   \n",
       "\n",
       "     univariate, max(dS/dV)  univariate, min(dS/dV)  \\\n",
       "ML1                 0.08654                -0.11095   \n",
       "ML2                 0.01169                -0.06804   \n",
       "ML4                 0.02952                -0.04404   \n",
       "\n",
       "     univariate, max(dS/dV) - min(dS/dV)  univariate, V_max(dS/dV)  \\\n",
       "ML1                              0.09972                  -0.22919   \n",
       "ML2                              0.04201                   0.05006   \n",
       "ML4                              0.03785                  -0.16600   \n",
       "\n",
       "     univariate, V_min(dS/dV)  univariate, area(dS/dV)  \n",
       "ML1                   0.13475                  0.10333  \n",
       "ML2                   0.02473                  0.00460  \n",
       "ML4                   0.18082                  0.01979  "
      ]
     },
     "execution_count": 68,
     "metadata": {},
     "output_type": "execute_result"
    }
   ],
   "source": [
    "df = pd.DataFrame([ML1_X_test.mean(axis=0).values, ML2_X_test.mean(axis=0).values, ML4_X_test.mean(axis=0).values], columns=ML1_X_test.columns).round(5)\n",
    "df.index= ['ML1', 'ML2', 'ML4']\n",
    "df"
   ]
  },
  {
   "cell_type": "code",
   "execution_count": 69,
   "id": "0583da0f-6a6f-4cc7-a7c7-2ac442e35726",
   "metadata": {},
   "outputs": [
    {
     "data": {
      "text/html": [
       "<div>\n",
       "<style scoped>\n",
       "    .dataframe tbody tr th:only-of-type {\n",
       "        vertical-align: middle;\n",
       "    }\n",
       "\n",
       "    .dataframe tbody tr th {\n",
       "        vertical-align: top;\n",
       "    }\n",
       "\n",
       "    .dataframe thead th {\n",
       "        text-align: right;\n",
       "    }\n",
       "</style>\n",
       "<table border=\"1\" class=\"dataframe\">\n",
       "  <thead>\n",
       "    <tr style=\"text-align: right;\">\n",
       "      <th></th>\n",
       "      <th>univariate, area(S)</th>\n",
       "      <th>peak curvature</th>\n",
       "      <th>univariate, V_max(S)</th>\n",
       "      <th>vcenter</th>\n",
       "      <th>univariate, max(S)</th>\n",
       "      <th>univariate, mean(S)</th>\n",
       "      <th>univariate, std(S)</th>\n",
       "      <th>univariate, max(dS/dV)</th>\n",
       "      <th>univariate, min(dS/dV)</th>\n",
       "      <th>univariate, max(dS/dV) - min(dS/dV)</th>\n",
       "      <th>univariate, V_max(dS/dV)</th>\n",
       "      <th>univariate, V_min(dS/dV)</th>\n",
       "      <th>univariate, area(dS/dV)</th>\n",
       "    </tr>\n",
       "  </thead>\n",
       "  <tbody>\n",
       "    <tr>\n",
       "      <th>ML1</th>\n",
       "      <td>0.96649</td>\n",
       "      <td>1.03856</td>\n",
       "      <td>0.99191</td>\n",
       "      <td>0.98525</td>\n",
       "      <td>0.98737</td>\n",
       "      <td>0.96699</td>\n",
       "      <td>0.99199</td>\n",
       "      <td>0.99208</td>\n",
       "      <td>1.00866</td>\n",
       "      <td>0.99968</td>\n",
       "      <td>1.18277</td>\n",
       "      <td>0.76339</td>\n",
       "      <td>0.98739</td>\n",
       "    </tr>\n",
       "    <tr>\n",
       "      <th>ML2</th>\n",
       "      <td>0.98246</td>\n",
       "      <td>0.99046</td>\n",
       "      <td>1.39412</td>\n",
       "      <td>1.01600</td>\n",
       "      <td>1.00279</td>\n",
       "      <td>0.98121</td>\n",
       "      <td>1.00018</td>\n",
       "      <td>1.01970</td>\n",
       "      <td>1.05773</td>\n",
       "      <td>1.04023</td>\n",
       "      <td>0.89150</td>\n",
       "      <td>1.00402</td>\n",
       "      <td>1.00284</td>\n",
       "    </tr>\n",
       "    <tr>\n",
       "      <th>ML4</th>\n",
       "      <td>1.03253</td>\n",
       "      <td>1.08707</td>\n",
       "      <td>0.88672</td>\n",
       "      <td>1.10064</td>\n",
       "      <td>1.05590</td>\n",
       "      <td>1.03197</td>\n",
       "      <td>1.06167</td>\n",
       "      <td>1.08289</td>\n",
       "      <td>1.09238</td>\n",
       "      <td>1.08857</td>\n",
       "      <td>0.99703</td>\n",
       "      <td>0.77637</td>\n",
       "      <td>1.05593</td>\n",
       "    </tr>\n",
       "  </tbody>\n",
       "</table>\n",
       "</div>"
      ],
      "text/plain": [
       "     univariate, area(S)  peak curvature  univariate, V_max(S)  vcenter  \\\n",
       "ML1              0.96649         1.03856               0.99191  0.98525   \n",
       "ML2              0.98246         0.99046               1.39412  1.01600   \n",
       "ML4              1.03253         1.08707               0.88672  1.10064   \n",
       "\n",
       "     univariate, max(S)  univariate, mean(S)  univariate, std(S)  \\\n",
       "ML1             0.98737              0.96699             0.99199   \n",
       "ML2             1.00279              0.98121             1.00018   \n",
       "ML4             1.05590              1.03197             1.06167   \n",
       "\n",
       "     univariate, max(dS/dV)  univariate, min(dS/dV)  \\\n",
       "ML1                 0.99208                 1.00866   \n",
       "ML2                 1.01970                 1.05773   \n",
       "ML4                 1.08289                 1.09238   \n",
       "\n",
       "     univariate, max(dS/dV) - min(dS/dV)  univariate, V_max(dS/dV)  \\\n",
       "ML1                              0.99968                   1.18277   \n",
       "ML2                              1.04023                   0.89150   \n",
       "ML4                              1.08857                   0.99703   \n",
       "\n",
       "     univariate, V_min(dS/dV)  univariate, area(dS/dV)  \n",
       "ML1                   0.76339                  0.98739  \n",
       "ML2                   1.00402                  1.00284  \n",
       "ML4                   0.77637                  1.05593  "
      ]
     },
     "execution_count": 69,
     "metadata": {},
     "output_type": "execute_result"
    }
   ],
   "source": [
    "df = pd.DataFrame([ML1_X_test.std(axis=0).values, ML2_X_test.std(axis=0).values, ML4_X_test.std(axis=0).values], columns=ML1_X_test.columns).round(5)\n",
    "df.index= ['ML1', 'ML2', 'ML4']\n",
    "df"
   ]
  },
  {
   "cell_type": "code",
   "execution_count": 70,
   "id": "772bf378-cebf-4b99-9c2d-6d04ee855268",
   "metadata": {},
   "outputs": [],
   "source": [
    "if combat_norm:\n",
    "    (ML1_X_train, ML2_X_train, ML4_X_train), batch_labels, combat = perform_combat_normalization([ML1_X_train, ML2_X_train, ML4_X_train], dataset_name=['ML1', 'ML2', 'ML4'])\n",
    "    labels               = ML1_y_train.values.tolist() + ML2_y_train.values.tolist() + ML4_y_train.values.tolist()\n",
    "    tsen_pca_viz([ML1_X_train, ML2_X_train, ML4_X_train], batch_labels, labels)\n",
    "\n",
    "    "
   ]
  },
  {
   "cell_type": "markdown",
   "id": "07494a0f-fd98-4f78-a919-56d5f577d9f5",
   "metadata": {},
   "source": [
    "It seems the mean is nearly equal to zero and std is 1"
   ]
  },
  {
   "cell_type": "code",
   "execution_count": 71,
   "id": "111652f5-77b8-4847-b71c-e6b328ba4bf4",
   "metadata": {},
   "outputs": [],
   "source": [
    "# perform stratified train test split\n",
    "if split==False:\n",
    "    X                = pd.concat([ML1_X, ML2_X, ML4_X], axis=0)\n",
    "    y                = ML1_y.values.tolist() + ML2_y.values.tolist() + ML4_y.values.tolist()\n",
    "    stratified_label = ML1_y.map(lambda x: f'ML1_{x}').values.tolist() + ML2_y.map(lambda x: f'ML2_{x}').values.tolist() + ML4_y.map(lambda x: f'ML4_{x}').values.tolist()\n",
    "    \n",
    "    X_train, X_test, y_train_strat, y_test_strat = train_test_split(X, stratified_label, test_size=0.4, shuffle=True, random_state=20, stratify=stratified_label)\n",
    "    y_train, y_test = pd.Series(y_train_strat).map(lambda x: eval(x.split('_')[1])), pd.Series(y_test_strat).map(lambda x: eval(x.split('_')[1]))\n",
    "\n",
    "else:\n",
    "    y_train_strat = ML1_y_train.map(lambda x: f'ML1_{x}').values.tolist() + ML2_y_train.map(lambda x: f'ML2_{x}').values.tolist() + ML4_y_train.map(lambda x: f'ML4_{x}').values.tolist()\n",
    "    y_test_strat  = ML1_y_test.map(lambda x: f'ML1_{x}').values.tolist() + ML2_y_test.map(lambda x: f'ML2_{x}').values.tolist() + ML4_y_test.map(lambda x: f'ML4_{x}').values.tolist()\n",
    "\n",
    "    # Combine ML1, ML2, and ML4 dataset\n",
    "    X_train, X_test, y_train, y_test =  pd.concat([ML1_X_train, ML2_X_train, ML4_X_train], axis=0).reset_index(drop=True), \\\n",
    "                                        pd.concat([ML1_X_test,  ML2_X_test,  ML4_X_test],  axis=0).reset_index(drop=True), \\\n",
    "                                        pd.concat([ML1_y_train, ML2_y_train, ML4_y_train], axis=0).reset_index(drop=True), \\\n",
    "                                        pd.concat([ML1_y_test,  ML2_y_test,  ML4_y_test],  axis=0).reset_index(drop=True)\n",
    "\n",
    "    # Create shuffling index with random choice\n",
    "    shuffle_ind_train = np.random.choice(range(len(X_train)), len(X_train), replace=False)\n",
    "    assert len(np.unique(shuffle_ind_train))==len(X_train)\n",
    "    \n",
    "    shuffle_ind_test = np.random.choice(range(len(X_test)), len(X_test), replace=False)\n",
    "    assert len(np.unique(shuffle_ind_test))==len(X_test)\n",
    "\n",
    "    # Shuffle training dataset\n",
    "    X_train, y_train = X_train.iloc[shuffle_ind_train], y_train.iloc[shuffle_ind_train]\n",
    "    X_test,  y_test  = X_test.iloc[shuffle_ind_test],   y_test.iloc[shuffle_ind_test]\n",
    "\n",
    "    # Check if the labels and features have same index after shuffling\n",
    "    assert X_train.index.tolist()==y_train.index.tolist()\n",
    "    assert X_test.index.tolist()==y_test.index.tolist()\n",
    "    "
   ]
  },
  {
   "cell_type": "markdown",
   "id": "a6329025-96f6-4d9e-9d1e-09cf74432376",
   "metadata": {},
   "source": [
    "## Verify training and testing distribution"
   ]
  },
  {
   "cell_type": "code",
   "execution_count": 73,
   "id": "778ab178-5f7d-4cf3-8b90-f649dc4fb563",
   "metadata": {},
   "outputs": [
    {
     "name": "stdout",
     "output_type": "stream",
     "text": [
      "              y\n",
      "batch label    \n",
      "ML1   0      27\n",
      "      16     26\n",
      "      8      25\n",
      "ML2   0      24\n",
      "      16     24\n",
      "      8      21\n",
      "ML4   0      23\n",
      "      16     21\n",
      "      8      25\n",
      "              y\n",
      "batch label    \n",
      "ML1   0      17\n",
      "      16     18\n",
      "      8      17\n",
      "ML2   0      16\n",
      "      16     16\n",
      "      8      15\n",
      "ML4   0      15\n",
      "      16     15\n",
      "      8      16\n"
     ]
    }
   ],
   "source": [
    "# Verify the percentage of labels and batch\n",
    "train_dist = verify_batch_label_dist(y_train_strat)\n",
    "test_dist  = verify_batch_label_dist(y_test_strat)\n",
    "\n",
    "print(train_dist)\n",
    "print(test_dist)"
   ]
  },
  {
   "cell_type": "code",
   "execution_count": 74,
   "id": "84fe1221-14e3-4a92-9511-a4fdd341f2ce",
   "metadata": {},
   "outputs": [],
   "source": [
    "# List of models\n",
    "models = ['Linear', 'KNN', 'SVM', 'RF', 'GP', 'Ridge', 'Lasso', 'univariate, std(S)', 'univariate, max(dS/dV)', 'univariate, area(dS/dV)', 'univariate, area(S)', 'univariate, max(S)']\n",
    "\n",
    "# Calcualte y_LOD\n",
    "y_LOD = 0.9117010154341669 #calculate_y_LOD(X_testing, y_testing)\n",
    "#print(\"y_LOD\", y_LOD)\n",
    "\n",
    "kf = KFold(n_splits=5)\n",
    "\n",
    "r2_score_val,  per_diff_val  = {'Models':[], 'Scores':[]}, {'Models':[], 'Scores':[]}\n",
    "r2_score_test, per_diff_test = {'Models':[], 'Scores':[]}, {'Models':[], 'Scores':[]}\n",
    "\n",
    "for model_name in models:\n",
    "    model    = select_model(model_name)\n",
    "\n",
    "    val_r2     = calculate_r2_score(model, X_train[models_features_r2[model_name]],  y_train, kf)\n",
    "    val_per    = calculate_per_diff(model, X_train[models_features_per[model_name]], y_train, kf, y_LOD)\n",
    "\n",
    "    r2_score_val['Scores'].append(val_r2)\n",
    "    per_diff_val['Scores'].append(val_per)\n",
    "\n",
    "    model_r2  = clone(model)\n",
    "    model_r2.fit(X_train[models_features_r2[model_name]], y_train)\n",
    "    y_pred_r2 = model_r2.predict(X_test[models_features_r2[model_name]])\n",
    "\n",
    "    r2_test_score = r2_score(y_test, y_pred_r2)\n",
    "    adj_r2_test   = find_adj_score(len(y_pred_r2), len(models_features_r2[model_name]), r2_test_score)\n",
    "    \n",
    "    r2_score_test['Scores'].append((r2_test_score, adj_r2_test))\n",
    "\n",
    "    model_per_diff = clone(model)\n",
    "    model_per_diff.fit(X_train[models_features_per[model_name]], y_train)\n",
    "    y_pred_per_diff = model_per_diff.predict(X_test[models_features_per[model_name]])\n",
    "    \n",
    "    per_diff_test['Scores'].append(per_error(y_test, y_pred_per_diff, y_LOD))\n",
    "\n",
    "    r2_score_val['Models'].append(model_name)\n",
    "    per_diff_val['Models'].append(model_name) \n",
    "    r2_score_test['Models'].append(model_name)\n",
    "    per_diff_test['Models'].append(model_name)\n"
   ]
  },
  {
   "cell_type": "code",
   "execution_count": 75,
   "id": "3be579ca-f597-4676-87d2-af39ad241273",
   "metadata": {},
   "outputs": [
    {
     "data": {
      "text/plain": [
       "<Figure size 640x480 with 0 Axes>"
      ]
     },
     "metadata": {},
     "output_type": "display_data"
    },
    {
     "data": {
      "text/plain": [
       "<Figure size 640x480 with 0 Axes>"
      ]
     },
     "metadata": {},
     "output_type": "display_data"
    },
    {
     "data": {
      "text/plain": [
       "<Figure size 640x480 with 0 Axes>"
      ]
     },
     "metadata": {},
     "output_type": "display_data"
    },
    {
     "data": {
      "text/plain": [
       "<Figure size 640x480 with 0 Axes>"
      ]
     },
     "metadata": {},
     "output_type": "display_data"
    }
   ],
   "source": [
    "savedir   = f'../results/combined_ML1_ML2_ML4/{standardize_type}_CombatNorm_{combat_norm}'\n",
    "adj_score = False\n",
    "\n",
    "os.makedirs(savedir, exist_ok=True)\n",
    "\n",
    "visualization_testing_dataset(r2_score_val,  f'{savedir}/r2_score_val.png',   model_name_conversion, only_one_multivariate=False, adj_score=adj_score, legends=True)\n",
    "visualization_testing_dataset(per_diff_val, f'{savedir}/per_error_val.png', model_name_conversion, only_one_multivariate=False, r2_score=False, adj_score=False, legends=True)\n",
    "\n",
    "visualization_testing_dataset(r2_score_test,  f'{savedir}/r2_score_test.png',   model_name_conversion, only_one_multivariate=False, adj_score=adj_score, legends=True)\n",
    "visualization_testing_dataset(per_diff_test, f'{savedir}/per_error_test.png', model_name_conversion, only_one_multivariate=False, r2_score=False, adj_score=False, legends=True)"
   ]
  },
  {
   "cell_type": "code",
   "execution_count": null,
   "id": "7128fe1b-dd16-423a-95e0-4e59dcb9f7ba",
   "metadata": {},
   "outputs": [],
   "source": []
  }
 ],
 "metadata": {
  "kernelspec": {
   "display_name": "Python 3 (ipykernel)",
   "language": "python",
   "name": "python3"
  },
  "language_info": {
   "codemirror_mode": {
    "name": "ipython",
    "version": 3
   },
   "file_extension": ".py",
   "mimetype": "text/x-python",
   "name": "python",
   "nbconvert_exporter": "python",
   "pygments_lexer": "ipython3",
   "version": "3.9.19"
  }
 },
 "nbformat": 4,
 "nbformat_minor": 5
}
