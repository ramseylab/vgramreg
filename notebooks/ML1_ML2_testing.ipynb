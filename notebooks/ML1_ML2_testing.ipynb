{
 "cells": [
  {
   "cell_type": "code",
   "execution_count": 1,
   "id": "e884b94f-f446-4df1-9da0-9079c0b319cd",
   "metadata": {},
   "outputs": [],
   "source": [
    "import sys\n",
    "sys.path.insert(0, '../')\n",
    "\n",
    "from src.config import *\n",
    "\n",
    "from src.load_dataset import load_dataset\n",
    "from src.feature_selection import ModelSelection"
   ]
  },
  {
   "cell_type": "code",
   "execution_count": 8,
   "id": "d708dc53-a7e0-4934-903b-4520c6f35f9e",
   "metadata": {},
   "outputs": [
    {
     "name": "stdout",
     "output_type": "stream",
     "text": [
      "######Data Distribution:#########\n",
      "Training {0: 50, 16: 50, 8: 47}\n",
      "Testing {0: 34, 8: 31, 16: 34}\n",
      "#################################\n"
     ]
    }
   ],
   "source": [
    " # Load Training Dataset\n",
    "(X_train, X_test, y_train, y_test ),_= load_dataset(standardize_type='mean_std')"
   ]
  },
  {
   "cell_type": "code",
   "execution_count": 7,
   "id": "7849192c-41a2-4fba-a99c-aeea1e8d402a",
   "metadata": {},
   "outputs": [
    {
     "data": {
      "text/plain": [
       "0      2024_02_22_cbz00_22.txt\n",
       "1      2024_02_19_cbz16_20.txt\n",
       "2      2024_02_19_cbz00_31.txt\n",
       "3      2024_02_19_cbz16_35.txt\n",
       "4      2024_02_22_cbz16_34.txt\n",
       "                ...           \n",
       "142    2024_02_22_cbz00_29.txt\n",
       "143    2024_02_22_cbz16_22.txt\n",
       "144    2024_02_19_cbz08_44.txt\n",
       "145    2024_02_22_cbz00_06.txt\n",
       "146    2024_02_19_cbz16_26.txt\n",
       "Name: file, Length: 147, dtype: object"
      ]
     },
     "execution_count": 7,
     "metadata": {},
     "output_type": "execute_result"
    }
   ],
   "source": [
    "y_train"
   ]
  },
  {
   "cell_type": "code",
   "execution_count": null,
   "id": "395337d5-dac3-4b6e-8fa2-87eed9344970",
   "metadata": {},
   "outputs": [],
   "source": []
  }
 ],
 "metadata": {
  "kernelspec": {
   "display_name": "Python 3 (ipykernel)",
   "language": "python",
   "name": "python3"
  },
  "language_info": {
   "codemirror_mode": {
    "name": "ipython",
    "version": 3
   },
   "file_extension": ".py",
   "mimetype": "text/x-python",
   "name": "python",
   "nbconvert_exporter": "python",
   "pygments_lexer": "ipython3",
   "version": "3.9.19"
  }
 },
 "nbformat": 4,
 "nbformat_minor": 5
}
